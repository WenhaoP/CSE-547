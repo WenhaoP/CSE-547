{
 "cells": [
  {
   "cell_type": "code",
   "execution_count": 2,
   "metadata": {},
   "outputs": [],
   "source": [
    "# Import the libraries we will need\n",
    "import pandas as pd\n",
    "import numpy as np\n",
    "import matplotlib.pyplot as plt\n",
    "%matplotlib inline\n",
    "\n",
    "import findspark\n",
    "findspark.init()\n",
    "\n",
    "import pyspark\n",
    "from pyspark.sql import *\n",
    "from pyspark.sql.functions import *\n",
    "from pyspark import SparkContext, SparkConf\n",
    "\n",
    "# create the Spark Session\n",
    "spark = SparkSession.builder.appName(\"MySparkApp\").getOrCreate()\n",
    "\n",
    "# # create the Spark Context\n",
    "# sc = spark.sparkContext"
   ]
  },
  {
   "cell_type": "code",
   "execution_count": 5,
   "metadata": {},
   "outputs": [],
   "source": [
    "friend = spark.read.csv(\"Data/soc-LiveJournal1Adj.txt\", sep='\\t')\n",
    "friend = friend.select(col(\"_c0\").alias(\"User\"), col(\"_c1\").alias(\"Friends\"))"
   ]
  },
  {
   "cell_type": "code",
   "execution_count": 6,
   "metadata": {},
   "outputs": [
    {
     "name": "stdout",
     "output_type": "stream",
     "text": [
      "+----+--------------------+\n",
      "|User|             Friends|\n",
      "+----+--------------------+\n",
      "|   0|1,2,3,4,5,6,7,8,9...|\n",
      "|   1|0,5,20,135,2409,8...|\n",
      "|   2|0,117,135,1220,27...|\n",
      "|   3|0,12,41,55,1532,1...|\n",
      "|   4|0,8,14,15,18,27,7...|\n",
      "|   5|0,1,20,2022,22939...|\n",
      "|   6|0,21,98,2203,3238...|\n",
      "|   7|0,31993,40218,404...|\n",
      "|   8|0,4,38,46,72,85,2...|\n",
      "|   9|  0,6085,18972,19269|\n",
      "|  10|0,12,16,30,6027,1...|\n",
      "|  11|0,1754,6027,7789,...|\n",
      "|  12|0,3,10,16,29,38,4...|\n",
      "|  13|0,12584,32064,27,...|\n",
      "|  14|0,4,19,19079,4269...|\n",
      "|  15|           0,4,27,80|\n",
      "|  16|0,10,12,18,30,38,...|\n",
      "|  17|0,19,26,28,95,128...|\n",
      "|  18|0,4,16,30,89,2406...|\n",
      "|  19|0,14,17,439,1100,...|\n",
      "+----+--------------------+\n",
      "only showing top 20 rows\n",
      "\n"
     ]
    }
   ],
   "source": [
    "friend.show()"
   ]
  },
  {
   "cell_type": "code",
   "execution_count": 2,
   "metadata": {},
   "outputs": [
    {
     "data": {
      "text/plain": [
       "'c:\\\\Users\\\\Wenhao\\\\miniconda3\\\\envs\\\\cse-547\\\\Lib\\\\site-packages\\\\pyspark'"
      ]
     },
     "execution_count": 2,
     "metadata": {},
     "output_type": "execute_result"
    }
   ],
   "source": [
    "findspark.find()"
   ]
  },
  {
   "cell_type": "code",
   "execution_count": null,
   "metadata": {},
   "outputs": [],
   "source": []
  }
 ],
 "metadata": {
  "kernelspec": {
   "display_name": "cse-547",
   "language": "python",
   "name": "python3"
  },
  "language_info": {
   "codemirror_mode": {
    "name": "ipython",
    "version": 3
   },
   "file_extension": ".py",
   "mimetype": "text/x-python",
   "name": "python",
   "nbconvert_exporter": "python",
   "pygments_lexer": "ipython3",
   "version": "3.12.2"
  }
 },
 "nbformat": 4,
 "nbformat_minor": 2
}
