{
 "cells": [
  {
   "cell_type": "code",
   "execution_count": 1,
   "metadata": {},
   "outputs": [],
   "source": [
    "import pyarrow"
   ]
  },
  {
   "cell_type": "code",
   "execution_count": 3,
   "metadata": {},
   "outputs": [
    {
     "name": "stderr",
     "output_type": "stream",
     "text": [
      "c:\\Users\\Wenhao\\miniconda3\\lib\\site-packages\\pyspark\\pandas\\__init__.py:50: UserWarning: 'PYARROW_IGNORE_TIMEZONE' environment variable was not set. It is required to set this environment variable to '1' in both driver and executor sides if you use pyarrow>=2.0.0. pandas-on-Spark will set it for you but it does not work if there is a Spark context already launched.\n",
      "  warnings.warn(\n"
     ]
    }
   ],
   "source": [
    "# Import the libraries we will need\n",
    "import pandas as pd\n",
    "import numpy as np\n",
    "# import matplotlib.pyplot as plt\n",
    "# %matplotlib inline\n",
    "\n",
    "import findspark\n",
    "findspark.init()\n",
    "\n",
    "import pyspark\n",
    "from pyspark.sql import *\n",
    "from pyspark.sql.functions import *\n",
    "from pyspark.sql.types import StringType\n",
    "import pyspark.pandas as ps\n",
    "\n",
    "# create the Spark Session\n",
    "spark = SparkSession.builder.appName(\"Q1\").getOrCreate()\n",
    "\n",
    "# # create the Spark Context\n",
    "# sc = spark.sparkContext"
   ]
  },
  {
   "cell_type": "code",
   "execution_count": 2,
   "metadata": {},
   "outputs": [],
   "source": [
    "# friend = spark.read.csv(\"hw1-bundle/hw1-bundle/q1/data/soc-LiveJournal1Adj.txt\", sep='\\t')\n",
    "# friend = friend.select(col(\"_c0\").alias(\"User\"), col(\"_c1\").alias(\"Friends\"))\n",
    "# friend = friend.withColumn('Friends', split('Friends', ','))\n",
    "# friend.show(5)"
   ]
  },
  {
   "cell_type": "code",
   "execution_count": 39,
   "metadata": {},
   "outputs": [],
   "source": [
    "friend = spark.read.csv(\"hw1-bundle/hw1-bundle/q1/data/soc-LiveJournal1Adj.txt\", sep='\\t')\n",
    "friend = friend.toDF(\"User\", \"Friends\")\n",
    "friend = friend.withColumn(\"User\", friend[\"User\"].cast(\"int\"))\n",
    "friend = friend.withColumn(\"Friends\", split(friend[\"Friends\"], \",\").cast(\"array<int>\"))\n",
    "\n",
    "no_friend = friend.filter(size(friend[\"Friends\"]) == -1).withColumnRenamed(\"Friends\", \"Recommendations\")\n",
    "\n",
    "friend = friend.filter(size(friend[\"Friends\"]) != -1)"
   ]
  },
  {
   "cell_type": "code",
   "execution_count": 12,
   "metadata": {},
   "outputs": [],
   "source": [
    "# friend = spark.read.csv(\"hw1-bundle/hw1-bundle/q1/data/soc-LiveJournal1Adj.txt\", sep='\\t')\n",
    "# friend = friend.pandas_api()\n",
    "# friend = friend.rename({'_c0': 'User', '_c1': 'Friends'}, axis = 1)\n",
    "# friend['User'] = friend['User'].astype(int)\n",
    "# friend['Friends'] = friend['Friends'].apply(lambda x: [] if (x is None) else x.split(',')) # split the index of friends into list\n",
    "\n",
    "# no_friend = friend[friend['Friends'].apply(len) == 0].rename({'Friends': 'Recommendations'}, axis = 1) # filter users who have no friend\n",
    "\n",
    "# friend = friend[friend['Friends'].apply(len) > 0] # filter users who have at least one friend\n",
    "# friend = friend.iloc[:100] # FIX ME: SUBSAMPLING\n",
    "# friend.head(5)"
   ]
  },
  {
   "cell_type": "code",
   "execution_count": 40,
   "metadata": {},
   "outputs": [],
   "source": [
    "all_user_ids = friend.select(\"User\").rdd.flatMap(lambda x:x).collect()\n",
    "all_user_ids = spark.createDataFrame([(all_user_ids,)], [\"All Users\"])\n",
    "friend = friend.crossJoin(all_user_ids)"
   ]
  },
  {
   "cell_type": "code",
   "execution_count": 41,
   "metadata": {},
   "outputs": [],
   "source": [
    "# all_user_id = friend.select(\"User\")\n",
    "unfriend = friend.withColumn(\"Unfriends\", array_except(friend[\"All Users\"], friend[\"Friends\"])).select(\"User\", \"Unfriends\")\n",
    "unfriend = unfriend.withColumn(\"Unfriend\", explode(unfriend[\"Unfriends\"]))\n",
    "unfriend = unfriend.withColumn(\"Unfriend\", unfriend[\"Unfriend\"].cast(\"int\"))\n",
    "unfriend = unfriend.filter(unfriend[\"User\"] != unfriend[\"Unfriend\"])\n",
    "\n",
    "friend = friend.select([\"User\", \"Friends\"])"
   ]
  },
  {
   "cell_type": "code",
   "execution_count": 50,
   "metadata": {},
   "outputs": [],
   "source": [
    "mutual_friend = unfriend.join(friend, on=\"User\", how=\"left\").withColumnRenamed(\"Friends\", \"User's Friends\")\n",
    "mutual_friend = mutual_friend.join(friend.withColumnRenamed(\"User\", \"Unfriend\"), on=\"Unfriend\", how=\"left\").withColumnRenamed(\"Friends\", \"Unfriend's Friends\")\n",
    "mutual_friend = mutual_friend.withColumn(\"Mutual Friends\", array_intersect(mutual_friend[\"User's Friends\"], mutual_friend[\"Unfriend's Friends\"]))\n",
    "mutual_friend = mutual_friend.withColumn(\"Num of Mutual Friends\", size(mutual_friend[\"Mutual Friends\"]))\n",
    "mutual_friend = mutual_friend.select([\"User\", \"Unfriend\", \"Num of Mutual Friends\"])\n"
   ]
  },
  {
   "cell_type": "code",
   "execution_count": 51,
   "metadata": {},
   "outputs": [],
   "source": [
    "window_spec = Window.partitionBy(\"User\").orderBy(desc(\"Num of Mutual Friends\"), asc(\"Unfriend\"))"
   ]
  },
  {
   "cell_type": "code",
   "execution_count": 54,
   "metadata": {},
   "outputs": [],
   "source": [
    "mutual_friend = mutual_friend.withColumn(\"rank\", row_number().over(window_spec))\n",
    "mutual_friend = mutual_friend.filter(mutual_friend[\"rank\"] <= 10)"
   ]
  },
  {
   "cell_type": "code",
   "execution_count": 55,
   "metadata": {},
   "outputs": [
    {
     "name": "stdout",
     "output_type": "stream",
     "text": [
      "+----+--------+---------------------+----+\n",
      "|User|Unfriend|Num of Mutual Friends|rank|\n",
      "+----+--------+---------------------+----+\n",
      "|  11|   27552|                    4|   1|\n",
      "|  11|    7785|                    3|   2|\n",
      "|  11|   27573|                    3|   3|\n",
      "|  11|   27574|                    3|   4|\n",
      "|  11|   27589|                    3|   5|\n",
      "|  11|   27590|                    3|   6|\n",
      "|  11|   27600|                    3|   7|\n",
      "|  11|   27617|                    3|   8|\n",
      "|  11|   27620|                    3|   9|\n",
      "|  11|   27667|                    3|  10|\n",
      "+----+--------+---------------------+----+\n",
      "\n"
     ]
    }
   ],
   "source": [
    "mutual_friend.filter(mutual_friend[\"User\"] == 11).show(20)"
   ]
  },
  {
   "cell_type": "code",
   "execution_count": null,
   "metadata": {},
   "outputs": [],
   "source": []
  }
 ],
 "metadata": {
  "kernelspec": {
   "display_name": "cse-547",
   "language": "python",
   "name": "python3"
  },
  "language_info": {
   "codemirror_mode": {
    "name": "ipython",
    "version": 3
   },
   "file_extension": ".py",
   "mimetype": "text/x-python",
   "name": "python",
   "nbconvert_exporter": "python",
   "pygments_lexer": "ipython3",
   "version": "3.9.12"
  }
 },
 "nbformat": 4,
 "nbformat_minor": 2
}
