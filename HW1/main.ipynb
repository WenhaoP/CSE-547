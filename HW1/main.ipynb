{
 "cells": [
  {
   "cell_type": "markdown",
   "metadata": {},
   "source": [
    "## Question 1 "
   ]
  },
  {
   "cell_type": "code",
   "execution_count": 1,
   "metadata": {},
   "outputs": [
    {
     "name": "stderr",
     "output_type": "stream",
     "text": [
      "c:\\Users\\Wenhao\\miniconda3\\lib\\site-packages\\pyspark\\pandas\\__init__.py:50: UserWarning: 'PYARROW_IGNORE_TIMEZONE' environment variable was not set. It is required to set this environment variable to '1' in both driver and executor sides if you use pyarrow>=2.0.0. pandas-on-Spark will set it for you but it does not work if there is a Spark context already launched.\n",
      "  warnings.warn(\n"
     ]
    }
   ],
   "source": [
    "# Import the libraries we will need\n",
    "import pandas as pd\n",
    "import numpy as np\n",
    "\n",
    "import findspark\n",
    "findspark.init()\n",
    "\n",
    "import pyspark\n",
    "from pyspark.sql import *\n",
    "from pyspark.sql.functions import *\n",
    "from pyspark.sql.types import StringType\n",
    "import pyspark.pandas as ps\n",
    "\n",
    "# create the Spark Session\n",
    "spark = SparkSession.builder.appName(\"Q1\").getOrCreate()"
   ]
  },
  {
   "cell_type": "code",
   "execution_count": 2,
   "metadata": {},
   "outputs": [],
   "source": [
    "friend = spark.read.csv(\"hw1-bundle/hw1-bundle/q1/data/soc-LiveJournal1Adj.txt\", sep='\\t')\n",
    "friend = friend.toDF(\"User\", \"Friends\")\n",
    "friend = friend.withColumn(\"User\", friend[\"User\"].cast(\"int\"))\n",
    "friend = friend.withColumn(\"Friends\", split(friend[\"Friends\"], \",\").cast(\"array<int>\"))\n",
    "\n",
    "no_friend = friend.filter(size(friend[\"Friends\"]) == -1).withColumnRenamed(\"Friends\", \"Recommendations\") # filter the users with no friends\n",
    "\n",
    "friend = friend.filter(size(friend[\"Friends\"]) != -1)"
   ]
  },
  {
   "cell_type": "code",
   "execution_count": 3,
   "metadata": {},
   "outputs": [],
   "source": [
    "all_user_ids = friend.select(\"User\").rdd.flatMap(lambda x:x).collect()\n",
    "all_user_ids = spark.createDataFrame([(all_user_ids,)], [\"All Users\"])\n",
    "friend = friend.crossJoin(all_user_ids)"
   ]
  },
  {
   "cell_type": "code",
   "execution_count": 4,
   "metadata": {},
   "outputs": [],
   "source": [
    "# all_user_id = friend.select(\"User\")\n",
    "unfriend = friend.withColumn(\"Unfriends\", array_except(friend[\"All Users\"], friend[\"Friends\"])).select(\"User\", \"Unfriends\")\n",
    "unfriend = unfriend.withColumn(\"Unfriend\", explode(unfriend[\"Unfriends\"]))\n",
    "unfriend = unfriend.withColumn(\"Unfriend\", unfriend[\"Unfriend\"].cast(\"int\"))\n",
    "unfriend = unfriend.filter(unfriend[\"User\"] != unfriend[\"Unfriend\"])\n",
    "\n",
    "friend = friend.select([\"User\", \"Friends\"])"
   ]
  },
  {
   "cell_type": "code",
   "execution_count": 5,
   "metadata": {},
   "outputs": [],
   "source": [
    "mutual_friend = unfriend.join(friend, on=\"User\", how=\"left\").withColumnRenamed(\"Friends\", \"User's Friends\")\n",
    "mutual_friend = mutual_friend.join(friend.withColumnRenamed(\"User\", \"Unfriend\"), on=\"Unfriend\", how=\"left\").withColumnRenamed(\"Friends\", \"Unfriend's Friends\")\n",
    "mutual_friend = mutual_friend.withColumn(\"Mutual Friends\", array_intersect(mutual_friend[\"User's Friends\"], mutual_friend[\"Unfriend's Friends\"]))\n",
    "mutual_friend = mutual_friend.withColumn(\"Num of Mutual Friends\", size(mutual_friend[\"Mutual Friends\"]))\n",
    "mutual_friend = mutual_friend.select([\"User\", \"Unfriend\", \"Num of Mutual Friends\"])\n"
   ]
  },
  {
   "cell_type": "code",
   "execution_count": 6,
   "metadata": {},
   "outputs": [],
   "source": [
    "window_spec = Window.partitionBy(\"User\").orderBy(desc(\"Num of Mutual Friends\"), asc(\"Unfriend\"))"
   ]
  },
  {
   "cell_type": "code",
   "execution_count": 7,
   "metadata": {},
   "outputs": [],
   "source": [
    "mutual_friend = mutual_friend.withColumn(\"rank\", row_number().over(window_spec))\n",
    "mutual_friend = mutual_friend.filter((mutual_friend[\"rank\"] <= 10) & (mutual_friend[\"Num of Mutual Friends\"] > 0))"
   ]
  },
  {
   "cell_type": "code",
   "execution_count": 8,
   "metadata": {},
   "outputs": [],
   "source": [
    "mutual_friend = mutual_friend.select([\"User\", \"Unfriend\"]).groupby(\"User\").agg(collect_list(\"Unfriend\").alias(\"Recommendations\"))"
   ]
  },
  {
   "cell_type": "code",
   "execution_count": 9,
   "metadata": {},
   "outputs": [],
   "source": [
    "final = mutual_friend.union(no_friend).sort(asc(\"user\"))"
   ]
  },
  {
   "cell_type": "code",
   "execution_count": 10,
   "metadata": {},
   "outputs": [
    {
     "data": {
      "text/plain": [
       "[Row(User=924, Recommendations=[439, 2409, 6995, 11860, 15416, 43748, 45881]),\n",
       " Row(User=8941, Recommendations=[8943, 8944, 8940]),\n",
       " Row(User=8942, Recommendations=[8939, 8940, 8943, 8944]),\n",
       " Row(User=9019, Recommendations=[9022, 317, 9023]),\n",
       " Row(User=9020, Recommendations=[9021, 9016, 9017, 9022, 317, 9023]),\n",
       " Row(User=9021, Recommendations=[9020, 9016, 9017, 9022, 317, 9023]),\n",
       " Row(User=9022, Recommendations=[9019, 9020, 9021, 317, 9016, 9017, 9023]),\n",
       " Row(User=9990, Recommendations=[13134, 13478, 13877, 34299, 34485, 34642, 37941]),\n",
       " Row(User=9992, Recommendations=[9987, 9989, 35667, 9991]),\n",
       " Row(User=9993, Recommendations=[9991, 13134, 13478, 13877, 34299, 34485, 34642, 37941])]"
      ]
     },
     "execution_count": 10,
     "metadata": {},
     "output_type": "execute_result"
    }
   ],
   "source": [
    "final.filter((final[\"User\"] == 924) | \n",
    "             (final[\"User\"] == 8941) | \n",
    "             (final[\"User\"] == 8942) |\n",
    "             (final[\"User\"] == 9019) |\n",
    "             (final[\"User\"] == 9020) |\n",
    "             (final[\"User\"] == 9021) | \n",
    "             (final[\"User\"] == 9022) | \n",
    "             (final[\"User\"] == 9990) |\n",
    "             (final[\"User\"] == 9992) |\n",
    "             (final[\"User\"] == 9993)).take(10)"
   ]
  },
  {
   "cell_type": "code",
   "execution_count": null,
   "metadata": {},
   "outputs": [],
   "source": []
  }
 ],
 "metadata": {
  "kernelspec": {
   "display_name": "cse-547",
   "language": "python",
   "name": "python3"
  },
  "language_info": {
   "codemirror_mode": {
    "name": "ipython",
    "version": 3
   },
   "file_extension": ".py",
   "mimetype": "text/x-python",
   "name": "python",
   "nbconvert_exporter": "python",
   "pygments_lexer": "ipython3",
   "version": "3.9.12"
  }
 },
 "nbformat": 4,
 "nbformat_minor": 2
}
