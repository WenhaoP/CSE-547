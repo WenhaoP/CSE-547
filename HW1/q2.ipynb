{
 "cells": [
  {
   "cell_type": "code",
   "execution_count": 1,
   "metadata": {},
   "outputs": [
    {
     "name": "stderr",
     "output_type": "stream",
     "text": [
      "c:\\Users\\Wenhao\\miniconda3\\lib\\site-packages\\pyspark\\pandas\\__init__.py:50: UserWarning: 'PYARROW_IGNORE_TIMEZONE' environment variable was not set. It is required to set this environment variable to '1' in both driver and executor sides if you use pyarrow>=2.0.0. pandas-on-Spark will set it for you but it does not work if there is a Spark context already launched.\n",
      "  warnings.warn(\n"
     ]
    }
   ],
   "source": [
    "# Import the libraries we will need\n",
    "import pandas as pd\n",
    "import numpy as np\n",
    "\n",
    "import findspark\n",
    "findspark.init()\n",
    "\n",
    "import pyspark\n",
    "from pyspark.sql import SparkSession, Window\n",
    "import pyspark.sql.functions as F\n",
    "import pyspark.pandas as ps\n",
    "\n",
    "# create the Spark Session\n",
    "spark = SparkSession.builder.appName(\"Q1\").getOrCreate()"
   ]
  },
  {
   "cell_type": "code",
   "execution_count": 32,
   "metadata": {},
   "outputs": [
    {
     "data": {
      "text/plain": [
       "[Row(Items=['FRO11987', 'ELE17451', 'ELE89019', 'SNA90258', 'GRO99222', '']),\n",
       " Row(Items=['GRO99222', 'GRO12298', 'FRO12685', 'ELE91550', 'SNA11465', 'ELE26917', 'ELE52966', 'FRO90334', 'SNA30755', 'ELE17451', 'FRO84225', 'SNA80192', '']),\n",
       " Row(Items=['ELE17451', 'GRO73461', 'DAI22896', 'SNA99873', 'FRO86643', '']),\n",
       " Row(Items=['ELE17451', 'ELE37798', 'FRO86643', 'GRO56989', 'ELE23393', 'SNA11465', '']),\n",
       " Row(Items=['ELE17451', 'SNA69641', 'FRO86643', 'FRO78087', 'SNA11465', 'GRO39357', 'ELE28573', 'ELE11375', 'DAI54444', ''])]"
      ]
     },
     "execution_count": 32,
     "metadata": {},
     "output_type": "execute_result"
    }
   ],
   "source": [
    "browsing.take(5)"
   ]
  },
  {
   "cell_type": "code",
   "execution_count": 47,
   "metadata": {},
   "outputs": [],
   "source": [
    "s = 100 # support threshold\n",
    "\n",
    "browsing = spark.read.csv(\"hw1-bundle/hw1-bundle/q2/data/browsing.txt\", sep='\\t')\n",
    "browsing = browsing.toDF(\"Items\")\n",
    "browsing = browsing.withColumn(\"Items\", F.split(\"Items\", \" \").cast(\"array<string>\"))"
   ]
  },
  {
   "cell_type": "code",
   "execution_count": 49,
   "metadata": {},
   "outputs": [],
   "source": [
    "browsing_exploded = browsing.withColumn(\"Item\", F.explode(browsing[\"Items\"]))\n",
    "browsing_exploded = browsing_exploded.filter(F.length(\"Item\") == 8)\n",
    "browsing_grouped = browsing_exploded.groupBy(\"Item\").count().withColumnRenamed(\"count\", \"Frequency\")\n",
    "freq_items = browsing_grouped.filter(F.col(\"Frequency\") >= s)"
   ]
  },
  {
   "cell_type": "code",
   "execution_count": 50,
   "metadata": {},
   "outputs": [
    {
     "name": "stdout",
     "output_type": "stream",
     "text": [
      "+--------+---------+\n",
      "|    Item|Frequency|\n",
      "+--------+---------+\n",
      "|DAI29878|      114|\n",
      "|SNA96271|     1295|\n",
      "|DAI45339|      159|\n",
      "|ELE38641|        2|\n",
      "|SNA56589|       18|\n",
      "+--------+---------+\n",
      "only showing top 5 rows\n",
      "\n"
     ]
    }
   ],
   "source": [
    "browsing_grouped.show(5)"
   ]
  },
  {
   "cell_type": "code",
   "execution_count": 51,
   "metadata": {},
   "outputs": [
    {
     "data": {
      "text/plain": [
       "647"
      ]
     },
     "execution_count": 51,
     "metadata": {},
     "output_type": "execute_result"
    }
   ],
   "source": [
    "freq_items.count()"
   ]
  },
  {
   "cell_type": "code",
   "execution_count": 63,
   "metadata": {},
   "outputs": [],
   "source": [
    "candidate_pairs = freq_items.select(\"Item\").crossJoin(freq_items.select(\"Item\")).toDF(\"Item_1\", \"Item_2\").filter(F.col(\"Item_1\") < F.col(\"Item_2\"))"
   ]
  },
  {
   "cell_type": "code",
   "execution_count": 64,
   "metadata": {},
   "outputs": [
    {
     "name": "stdout",
     "output_type": "stream",
     "text": [
      "+--------+--------+\n",
      "|  Item_1|  Item_2|\n",
      "+--------+--------+\n",
      "|DAI29878|SNA96271|\n",
      "|DAI29878|DAI45339|\n",
      "|DAI29878|ELE67905|\n",
      "|DAI29878|SNA40078|\n",
      "|DAI29878|SNA59903|\n",
      "+--------+--------+\n",
      "only showing top 5 rows\n",
      "\n"
     ]
    }
   ],
   "source": [
    "candidate_pairs.show(5)"
   ]
  },
  {
   "cell_type": "code",
   "execution_count": 65,
   "metadata": {},
   "outputs": [],
   "source": [
    "candidate_pairs = candidate_pairs.crossJoin(browsing)"
   ]
  },
  {
   "cell_type": "code",
   "execution_count": 68,
   "metadata": {},
   "outputs": [],
   "source": [
    "candidate_pairs = candidate_pairs.withColumn(\"is_pair_in_Items\", ((F.col(\"Item_1\").isin(\"Items\")) & (F.col(\"Item_2\").isin(\"Items\"))).cast(\"int\"))"
   ]
  },
  {
   "cell_type": "code",
   "execution_count": 69,
   "metadata": {},
   "outputs": [
    {
     "name": "stdout",
     "output_type": "stream",
     "text": [
      "+--------+--------+--------------------+----------------+\n",
      "|  Item_1|  Item_2|               Items|is_pair_in_Items|\n",
      "+--------+--------+--------------------+----------------+\n",
      "|DAI29878|SNA96271|[FRO11987, ELE174...|               0|\n",
      "|DAI29878|SNA96271|[GRO99222, GRO122...|               0|\n",
      "|DAI29878|SNA96271|[ELE17451, GRO734...|               0|\n",
      "|DAI29878|SNA96271|[ELE17451, ELE377...|               0|\n",
      "|DAI29878|SNA96271|[ELE17451, SNA696...|               0|\n",
      "|DAI29878|SNA96271|[ELE17451, GRO734...|               0|\n",
      "|DAI29878|SNA96271|[ELE17451, ELE599...|               0|\n",
      "|DAI29878|SNA96271|[ELE17451, SNA696...|               0|\n",
      "|DAI29878|SNA96271|[ELE17451, GRO734...|               0|\n",
      "|DAI29878|SNA96271|[ELE17451, SNA696...|               0|\n",
      "+--------+--------+--------------------+----------------+\n",
      "only showing top 10 rows\n",
      "\n"
     ]
    }
   ],
   "source": [
    "candidate_pairs.show(10)"
   ]
  },
  {
   "cell_type": "code",
   "execution_count": 71,
   "metadata": {},
   "outputs": [],
   "source": [
    "candidate_pairs = candidate_pairs.groupBy([\"Item_1\", \"Item_2\"]).agg(F.sum(\"is_pair_in_Items\").alias(\"Frequency\"))"
   ]
  },
  {
   "cell_type": "code",
   "execution_count": 73,
   "metadata": {},
   "outputs": [],
   "source": [
    "candidate_pairs.show(5)"
   ]
  },
  {
   "cell_type": "code",
   "execution_count": null,
   "metadata": {},
   "outputs": [],
   "source": []
  }
 ],
 "metadata": {
  "kernelspec": {
   "display_name": "base",
   "language": "python",
   "name": "python3"
  },
  "language_info": {
   "codemirror_mode": {
    "name": "ipython",
    "version": 3
   },
   "file_extension": ".py",
   "mimetype": "text/x-python",
   "name": "python",
   "nbconvert_exporter": "python",
   "pygments_lexer": "ipython3",
   "version": "3.9.12"
  }
 },
 "nbformat": 4,
 "nbformat_minor": 2
}
