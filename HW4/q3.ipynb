{
 "cells": [
  {
   "cell_type": "code",
   "execution_count": 1,
   "metadata": {},
   "outputs": [],
   "source": [
    "import numpy as np\n",
    "import pandas as pd\n",
    "import matplotlib.pyplot as plt"
   ]
  },
  {
   "cell_type": "code",
   "execution_count": 2,
   "metadata": {},
   "outputs": [],
   "source": [
    "# Returns hash(x) for hash function given by parameters a, b, p and n_buckets\n",
    "def hash_fun(a, b, p, n_buckets, x):\n",
    "    y = x % p\n",
    "    hash_val = (a * y + b) % p\n",
    "    return hash_val % n_buckets"
   ]
  },
  {
   "cell_type": "code",
   "execution_count": 3,
   "metadata": {},
   "outputs": [],
   "source": [
    "delta = np.exp(-5)\n",
    "eps = np.exp(1) * 1e-4\n",
    "n_hash_funs = int(np.ceil(np.log(1 / delta)))\n",
    "n_buckets = int(np.ceil(np.exp(1) / eps))\n",
    "p = 123457"
   ]
  },
  {
   "cell_type": "code",
   "execution_count": 4,
   "metadata": {},
   "outputs": [],
   "source": [
    "stream_tiny = np.loadtxt(\"hw4-bundle/bundle_files/streams/data/words_stream_tiny.txt\")\n",
    "counts_tiny = pd.read_csv(\"hw4-bundle/bundle_files/streams/data/counts_tiny.txt\", delimiter=\"\\t\", names=[\"ID\", \"Frequency\"])\n",
    "counts_tiny[\"Exact Frequency\"] = counts_tiny[\"Frequency\"] / len(stream_tiny)\n",
    "n = counts_tiny.shape[0]"
   ]
  },
  {
   "cell_type": "code",
   "execution_count": 5,
   "metadata": {},
   "outputs": [],
   "source": [
    "hash_fun_1_output = hash_fun(a=3, b=1561, p=p, n_buckets=n_buckets, x=stream_tiny)\n",
    "value, count = np.unique(hash_fun_1_output, return_counts=True)\n",
    "hash_fun_1_count = np.zeros(n_buckets)\n",
    "for i in range(len(value)):\n",
    "    hash_fun_1_count[int(value[i])] = count[i]\n",
    "    \n",
    "hash_fun_2_output = hash_fun(a=17, b=277, p=p, n_buckets=n_buckets, x=stream_tiny)\n",
    "value, count = np.unique(hash_fun_2_output, return_counts=True)\n",
    "hash_fun_2_count = np.zeros(n_buckets)\n",
    "for i in range(len(value)):\n",
    "    hash_fun_2_count[int(value[i])] = count[i]\n",
    "\n",
    "hash_fun_3_output = hash_fun(a=38, b=394, p=p, n_buckets=n_buckets, x=stream_tiny)\n",
    "value, count = np.unique(hash_fun_3_output, return_counts=True)\n",
    "hash_fun_3_count = np.zeros(n_buckets)\n",
    "for i in range(len(value)):\n",
    "    hash_fun_3_count[int(value[i])] = count[i]\n",
    "\n",
    "hash_fun_4_output = hash_fun(a=61, b=13, p=p, n_buckets=n_buckets, x=stream_tiny)\n",
    "value, count = np.unique(hash_fun_4_output, return_counts=True)\n",
    "hash_fun_4_count = np.zeros(n_buckets)\n",
    "for i in range(len(value)):\n",
    "    hash_fun_4_count[int(value[i])] = count[i]\n",
    "\n",
    "hash_fun_5_output = hash_fun(a=78, b=246, p=p, n_buckets=n_buckets, x=stream_tiny)\n",
    "value, count = np.unique(hash_fun_5_output, return_counts=True)\n",
    "hash_fun_5_count = np.zeros(n_buckets)\n",
    "for i in range(len(value)):\n",
    "    hash_fun_5_count[int(value[i])] = count[i]\n",
    "\n",
    "hash_fun_count = np.stack([hash_fun_1_count, hash_fun_2_count, hash_fun_3_count, hash_fun_4_count, hash_fun_5_count])"
   ]
  },
  {
   "cell_type": "code",
   "execution_count": 6,
   "metadata": {},
   "outputs": [
    {
     "data": {
      "text/plain": [
       "(5, 10000)"
      ]
     },
     "execution_count": 6,
     "metadata": {},
     "output_type": "execute_result"
    }
   ],
   "source": [
    "hash_fun_count.shape"
   ]
  },
  {
   "cell_type": "code",
   "execution_count": 7,
   "metadata": {},
   "outputs": [],
   "source": [
    "approximate_frequency = np.zeros(n)\n",
    "for i in range(1, n + 1):\n",
    "    hash_fun_1_val = hash_fun(a=3, b=1561, p=p, n_buckets=n_buckets, x=i)\n",
    "    hash_fun_1_count = hash_fun_count[0, hash_fun_1_val]\n",
    "\n",
    "    hash_fun_2_val = hash_fun(a=17, b=277, p=p, n_buckets=n_buckets, x=i)\n",
    "    hash_fun_2_count = hash_fun_count[1, hash_fun_2_val]\n",
    "\n",
    "    hash_fun_3_val = hash_fun(a=38, b=394, p=p, n_buckets=n_buckets, x=i)\n",
    "    hash_fun_3_count = hash_fun_count[2, hash_fun_3_val]\n",
    "    \n",
    "    hash_fun_4_val = hash_fun(a=61, b=13, p=p, n_buckets=n_buckets, x=i)\n",
    "    hash_fun_4_count = hash_fun_count[3, hash_fun_4_val]\n",
    "\n",
    "    hash_fun_5_val = hash_fun(a=78, b=246, p=p, n_buckets=n_buckets, x=i)\n",
    "    hash_fun_5_count = hash_fun_count[4, hash_fun_5_val]\n",
    "\n",
    "    hash_fun_counts = np.array([hash_fun_1_count, hash_fun_2_count, hash_fun_3_count, hash_fun_4_count, hash_fun_5_count])\n",
    "    smallest_count = np.min(hash_fun_counts)\n",
    "\n",
    "    approximate_frequency[i - 1] = smallest_count"
   ]
  },
  {
   "cell_type": "code",
   "execution_count": 8,
   "metadata": {},
   "outputs": [
    {
     "data": {
      "text/plain": [
       "array([2.40410e+04, 4.10700e+03, 1.42894e+05, ..., 2.50000e+01,\n",
       "       5.80000e+01, 3.10000e+01])"
      ]
     },
     "execution_count": 8,
     "metadata": {},
     "output_type": "execute_result"
    }
   ],
   "source": [
    "approximate_frequency"
   ]
  },
  {
   "cell_type": "code",
   "execution_count": 12,
   "metadata": {},
   "outputs": [],
   "source": [
    "counts_tiny[\"Approximate Frequency\"] = approximate_frequency.astype(int)\n",
    "counts_tiny[\"Relative Error\"] = (counts_tiny[\"Approximate Frequency\"] - counts_tiny[\"Frequency\"]) /  counts_tiny[\"Frequency\"]"
   ]
  },
  {
   "cell_type": "code",
   "execution_count": 13,
   "metadata": {},
   "outputs": [
    {
     "data": {
      "text/html": [
       "<div>\n",
       "<style scoped>\n",
       "    .dataframe tbody tr th:only-of-type {\n",
       "        vertical-align: middle;\n",
       "    }\n",
       "\n",
       "    .dataframe tbody tr th {\n",
       "        vertical-align: top;\n",
       "    }\n",
       "\n",
       "    .dataframe thead th {\n",
       "        text-align: right;\n",
       "    }\n",
       "</style>\n",
       "<table border=\"1\" class=\"dataframe\">\n",
       "  <thead>\n",
       "    <tr style=\"text-align: right;\">\n",
       "      <th></th>\n",
       "      <th>ID</th>\n",
       "      <th>Frequency</th>\n",
       "      <th>Exact Frequency</th>\n",
       "      <th>Approximate Frequency</th>\n",
       "      <th>Relative Error</th>\n",
       "    </tr>\n",
       "  </thead>\n",
       "  <tbody>\n",
       "    <tr>\n",
       "      <th>0</th>\n",
       "      <td>1</td>\n",
       "      <td>23963</td>\n",
       "      <td>4.165561e-03</td>\n",
       "      <td>24041</td>\n",
       "      <td>0.003255</td>\n",
       "    </tr>\n",
       "    <tr>\n",
       "      <th>1</th>\n",
       "      <td>2</td>\n",
       "      <td>4073</td>\n",
       "      <td>7.080220e-04</td>\n",
       "      <td>4107</td>\n",
       "      <td>0.008348</td>\n",
       "    </tr>\n",
       "    <tr>\n",
       "      <th>2</th>\n",
       "      <td>3</td>\n",
       "      <td>142857</td>\n",
       "      <td>2.483327e-02</td>\n",
       "      <td>142894</td>\n",
       "      <td>0.000259</td>\n",
       "    </tr>\n",
       "    <tr>\n",
       "      <th>3</th>\n",
       "      <td>4</td>\n",
       "      <td>893</td>\n",
       "      <td>1.552329e-04</td>\n",
       "      <td>916</td>\n",
       "      <td>0.025756</td>\n",
       "    </tr>\n",
       "    <tr>\n",
       "      <th>4</th>\n",
       "      <td>5</td>\n",
       "      <td>1761</td>\n",
       "      <td>3.061200e-04</td>\n",
       "      <td>1796</td>\n",
       "      <td>0.019875</td>\n",
       "    </tr>\n",
       "    <tr>\n",
       "      <th>...</th>\n",
       "      <td>...</td>\n",
       "      <td>...</td>\n",
       "      <td>...</td>\n",
       "      <td>...</td>\n",
       "      <td>...</td>\n",
       "    </tr>\n",
       "    <tr>\n",
       "      <th>139034</th>\n",
       "      <td>139035</td>\n",
       "      <td>1</td>\n",
       "      <td>1.738331e-07</td>\n",
       "      <td>30</td>\n",
       "      <td>29.000000</td>\n",
       "    </tr>\n",
       "    <tr>\n",
       "      <th>139035</th>\n",
       "      <td>139036</td>\n",
       "      <td>1</td>\n",
       "      <td>1.738331e-07</td>\n",
       "      <td>54</td>\n",
       "      <td>53.000000</td>\n",
       "    </tr>\n",
       "    <tr>\n",
       "      <th>139036</th>\n",
       "      <td>139037</td>\n",
       "      <td>1</td>\n",
       "      <td>1.738331e-07</td>\n",
       "      <td>25</td>\n",
       "      <td>24.000000</td>\n",
       "    </tr>\n",
       "    <tr>\n",
       "      <th>139037</th>\n",
       "      <td>139038</td>\n",
       "      <td>1</td>\n",
       "      <td>1.738331e-07</td>\n",
       "      <td>58</td>\n",
       "      <td>57.000000</td>\n",
       "    </tr>\n",
       "    <tr>\n",
       "      <th>139038</th>\n",
       "      <td>139039</td>\n",
       "      <td>1</td>\n",
       "      <td>1.738331e-07</td>\n",
       "      <td>31</td>\n",
       "      <td>30.000000</td>\n",
       "    </tr>\n",
       "  </tbody>\n",
       "</table>\n",
       "<p>139039 rows × 5 columns</p>\n",
       "</div>"
      ],
      "text/plain": [
       "            ID  Frequency  Exact Frequency  Approximate Frequency  \\\n",
       "0            1      23963     4.165561e-03                  24041   \n",
       "1            2       4073     7.080220e-04                   4107   \n",
       "2            3     142857     2.483327e-02                 142894   \n",
       "3            4        893     1.552329e-04                    916   \n",
       "4            5       1761     3.061200e-04                   1796   \n",
       "...        ...        ...              ...                    ...   \n",
       "139034  139035          1     1.738331e-07                     30   \n",
       "139035  139036          1     1.738331e-07                     54   \n",
       "139036  139037          1     1.738331e-07                     25   \n",
       "139037  139038          1     1.738331e-07                     58   \n",
       "139038  139039          1     1.738331e-07                     31   \n",
       "\n",
       "        Relative Error  \n",
       "0             0.003255  \n",
       "1             0.008348  \n",
       "2             0.000259  \n",
       "3             0.025756  \n",
       "4             0.019875  \n",
       "...                ...  \n",
       "139034       29.000000  \n",
       "139035       53.000000  \n",
       "139036       24.000000  \n",
       "139037       57.000000  \n",
       "139038       30.000000  \n",
       "\n",
       "[139039 rows x 5 columns]"
      ]
     },
     "execution_count": 13,
     "metadata": {},
     "output_type": "execute_result"
    }
   ],
   "source": [
    "counts_tiny"
   ]
  },
  {
   "cell_type": "code",
   "execution_count": 17,
   "metadata": {},
   "outputs": [
    {
     "data": {
      "text/plain": [
       "0.10090361445783133"
      ]
     },
     "execution_count": 17,
     "metadata": {},
     "output_type": "execute_result"
    }
   ],
   "source": [
    "counts_tiny[(counts_tiny[\"Exact Frequency\"] <= 1e-3) & (counts_tiny[\"Exact Frequency\"] >= 1e-4)][\"Relative Error\"].max()"
   ]
  },
  {
   "cell_type": "code",
   "execution_count": null,
   "metadata": {},
   "outputs": [],
   "source": []
  }
 ],
 "metadata": {
  "kernelspec": {
   "display_name": "base",
   "language": "python",
   "name": "python3"
  },
  "language_info": {
   "codemirror_mode": {
    "name": "ipython",
    "version": 3
   },
   "file_extension": ".py",
   "mimetype": "text/x-python",
   "name": "python",
   "nbconvert_exporter": "python",
   "pygments_lexer": "ipython3",
   "version": "3.9.19"
  }
 },
 "nbformat": 4,
 "nbformat_minor": 2
}
