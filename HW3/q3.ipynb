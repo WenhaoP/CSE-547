{
 "cells": [
  {
   "cell_type": "code",
   "execution_count": 2,
   "metadata": {},
   "outputs": [],
   "source": [
    "import numpy as np\n",
    "import pandas as pd\n",
    "import scipy"
   ]
  },
  {
   "cell_type": "code",
   "execution_count": 7,
   "metadata": {},
   "outputs": [],
   "source": [
    "songs = pd.read_csv(\"hw3-bundle/hw3-bundle/spectral_clustering/data/songs.csv\")\n",
    "n, d = songs.shape"
   ]
  },
  {
   "cell_type": "code",
   "execution_count": 8,
   "metadata": {},
   "outputs": [],
   "source": [
    "A = np.zeros((n, n))\n",
    "\n",
    "for i in range(n):\n",
    "    for j in range(n):\n",
    "        A[i, j] = int(np.linalg.norm(songs.iloc[i] - songs.iloc[j]) < 1)\n",
    "\n",
    "D = np.diag(np.sum(A, axis = 1))\n",
    "D_inv_sqrt = np.diag(1 / np.sqrt(np.sum(A, axis = 1)))\n",
    "L = D - A\n",
    "cal_L = D_inv_sqrt @ L @ D_inv_sqrt\n",
    "eig_vals, eig_vecs = np.linalg.eig(cal_L)\n",
    "v = eig_vecs[:, 1]\n",
    "x = D_inv_sqrt @ v\n",
    "is_cluster_1 = (x >= 0)"
   ]
  },
  {
   "cell_type": "code",
   "execution_count": 9,
   "metadata": {},
   "outputs": [
    {
     "data": {
      "text/plain": [
       "array([ True, False,  True,  True, False,  True,  True,  True,  True,\n",
       "       False])"
      ]
     },
     "execution_count": 9,
     "metadata": {},
     "output_type": "execute_result"
    }
   ],
   "source": [
    "is_cluster_1[:10]"
   ]
  },
  {
   "cell_type": "code",
   "execution_count": 10,
   "metadata": {},
   "outputs": [],
   "source": [
    "cluster_1_feature_mean = np.mean(songs[is_cluster_1], axis = 0)\n",
    "cluster_2_feature_mean = np.mean(songs[np.logical_not(is_cluster_1)], axis = 0)"
   ]
  },
  {
   "cell_type": "code",
   "execution_count": 11,
   "metadata": {},
   "outputs": [
    {
     "data": {
      "text/plain": [
       "artist_familiarity    0.001400\n",
       "artist_ hotttnesss    0.005885\n",
       "artist_num_songs      0.022809\n",
       "release               0.020443\n",
       "duration              0.025500\n",
       "energy                0.655589\n",
       "pitches               0.034119\n",
       "timbre                0.014634\n",
       "loudness              0.013669\n",
       "danceability          0.075324\n",
       "dtype: float64"
      ]
     },
     "execution_count": 11,
     "metadata": {},
     "output_type": "execute_result"
    }
   ],
   "source": [
    "(cluster_1_feature_mean - cluster_2_feature_mean).abs()"
   ]
  },
  {
   "cell_type": "code",
   "execution_count": 12,
   "metadata": {},
   "outputs": [
    {
     "data": {
      "text/plain": [
       "artist_familiarity   -0.000250\n",
       "artist_ hotttnesss   -0.002736\n",
       "artist_num_songs      0.011063\n",
       "release               0.010648\n",
       "duration              0.012966\n",
       "energy               -0.330918\n",
       "pitches               0.016766\n",
       "timbre                0.006519\n",
       "loudness             -0.004324\n",
       "danceability         -0.040235\n",
       "dtype: float64"
      ]
     },
     "execution_count": 12,
     "metadata": {},
     "output_type": "execute_result"
    }
   ],
   "source": [
    "cluster_1_feature_mean"
   ]
  },
  {
   "cell_type": "code",
   "execution_count": 13,
   "metadata": {},
   "outputs": [
    {
     "data": {
      "text/plain": [
       "artist_familiarity    0.001149\n",
       "artist_ hotttnesss    0.003149\n",
       "artist_num_songs     -0.011746\n",
       "release              -0.009795\n",
       "duration             -0.012534\n",
       "energy                0.324672\n",
       "pitches              -0.017354\n",
       "timbre               -0.008115\n",
       "loudness              0.009344\n",
       "danceability          0.035089\n",
       "dtype: float64"
      ]
     },
     "execution_count": 13,
     "metadata": {},
     "output_type": "execute_result"
    }
   ],
   "source": [
    "cluster_2_feature_mean"
   ]
  },
  {
   "cell_type": "code",
   "execution_count": 15,
   "metadata": {},
   "outputs": [
    {
     "data": {
      "text/plain": [
       "TtestResult(statistic=array([-7.11224203e-02, -2.96205631e-01,  1.15601773e+00,  1.02761631e+00,\n",
       "        1.28342759e+00, -1.00992912e+02,  1.73738648e+00,  7.42413283e-01,\n",
       "       -6.81899594e-01, -3.82164598e+00]), pvalue=array([9.43314574e-01, 7.67134674e-01, 2.47950566e-01, 3.04379342e-01,\n",
       "       1.99640238e-01, 0.00000000e+00, 8.26274744e-02, 4.58011670e-01,\n",
       "       4.95460659e-01, 1.40764308e-04]), df=array([998., 998., 998., 998., 998., 998., 998., 998., 998., 998.]))"
      ]
     },
     "execution_count": 15,
     "metadata": {},
     "output_type": "execute_result"
    }
   ],
   "source": [
    "scipy.stats.ttest_ind(songs[is_cluster_1], songs[np.logical_not(is_cluster_1)], equal_var=True)"
   ]
  },
  {
   "cell_type": "code",
   "execution_count": null,
   "metadata": {},
   "outputs": [],
   "source": []
  }
 ],
 "metadata": {
  "kernelspec": {
   "display_name": "cse-547",
   "language": "python",
   "name": "python3"
  },
  "language_info": {
   "codemirror_mode": {
    "name": "ipython",
    "version": 3
   },
   "file_extension": ".py",
   "mimetype": "text/x-python",
   "name": "python",
   "nbconvert_exporter": "python",
   "pygments_lexer": "ipython3",
   "version": "3.9.19"
  }
 },
 "nbformat": 4,
 "nbformat_minor": 2
}
