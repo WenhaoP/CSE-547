{
 "cells": [
  {
   "cell_type": "code",
   "execution_count": 1,
   "metadata": {},
   "outputs": [],
   "source": [
    "# Import the libraries we will need\n",
    "import pandas as pd\n",
    "import numpy as np\n",
    "\n",
    "import findspark\n",
    "findspark.init()\n",
    "\n",
    "from pyspark.sql import *\n",
    "import pyspark.sql.functions as F\n",
    "from pyspark.sql.types import *\n",
    "\n",
    "# create the Spark Session\n",
    "spark = SparkSession.builder.appName(\"Q2\").getOrCreate()"
   ]
  },
  {
   "cell_type": "code",
   "execution_count": 39,
   "metadata": {},
   "outputs": [],
   "source": [
    "small = spark.sparkContext.textFile(\"hw3-bundle/hw3-bundle/pagerank_hits/data/graph-small.txt\")\n",
    "# small = spark.read.csv(\"hw3-bundle/hw3-bundle/pagerank_hits/data/graph-small.txt\", sep=\"\\t\", inferSchema=True).toDF(\"source\", \"destination\")\n",
    "\n",
    "beta = 0.8\n",
    "n = 100\n",
    "r = np.ones(n) / n"
   ]
  },
  {
   "cell_type": "code",
   "execution_count": 40,
   "metadata": {},
   "outputs": [],
   "source": [
    "small = small.map(lambda x: (int(x.split()[0]), (int(x.split()[1])))) # (source, destination)"
   ]
  },
  {
   "cell_type": "code",
   "execution_count": 41,
   "metadata": {},
   "outputs": [
    {
     "data": {
      "text/plain": [
       "[(100, 1),\n",
       " (13, 1),\n",
       " (28, 1),\n",
       " (89, 1),\n",
       " (82, 1),\n",
       " (30, 1),\n",
       " (79, 1),\n",
       " (65, 1),\n",
       " (88, 1),\n",
       " (25, 1)]"
      ]
     },
     "execution_count": 41,
     "metadata": {},
     "output_type": "execute_result"
    }
   ],
   "source": [
    "small.take(10)"
   ]
  },
  {
   "cell_type": "code",
   "execution_count": 42,
   "metadata": {},
   "outputs": [
    {
     "data": {
      "text/plain": [
       "[(100, 0.08333333333333333),\n",
       " (28, 0.09090909090909091),\n",
       " (82, 0.07692307692307693),\n",
       " (30, 0.1111111111111111),\n",
       " (88, 0.125),\n",
       " (46, 0.07142857142857142),\n",
       " (50, 0.07142857142857142),\n",
       " (24, 0.1),\n",
       " (38, 0.07692307692307693),\n",
       " (44, 0.1111111111111111)]"
      ]
     },
     "execution_count": 42,
     "metadata": {},
     "output_type": "execute_result"
    }
   ],
   "source": [
    "out_deg = small.map(lambda x: (x[0], 1)).reduceByKey(lambda v1, v2: v1 + v2).map(lambda x: (x[0], 1 / x[1]))\n",
    "out_deg.take(10)"
   ]
  },
  {
   "cell_type": "code",
   "execution_count": 43,
   "metadata": {},
   "outputs": [
    {
     "data": {
      "text/plain": [
       "[(1, 100, 0.08333333333333333),\n",
       " (14, 100, 0.08333333333333333),\n",
       " (18, 100, 0.08333333333333333),\n",
       " (27, 100, 0.08333333333333333),\n",
       " (27, 100, 0.08333333333333333),\n",
       " (31, 100, 0.08333333333333333),\n",
       " (40, 100, 0.08333333333333333),\n",
       " (42, 100, 0.08333333333333333),\n",
       " (57, 100, 0.08333333333333333),\n",
       " (63, 100, 0.08333333333333333),\n",
       " (71, 100, 0.08333333333333333),\n",
       " (76, 100, 0.08333333333333333),\n",
       " (1, 28, 0.09090909090909091),\n",
       " (1, 28, 0.09090909090909091),\n",
       " (1, 28, 0.09090909090909091)]"
      ]
     },
     "execution_count": 43,
     "metadata": {},
     "output_type": "execute_result"
    }
   ],
   "source": [
    "M = small.join(out_deg).map(lambda x: (x[1][0], x[0], x[1][1]))\n",
    "M.take(15)"
   ]
  },
  {
   "cell_type": "code",
   "execution_count": 45,
   "metadata": {},
   "outputs": [],
   "source": [
    "M_dot_r = M.map(lambda x: (x[0], x[2] * r[int(x[1] - 1)])).reduceByKey(lambda v1, v2: v1 + v2).sortByKey()"
   ]
  },
  {
   "cell_type": "code",
   "execution_count": 51,
   "metadata": {},
   "outputs": [],
   "source": [
    "M_dot_r_np = np.array(M_dot_r.map(lambda x: x[1]).collect())"
   ]
  },
  {
   "cell_type": "code",
   "execution_count": 52,
   "metadata": {},
   "outputs": [
    {
     "data": {
      "text/plain": [
       "array([0.03781851, 0.00303122, 0.00692929, 0.00611483, 0.01552542,\n",
       "       0.00507576, 0.0034561 , 0.00628336, 0.01568176, 0.00485354,\n",
       "       0.00319935, 0.00549517, 0.01916617, 0.04273532, 0.00339394,\n",
       "       0.00714018, 0.00682393, 0.01729234, 0.00364358, 0.00439261,\n",
       "       0.00538528, 0.01520581, 0.00303114, 0.00641667, 0.00651227,\n",
       "       0.01620147, 0.03809744, 0.00385844, 0.00724733, 0.00742832,\n",
       "       0.01576717, 0.00436601, 0.00486111, 0.00619755, 0.01549204,\n",
       "       0.00416306, 0.00349242, 0.00743347, 0.01676198, 0.04153709,\n",
       "       0.00397558, 0.0072702 , 0.00701068, 0.01553449, 0.00347712,\n",
       "       0.00390727, 0.00696104, 0.02053733, 0.00368687, 0.00413131,\n",
       "       0.00626984, 0.01731996, 0.04498059, 0.00603968, 0.01090909,\n",
       "       0.00716306, 0.0170464 , 0.00382479, 0.00369298, 0.00623975,\n",
       "       0.01523153, 0.0042702 , 0.0032619 , 0.00897902, 0.01539086,\n",
       "       0.03948125, 0.00371955, 0.00633766, 0.00658766, 0.01532331,\n",
       "       0.00394444, 0.0033017 , 0.00686852, 0.01613279, 0.00363095,\n",
       "       0.00367157, 0.0060517 , 0.01567942, 0.0183347 , 0.0026908 ,\n",
       "       0.00287179, 0.00607608, 0.0148513 , 0.00417157, 0.00314969,\n",
       "       0.0058017 , 0.01592233, 0.00329762, 0.00326681, 0.0071978 ,\n",
       "       0.00573181, 0.01783143, 0.00368687, 0.00326923, 0.00696858,\n",
       "       0.01882454, 0.00394444, 0.004171  , 0.00715545, 0.01543395])"
      ]
     },
     "execution_count": 52,
     "metadata": {},
     "output_type": "execute_result"
    }
   ],
   "source": [
    "M_dot_r_np"
   ]
  },
  {
   "cell_type": "code",
   "execution_count": 53,
   "metadata": {},
   "outputs": [],
   "source": [
    "r = beta * M_dot_r_np + (1 - beta) / n"
   ]
  },
  {
   "cell_type": "code",
   "execution_count": 56,
   "metadata": {},
   "outputs": [
    {
     "data": {
      "text/plain": [
       "array([0.03514138, 0.00550444, 0.00749495, 0.0070644 , 0.0143741 ,\n",
       "       0.00605002, 0.00404742, 0.00813281, 0.01352938, 0.00780504,\n",
       "       0.00493804, 0.00507789, 0.01696533, 0.03586677, 0.00636046,\n",
       "       0.00568594, 0.00587875, 0.01331689, 0.00546612, 0.00485897,\n",
       "       0.0062085 , 0.01418511, 0.00447314, 0.00623798, 0.00678083,\n",
       "       0.01402686, 0.0331302 , 0.00661586, 0.00674118, 0.00665952,\n",
       "       0.01210266, 0.00481402, 0.00502957, 0.00608728, 0.01183148,\n",
       "       0.00531844, 0.00371428, 0.00684048, 0.01239903, 0.03383064,\n",
       "       0.00727963, 0.01109913, 0.00660371, 0.01201036, 0.00437439,\n",
       "       0.00511566, 0.00606424, 0.02574298, 0.00535657, 0.00423294,\n",
       "       0.00765944, 0.01325418, 0.03786861, 0.0117551 , 0.00915083,\n",
       "       0.00783616, 0.01733145, 0.00494735, 0.00344426, 0.00880096,\n",
       "       0.01788219, 0.00722944, 0.00404528, 0.00729548, 0.01760235,\n",
       "       0.02942981, 0.00985418, 0.00540312, 0.00637803, 0.01132412,\n",
       "       0.00673147, 0.00417022, 0.00740847, 0.01534616, 0.00614815,\n",
       "       0.00461301, 0.00697454, 0.01580912, 0.02059363, 0.00566839,\n",
       "       0.00358043, 0.00711889, 0.01275094, 0.00397887, 0.00323482,\n",
       "       0.00425818, 0.0131764 , 0.00432855, 0.00383986, 0.00819513,\n",
       "       0.00566917, 0.01930195, 0.00580312, 0.00412947, 0.00702   ,\n",
       "       0.0211672 , 0.00600774, 0.00436734, 0.00828186, 0.01336876])"
      ]
     },
     "execution_count": 56,
     "metadata": {},
     "output_type": "execute_result"
    }
   ],
   "source": [
    "r"
   ]
  },
  {
   "cell_type": "code",
   "execution_count": 59,
   "metadata": {},
   "outputs": [
    {
     "name": "stdout",
     "output_type": "stream",
     "text": [
      "At iteration 0, top 5 scores are [0.03247795 0.033585   0.03522967 0.03618825 0.03798447]\n",
      "At iteration 1, top 5 scores are [0.0318378  0.03188942 0.03578222 0.03738246 0.0384674 ]\n",
      "At iteration 2, top 5 scores are [0.03334838 0.03395095 0.03527318 0.03546707 0.03780861]\n",
      "At iteration 3, top 5 scores are [0.03310996 0.03376326 0.03498368 0.03600937 0.03799823]\n",
      "At iteration 4, top 5 scores are [0.03313224 0.03383663 0.03518425 0.03586144 0.03785768]\n",
      "At iteration 5, top 5 scores are [0.03312542 0.03383009 0.03513543 0.03586724 0.03786972]\n",
      "At iteration 6, top 5 scores are [0.03313164 0.03383172 0.0351419  0.03586616 0.03786869]\n",
      "At iteration 7, top 5 scores are [0.0331298  0.03383042 0.03514125 0.03586707 0.03786845]\n",
      "At iteration 8, top 5 scores are [0.03313036 0.03383078 0.03514148 0.0358666  0.03786857]\n",
      "At iteration 9, top 5 scores are [0.03313015 0.0338306  0.03514132 0.03586683 0.03786862]\n",
      "At iteration 10, top 5 scores are [0.03313021 0.03383066 0.03514141 0.03586676 0.03786862]\n",
      "At iteration 11, top 5 scores are [0.03313019 0.03383064 0.03514138 0.03586678 0.03786861]\n",
      "At iteration 12, top 5 scores are [0.0331302  0.03383065 0.03514138 0.03586677 0.03786861]\n",
      "At iteration 13, top 5 scores are [0.0331302  0.03383064 0.03514138 0.03586677 0.03786861]\n",
      "At iteration 14, top 5 scores are [0.0331302  0.03383064 0.03514138 0.03586677 0.03786861]\n",
      "At iteration 15, top 5 scores are [0.0331302  0.03383064 0.03514138 0.03586677 0.03786861]\n",
      "At iteration 16, top 5 scores are [0.0331302  0.03383064 0.03514138 0.03586677 0.03786861]\n",
      "At iteration 17, top 5 scores are [0.0331302  0.03383064 0.03514138 0.03586677 0.03786861]\n",
      "At iteration 18, top 5 scores are [0.0331302  0.03383064 0.03514138 0.03586677 0.03786861]\n",
      "At iteration 19, top 5 scores are [0.0331302  0.03383064 0.03514138 0.03586677 0.03786861]\n",
      "At iteration 20, top 5 scores are [0.0331302  0.03383064 0.03514138 0.03586677 0.03786861]\n",
      "At iteration 21, top 5 scores are [0.0331302  0.03383064 0.03514138 0.03586677 0.03786861]\n",
      "At iteration 22, top 5 scores are [0.0331302  0.03383064 0.03514138 0.03586677 0.03786861]\n",
      "At iteration 23, top 5 scores are [0.0331302  0.03383064 0.03514138 0.03586677 0.03786861]\n",
      "At iteration 24, top 5 scores are [0.0331302  0.03383064 0.03514138 0.03586677 0.03786861]\n",
      "At iteration 25, top 5 scores are [0.0331302  0.03383064 0.03514138 0.03586677 0.03786861]\n",
      "At iteration 26, top 5 scores are [0.0331302  0.03383064 0.03514138 0.03586677 0.03786861]\n",
      "At iteration 27, top 5 scores are [0.0331302  0.03383064 0.03514138 0.03586677 0.03786861]\n",
      "At iteration 28, top 5 scores are [0.0331302  0.03383064 0.03514138 0.03586677 0.03786861]\n",
      "At iteration 29, top 5 scores are [0.0331302  0.03383064 0.03514138 0.03586677 0.03786861]\n",
      "At iteration 30, top 5 scores are [0.0331302  0.03383064 0.03514138 0.03586677 0.03786861]\n",
      "At iteration 31, top 5 scores are [0.0331302  0.03383064 0.03514138 0.03586677 0.03786861]\n",
      "At iteration 32, top 5 scores are [0.0331302  0.03383064 0.03514138 0.03586677 0.03786861]\n",
      "At iteration 33, top 5 scores are [0.0331302  0.03383064 0.03514138 0.03586677 0.03786861]\n",
      "At iteration 34, top 5 scores are [0.0331302  0.03383064 0.03514138 0.03586677 0.03786861]\n",
      "At iteration 35, top 5 scores are [0.0331302  0.03383064 0.03514138 0.03586677 0.03786861]\n",
      "At iteration 36, top 5 scores are [0.0331302  0.03383064 0.03514138 0.03586677 0.03786861]\n",
      "At iteration 37, top 5 scores are [0.0331302  0.03383064 0.03514138 0.03586677 0.03786861]\n",
      "At iteration 38, top 5 scores are [0.0331302  0.03383064 0.03514138 0.03586677 0.03786861]\n",
      "At iteration 39, top 5 scores are [0.0331302  0.03383064 0.03514138 0.03586677 0.03786861]\n"
     ]
    }
   ],
   "source": [
    "small = spark.sparkContext.textFile(\"hw3-bundle/hw3-bundle/pagerank_hits/data/graph-small.txt\")\n",
    "small = small.map(lambda x: (int(x.split()[0]), (int(x.split()[1])))) # (source, destination)\n",
    "out_deg = small.map(lambda x: (x[0], 1)).reduceByKey(lambda v1, v2: v1 + v2).map(lambda x: (x[0], 1 / x[1]))\n",
    "M = small.join(out_deg).map(lambda x: (x[1][0], x[0], x[1][1]))\n",
    "\n",
    "beta = 0.8\n",
    "n = 100\n",
    "r = np.ones(n) / n\n",
    "\n",
    "for i in range(40):\n",
    "    M_dot_r = M.map(lambda x: (x[0], x[2] * r[int(x[1] - 1)])).reduceByKey(lambda v1, v2: v1 + v2).sortByKey()\n",
    "    M_dot_r_np = np.array(M_dot_r.map(lambda x: x[1]).collect())\n",
    "    r = beta * M_dot_r_np + (1 - beta) / n\n",
    "\n",
    "    print(f\"At iteration {i}, top 5 scores are {np.sort(r)[-5:]}\")"
   ]
  },
  {
   "cell_type": "code",
   "execution_count": 61,
   "metadata": {},
   "outputs": [
    {
     "data": {
      "text/plain": [
       "52"
      ]
     },
     "execution_count": 61,
     "metadata": {},
     "output_type": "execute_result"
    }
   ],
   "source": [
    "np.argmax(r)"
   ]
  },
  {
   "cell_type": "code",
   "execution_count": 62,
   "metadata": {},
   "outputs": [
    {
     "name": "stdout",
     "output_type": "stream",
     "text": [
      "At iteration 0, top 5 scores are [0.00178063 0.00180125 0.00184313 0.00186635 0.0018759 ]\n",
      "At iteration 1, top 5 scores are [0.00181917 0.00187874 0.00187924 0.00193098 0.00208151]\n",
      "At iteration 2, top 5 scores are [0.0018393  0.00185236 0.0018951  0.0019298  0.00202104]\n",
      "At iteration 3, top 5 scores are [0.00183115 0.00184855 0.00189586 0.00194235 0.0020089 ]\n",
      "At iteration 4, top 5 scores are [0.00183019 0.00184973 0.00189473 0.00194597 0.00201834]\n",
      "At iteration 5, top 5 scores are [0.00182986 0.0018497  0.00189399 0.00194383 0.00201781]\n",
      "At iteration 6, top 5 scores are [0.00183004 0.00184942 0.00189429 0.00194384 0.0020175 ]\n",
      "At iteration 7, top 5 scores are [0.00183008 0.00184952 0.00189438 0.00194382 0.00201748]\n",
      "At iteration 8, top 5 scores are [0.00183003 0.00184953 0.00189436 0.00194385 0.00201742]\n",
      "At iteration 9, top 5 scores are [0.00183004 0.00184955 0.00189436 0.00194384 0.00201742]\n",
      "At iteration 10, top 5 scores are [0.00183004 0.00184955 0.00189436 0.00194384 0.00201742]\n",
      "At iteration 11, top 5 scores are [0.00183004 0.00184955 0.00189436 0.00194384 0.00201742]\n",
      "At iteration 12, top 5 scores are [0.00183004 0.00184955 0.00189436 0.00194384 0.00201742]\n",
      "At iteration 13, top 5 scores are [0.00183004 0.00184955 0.00189436 0.00194384 0.00201742]\n",
      "At iteration 14, top 5 scores are [0.00183004 0.00184955 0.00189436 0.00194384 0.00201742]\n",
      "At iteration 15, top 5 scores are [0.00183004 0.00184955 0.00189436 0.00194384 0.00201742]\n",
      "At iteration 16, top 5 scores are [0.00183004 0.00184955 0.00189436 0.00194384 0.00201742]\n",
      "At iteration 17, top 5 scores are [0.00183004 0.00184955 0.00189436 0.00194384 0.00201742]\n",
      "At iteration 18, top 5 scores are [0.00183004 0.00184955 0.00189436 0.00194384 0.00201742]\n",
      "At iteration 19, top 5 scores are [0.00183004 0.00184955 0.00189436 0.00194384 0.00201742]\n",
      "At iteration 20, top 5 scores are [0.00183004 0.00184955 0.00189436 0.00194384 0.00201742]\n",
      "At iteration 21, top 5 scores are [0.00183004 0.00184955 0.00189436 0.00194384 0.00201742]\n",
      "At iteration 22, top 5 scores are [0.00183004 0.00184955 0.00189436 0.00194384 0.00201742]\n",
      "At iteration 23, top 5 scores are [0.00183004 0.00184955 0.00189436 0.00194384 0.00201742]\n",
      "At iteration 24, top 5 scores are [0.00183004 0.00184955 0.00189436 0.00194384 0.00201742]\n",
      "At iteration 25, top 5 scores are [0.00183004 0.00184955 0.00189436 0.00194384 0.00201742]\n",
      "At iteration 26, top 5 scores are [0.00183004 0.00184955 0.00189436 0.00194384 0.00201742]\n",
      "At iteration 27, top 5 scores are [0.00183004 0.00184955 0.00189436 0.00194384 0.00201742]\n",
      "At iteration 28, top 5 scores are [0.00183004 0.00184955 0.00189436 0.00194384 0.00201742]\n",
      "At iteration 29, top 5 scores are [0.00183004 0.00184955 0.00189436 0.00194384 0.00201742]\n",
      "At iteration 30, top 5 scores are [0.00183004 0.00184955 0.00189436 0.00194384 0.00201742]\n",
      "At iteration 31, top 5 scores are [0.00183004 0.00184955 0.00189436 0.00194384 0.00201742]\n",
      "At iteration 32, top 5 scores are [0.00183004 0.00184955 0.00189436 0.00194384 0.00201742]\n",
      "At iteration 33, top 5 scores are [0.00183004 0.00184955 0.00189436 0.00194384 0.00201742]\n",
      "At iteration 34, top 5 scores are [0.00183004 0.00184955 0.00189436 0.00194384 0.00201742]\n",
      "At iteration 35, top 5 scores are [0.00183004 0.00184955 0.00189436 0.00194384 0.00201742]\n",
      "At iteration 36, top 5 scores are [0.00183004 0.00184955 0.00189436 0.00194384 0.00201742]\n",
      "At iteration 37, top 5 scores are [0.00183004 0.00184955 0.00189436 0.00194384 0.00201742]\n",
      "At iteration 38, top 5 scores are [0.00183004 0.00184955 0.00189436 0.00194384 0.00201742]\n",
      "At iteration 39, top 5 scores are [0.00183004 0.00184955 0.00189436 0.00194384 0.00201742]\n"
     ]
    }
   ],
   "source": [
    "full = spark.sparkContext.textFile(\"hw3-bundle/hw3-bundle/pagerank_hits/data/graph-full.txt\")\n",
    "full = full.map(lambda x: (int(x.split()[0]), (int(x.split()[1])))) # (source, destination)\n",
    "out_deg = full.map(lambda x: (x[0], 1)).reduceByKey(lambda v1, v2: v1 + v2).map(lambda x: (x[0], 1 / x[1]))\n",
    "M = full.join(out_deg).map(lambda x: (x[1][0], x[0], x[1][1]))\n",
    "\n",
    "beta = 0.8\n",
    "n = 1000\n",
    "r = np.ones(n) / n\n",
    "\n",
    "for i in range(40):\n",
    "    M_dot_r = M.map(lambda x: (x[0], x[2] * r[int(x[1] - 1)])).reduceByKey(lambda v1, v2: v1 + v2).sortByKey()\n",
    "    M_dot_r_np = np.array(M_dot_r.map(lambda x: x[1]).collect())\n",
    "    r = beta * M_dot_r_np + (1 - beta) / n\n",
    "\n",
    "    print(f\"At iteration {i}, top 5 scores are {np.sort(r)[-5:]}\")"
   ]
  },
  {
   "cell_type": "code",
   "execution_count": 69,
   "metadata": {},
   "outputs": [
    {
     "data": {
      "text/plain": [
       "array([186, 964, 242, 262, 536], dtype=int64)"
      ]
     },
     "execution_count": 69,
     "metadata": {},
     "output_type": "execute_result"
    }
   ],
   "source": [
    "# top 5\n",
    "np.argpartition(r, -5)[-5:]"
   ]
  },
  {
   "cell_type": "code",
   "execution_count": 66,
   "metadata": {},
   "outputs": [
    {
     "data": {
      "text/plain": [
       "array([0.00183004, 0.00189436, 0.00184955, 0.00201742, 0.00194384])"
      ]
     },
     "execution_count": 66,
     "metadata": {},
     "output_type": "execute_result"
    }
   ],
   "source": [
    "np.partition(r, -5)[-5:]"
   ]
  },
  {
   "cell_type": "code",
   "execution_count": 70,
   "metadata": {},
   "outputs": [
    {
     "data": {
      "text/plain": [
       "array([423,  92, 557,  61, 407], dtype=int64)"
      ]
     },
     "execution_count": 70,
     "metadata": {},
     "output_type": "execute_result"
    }
   ],
   "source": [
    "# bottom 5\n",
    "np.argpartition(r, 5)[:5]"
   ]
  }
 ],
 "metadata": {
  "kernelspec": {
   "display_name": "base",
   "language": "python",
   "name": "python3"
  },
  "language_info": {
   "codemirror_mode": {
    "name": "ipython",
    "version": 3
   },
   "file_extension": ".py",
   "mimetype": "text/x-python",
   "name": "python",
   "nbconvert_exporter": "python",
   "pygments_lexer": "ipython3",
   "version": "3.9.19"
  }
 },
 "nbformat": 4,
 "nbformat_minor": 2
}
