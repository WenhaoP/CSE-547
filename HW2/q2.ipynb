{
 "cells": [
  {
   "cell_type": "code",
   "execution_count": 1,
   "metadata": {},
   "outputs": [],
   "source": [
    "# Import the libraries we will need\n",
    "import pandas as pd\n",
    "import numpy as np\n",
    "\n",
    "import findspark\n",
    "findspark.init()\n",
    "\n",
    "from pyspark.sql import *\n",
    "import pyspark.sql.functions as F\n",
    "from pyspark.sql.types import *\n",
    "\n",
    "# create the Spark Session\n",
    "spark = SparkSession.builder.appName(\"Q2\").getOrCreate()"
   ]
  },
  {
   "cell_type": "code",
   "execution_count": 2,
   "metadata": {},
   "outputs": [],
   "source": [
    "data = spark.read.csv(\"hw2-bundle/hw2-bundle/kmeans/data/data.txt\").toDF(\"observation\")\n",
    "data = data.withColumn(\"observation\", F.split(F.col(\"observation\"), \" \").cast(\"array<float>\"))\n",
    "data = data.withColumn(\"obs_index\", F.monotonically_increasing_id())\n",
    "window = Window.orderBy(F.col(\"obs_index\"))\n",
    "data = data.withColumn(\"obs_index\", F.row_number().over(window) - 1)\n",
    "\n",
    "init_C_random = spark.read.csv(\"hw2-bundle/hw2-bundle/kmeans/data/c1.txt\").toDF(\"centroid\")\n",
    "init_C_random = init_C_random.withColumn(\"centroid\", F.split(F.col(\"centroid\"), \" \").cast(\"array<float>\"))\n",
    "init_C_random = init_C_random.withColumn(\"c_index\", F.monotonically_increasing_id())\n",
    "window = Window.orderBy(F.col(\"c_index\"))\n",
    "init_C_random = init_C_random.withColumn(\"c_index\", F.row_number().over(window) - 1)\n",
    "\n",
    "init_C_far = spark.read.csv(\"hw2-bundle/hw2-bundle/kmeans/data/c2.txt\").toDF(\"centroid\")\n",
    "init_C_far = init_C_far.withColumn(\"centroid\", F.split(F.col(\"centroid\"), \" \").cast(\"array<float>\"))\n",
    "init_C_far = init_C_far.withColumn(\"c_index\", F.monotonically_increasing_id())\n",
    "window = Window.orderBy(F.col(\"c_index\"))\n",
    "init_C_far = init_C_far.withColumn(\"c_index\", F.row_number().over(window) - 1)"
   ]
  },
  {
   "cell_type": "code",
   "execution_count": 3,
   "metadata": {},
   "outputs": [
    {
     "name": "stdout",
     "output_type": "stream",
     "text": [
      "+--------------------+---------+\n",
      "|         observation|obs_index|\n",
      "+--------------------+---------+\n",
      "|[0.0, 0.64, 0.64,...|        0|\n",
      "|[0.21, 0.28, 0.5,...|        1|\n",
      "|[0.06, 0.0, 0.71,...|        2|\n",
      "|[0.0, 0.0, 0.0, 0...|        3|\n",
      "|[0.0, 0.0, 0.0, 0...|        4|\n",
      "+--------------------+---------+\n",
      "only showing top 5 rows\n",
      "\n"
     ]
    }
   ],
   "source": [
    "data.show(5)"
   ]
  },
  {
   "cell_type": "code",
   "execution_count": 4,
   "metadata": {},
   "outputs": [
    {
     "name": "stdout",
     "output_type": "stream",
     "text": [
      "+--------------------+-------+\n",
      "|            centroid|c_index|\n",
      "+--------------------+-------+\n",
      "|[0.0, 0.64, 0.64,...|      0|\n",
      "|[0.21, 0.28, 0.5,...|      1|\n",
      "|[0.06, 0.0, 0.71,...|      2|\n",
      "|[0.0, 0.0, 0.0, 0...|      3|\n",
      "|[0.0, 0.0, 0.0, 0...|      4|\n",
      "|[0.0, 0.0, 0.0, 0...|      5|\n",
      "|[0.0, 0.0, 0.0, 0...|      6|\n",
      "|[0.0, 0.0, 0.0, 0...|      7|\n",
      "|[0.15, 0.0, 0.46,...|      8|\n",
      "|[0.06, 0.12, 0.77...|      9|\n",
      "+--------------------+-------+\n",
      "\n"
     ]
    }
   ],
   "source": [
    "init_C_random.show(10)"
   ]
  },
  {
   "cell_type": "code",
   "execution_count": 5,
   "metadata": {},
   "outputs": [],
   "source": [
    "def l1_distance(x, y):\n",
    "    return float(np.linalg.norm(np.array(x) - np.array(y), ord=1))\n",
    "l1_distance_udf = F.udf(l1_distance, FloatType())\n",
    "\n",
    "def l2_distance(x, y):\n",
    "    return float(np.linalg.norm(np.array(x) - np.array(y), ord=2) ** 2)\n",
    "l2_distance_udf = F.udf(l2_distance, FloatType())"
   ]
  },
  {
   "cell_type": "code",
   "execution_count": 6,
   "metadata": {},
   "outputs": [],
   "source": [
    "def k_means(observation, initial_centroids, max_iter):\n",
    "    def l2_distance(x, y):\n",
    "        return float(np.linalg.norm(np.array(x) - np.array(y), ord=2) ** 2)\n",
    "    l2_distance_udf = F.udf(l2_distance, FloatType())\n",
    "\n",
    "    cost = np.zeros(max_iter + 1)\n",
    "\n",
    "    # iteration 0 (initialization)\n",
    "    new_partitions = observation.crossJoin(initial_centroids)\n",
    "    new_partitions = new_partitions.withColumn(\"obs_to_c_dist\", l2_distance_udf(F.col(\"observation\"), F.col(\"centroid\")))\n",
    "\n",
    "    window = Window.partitionBy(\"obs_index\")\n",
    "    new_partitions = new_partitions.withColumn(\"min_dist\", F.min(\"obs_to_c_dist\").over(window))\n",
    "    new_partitions = new_partitions.filter(((F.col(\"min_dist\") - F.col(\"obs_to_c_dist\")) < 1e-6) &\n",
    "                                        ((F.col(\"obs_to_c_dist\") - F.col(\"min_dist\")) < 1e-6)).sort(\"obs_index\").drop(\"min_dist\")\n",
    "\n",
    "    new_centroids = new_partitions.rdd.map(lambda row: (row.c_index, row.observation))\n",
    "    new_centroids = new_centroids.reduceByKey(lambda x, y: (np.array(x) + np.array(y)).tolist())\n",
    "    new_centroids = new_centroids.toDF().withColumnsRenamed({\"_1\": \"c_index\", \"_2\": \"centroid\"})\n",
    "    new_centroids = new_centroids.join(new_partitions.groupBy(\"c_index\").count(), on=\"c_index\", how=\"inner\")\n",
    "    new_centroids = new_centroids.withColumn(\"centroid\", (F.udf(lambda x, y: (np.array(x) / y).tolist(), \"array<float>\"))(F.col(\"centroid\"), F.col(\"count\")))\n",
    "    new_centroids = new_centroids.drop(\"count\").sort(\"c_index\")\n",
    "\n",
    "    cost[0] = np.sum(new_partitions.select(\"obs_to_c_dist\").rdd.flatMap(lambda x: x).collect())\n",
    "    print(f\"At iteration 0, the cost is {cost[0]}.\")\n",
    "\n",
    "    # rest iterations\n",
    "    for t in np.arange(1, max_iter + 1):\n",
    "        new_partitions = observation.crossJoin(new_centroids)\n",
    "        new_partitions = new_partitions.withColumn(\"obs_to_c_dist\", l2_distance_udf(F.col(\"observation\"), F.col(\"centroid\")))\n",
    "\n",
    "        window = Window.partitionBy(\"obs_index\")\n",
    "        new_partitions = new_partitions.withColumn(\"min_dist\", F.min(\"obs_to_c_dist\").over(window))\n",
    "        new_partitions = new_partitions.filter(((F.col(\"min_dist\") - F.col(\"obs_to_c_dist\")) < 1e-6) &\n",
    "                                            ((F.col(\"obs_to_c_dist\") - F.col(\"min_dist\")) < 1e-6)).sort(\"obs_index\").drop(\"min_dist\")\n",
    "\n",
    "        new_centroids = new_partitions.rdd.map(lambda row: (row.c_index, row.observation))\n",
    "        new_centroids = new_centroids.reduceByKey(lambda x, y: (np.array(x) + np.array(y)).tolist())\n",
    "        new_centroids = new_centroids.toDF().withColumnsRenamed({\"_1\": \"c_index\", \"_2\": \"centroid\"})\n",
    "        new_centroids = new_centroids.join(new_partitions.groupBy(\"c_index\").count(), on=\"c_index\", how=\"inner\")\n",
    "        new_centroids = new_centroids.withColumn(\"centroid\", (F.udf(lambda x, y: (np.array(x) / y).tolist(), \"array<float>\"))(F.col(\"centroid\"), F.col(\"count\")))\n",
    "        new_centroids = new_centroids.drop(\"count\").sort(\"c_index\")\n",
    "\n",
    "        cost[t] = np.sum(new_partitions.select(\"obs_to_c_dist\").rdd.flatMap(lambda x: x).collect())\n",
    "\n",
    "        print(f\"At iteration {t}, the cost is {cost[t]}.\")\n",
    "\n",
    "        new_centroids = new_centroids.collect()\n",
    "        new_centroids = spark.createDataFrame(data=new_centroids)\n",
    "    \n",
    "    return cost, new_centroids.collect()"
   ]
  },
  {
   "cell_type": "code",
   "execution_count": 8,
   "metadata": {},
   "outputs": [
    {
     "name": "stdout",
     "output_type": "stream",
     "text": [
      "At iteration 0, the cost is 623747853.501003.\n",
      "At iteration 1, the cost is 509851311.6232786.\n",
      "At iteration 2, the cost is 485474455.838027.\n",
      "At iteration 3, the cost is 463988317.16985035.\n",
      "At iteration 4, the cost is 460962508.4620385.\n",
      "At iteration 5, the cost is 460535298.3988676.\n",
      "At iteration 6, the cost is 460318802.282403.\n",
      "At iteration 7, the cost is 460080310.9470396.\n",
      "At iteration 8, the cost is 459741192.7645869.\n",
      "At iteration 9, the cost is 459268145.28618383.\n",
      "At iteration 10, the cost is 458712994.45715284.\n",
      "At iteration 11, the cost is 458078769.6091542.\n",
      "At iteration 12, the cost is 457650806.15269756.\n",
      "At iteration 13, the cost is 457326253.1740484.\n",
      "At iteration 14, the cost is 457050434.7209182.\n",
      "At iteration 15, the cost is 456904554.2070093.\n",
      "At iteration 16, the cost is 456689185.8974581.\n",
      "At iteration 17, the cost is 456376825.21881723.\n",
      "At iteration 18, the cost is 456152453.9466014.\n",
      "At iteration 19, the cost is 455954422.3111315.\n",
      "At iteration 20, the cost is 455694378.469656.\n"
     ]
    }
   ],
   "source": [
    "random_init_l2_distance_result = k_means(data, init_C_random, 20)"
   ]
  },
  {
   "cell_type": "code",
   "execution_count": 9,
   "metadata": {},
   "outputs": [
    {
     "data": {
      "image/png": "[encoded data removed]",
      "text/plain": [
       "<Figure size 640x480 with 1 Axes>"
      ]
     },
     "metadata": {},
     "output_type": "display_data"
    }
   ],
   "source": [
    "import matplotlib.pyplot as plt\n",
    "\n",
    "fig, ax = plt.subplots()\n",
    "ax.scatter(np.arange(0, 21), random_init_l2_distance_result[0])\n",
    "ax.set_xlabel(\"# of iterations\")\n",
    "plt.show()"
   ]
  },
  {
   "cell_type": "code",
   "execution_count": 12,
   "metadata": {},
   "outputs": [
    {
     "data": {
      "text/plain": [
       "455694378.469656"
      ]
     },
     "execution_count": 12,
     "metadata": {},
     "output_type": "execute_result"
    }
   ],
   "source": [
    "random_init_l2_distance_result[0][20]"
   ]
  },
  {
   "cell_type": "code",
   "execution_count": 13,
   "metadata": {},
   "outputs": [
    {
     "data": {
      "text/plain": [
       "0.2645858548731419"
      ]
     },
     "execution_count": 13,
     "metadata": {},
     "output_type": "execute_result"
    }
   ],
   "source": [
    "1 - random_init_l2_distance_result[0][10] / random_init_l2_distance_result[0][0]"
   ]
  },
  {
   "cell_type": "code",
   "execution_count": 14,
   "metadata": {},
   "outputs": [],
   "source": [
    "new_partitions = data.crossJoin(init_C_random)\n",
    "new_partitions = new_partitions.withColumn(\"obs_to_c_dist\", l2_distance_udf(F.col(\"observation\"), F.col(\"centroid\")))\n",
    "\n",
    "window = Window.partitionBy(\"obs_index\")\n",
    "new_partitions = new_partitions.withColumn(\"min_dist\", F.min(\"obs_to_c_dist\").over(window))\n",
    "new_partitions = new_partitions.filter(((F.col(\"min_dist\") - F.col(\"obs_to_c_dist\")) < 1e-6) &\n",
    "                                    ((F.col(\"obs_to_c_dist\") - F.col(\"min_dist\")) < 1e-6)).sort(\"obs_index\").drop(\"min_dist\")\n",
    "\n",
    "# new_centroids = new_partitions.rdd.map(lambda row: (row.c_index, row.observation))\n",
    "# new_centroids = new_centroids.reduceByKey(lambda x, y: (np.array(x) + np.array(y)).tolist())\n",
    "# new_centroids = new_centroids.toDF().withColumnsRenamed({\"_1\": \"c_index\", \"_2\": \"centroid\"})\n",
    "# new_centroids = new_centroids.join(new_partitions.groupBy(\"c_index\").count(), on=\"c_index\", how=\"inner\")\n",
    "# new_centroids = new_centroids.withColumn(\"centroid\", (F.udf(lambda x, y: (np.array(x) / y).tolist(), \"array<float>\"))(F.col(\"centroid\"), F.col(\"count\")))\n",
    "# new_centroids = new_centroids.drop(\"count\").sort(\"c_index\")\n"
   ]
  },
  {
   "cell_type": "code",
   "execution_count": 15,
   "metadata": {},
   "outputs": [
    {
     "name": "stdout",
     "output_type": "stream",
     "text": [
      "+--------------------+---------+--------------------+-------+-------------+\n",
      "|         observation|obs_index|            centroid|c_index|obs_to_c_dist|\n",
      "+--------------------+---------+--------------------+-------+-------------+\n",
      "|[0.0, 0.64, 0.64,...|        0|[0.0, 0.64, 0.64,...|      0|          0.0|\n",
      "|[0.21, 0.28, 0.5,...|        1|[0.21, 0.28, 0.5,...|      1|          0.0|\n",
      "|[0.06, 0.0, 0.71,...|        2|[0.06, 0.0, 0.71,...|      2|          0.0|\n",
      "|[0.0, 0.0, 0.0, 0...|        3|[0.0, 0.0, 0.0, 0...|      3|          0.0|\n",
      "|[0.0, 0.0, 0.0, 0...|        4|[0.0, 0.0, 0.0, 0...|      4|          0.0|\n",
      "+--------------------+---------+--------------------+-------+-------------+\n",
      "only showing top 5 rows\n",
      "\n"
     ]
    }
   ],
   "source": [
    "new_partitions.show(5)"
   ]
  },
  {
   "cell_type": "code",
   "execution_count": 44,
   "metadata": {},
   "outputs": [],
   "source": [
    "new_centroids = new_partitions.rdd.map(lambda row: (row.c_index, row.observation))"
   ]
  },
  {
   "cell_type": "code",
   "execution_count": 18,
   "metadata": {},
   "outputs": [
    {
     "data": {
      "text/plain": [
       "[(0,\n",
       "  [0.0,\n",
       "   0.6399999856948853,\n",
       "   0.6399999856948853,\n",
       "   0.0,\n",
       "   0.3199999928474426,\n",
       "   0.0,\n",
       "   0.0,\n",
       "   0.0,\n",
       "   0.0,\n",
       "   0.0,\n",
       "   0.0,\n",
       "   0.6399999856948853,\n",
       "   0.0,\n",
       "   0.0,\n",
       "   0.0,\n",
       "   0.3199999928474426,\n",
       "   0.0,\n",
       "   1.2899999618530273,\n",
       "   1.9299999475479126,\n",
       "   0.0,\n",
       "   0.9599999785423279,\n",
       "   0.0,\n",
       "   0.0,\n",
       "   0.0,\n",
       "   0.0,\n",
       "   0.0,\n",
       "   0.0,\n",
       "   0.0,\n",
       "   0.0,\n",
       "   0.0,\n",
       "   0.0,\n",
       "   0.0,\n",
       "   0.0,\n",
       "   0.0,\n",
       "   0.0,\n",
       "   0.0,\n",
       "   0.0,\n",
       "   0.0,\n",
       "   0.0,\n",
       "   0.0,\n",
       "   0.0,\n",
       "   0.0,\n",
       "   0.0,\n",
       "   0.0,\n",
       "   0.0,\n",
       "   0.0,\n",
       "   0.0,\n",
       "   0.0,\n",
       "   0.0,\n",
       "   0.0,\n",
       "   0.0,\n",
       "   0.777999997138977,\n",
       "   0.0,\n",
       "   0.0,\n",
       "   3.75600004196167,\n",
       "   61.0,\n",
       "   278.0,\n",
       "   1.0]),\n",
       " (1,\n",
       "  [0.20999999344348907,\n",
       "   0.2800000011920929,\n",
       "   0.5,\n",
       "   0.0,\n",
       "   0.14000000059604645,\n",
       "   0.2800000011920929,\n",
       "   0.20999999344348907,\n",
       "   0.07000000029802322,\n",
       "   0.0,\n",
       "   0.9399999976158142,\n",
       "   0.20999999344348907,\n",
       "   0.7900000214576721,\n",
       "   0.6499999761581421,\n",
       "   0.20999999344348907,\n",
       "   0.14000000059604645,\n",
       "   0.14000000059604645,\n",
       "   0.07000000029802322,\n",
       "   0.2800000011920929,\n",
       "   3.4700000286102295,\n",
       "   0.0,\n",
       "   1.590000033378601,\n",
       "   0.0,\n",
       "   0.4300000071525574,\n",
       "   0.4300000071525574,\n",
       "   0.0,\n",
       "   0.0,\n",
       "   0.0,\n",
       "   0.0,\n",
       "   0.0,\n",
       "   0.0,\n",
       "   0.0,\n",
       "   0.0,\n",
       "   0.0,\n",
       "   0.0,\n",
       "   0.0,\n",
       "   0.0,\n",
       "   0.07000000029802322,\n",
       "   0.0,\n",
       "   0.0,\n",
       "   0.0,\n",
       "   0.0,\n",
       "   0.0,\n",
       "   0.0,\n",
       "   0.0,\n",
       "   0.0,\n",
       "   0.0,\n",
       "   0.0,\n",
       "   0.0,\n",
       "   0.0,\n",
       "   0.13199999928474426,\n",
       "   0.0,\n",
       "   0.3720000088214874,\n",
       "   0.18000000715255737,\n",
       "   0.04800000041723251,\n",
       "   5.113999843597412,\n",
       "   101.0,\n",
       "   1028.0,\n",
       "   1.0]),\n",
       " (2,\n",
       "  [0.05999999865889549,\n",
       "   0.0,\n",
       "   0.7099999785423279,\n",
       "   0.0,\n",
       "   1.2300000190734863,\n",
       "   0.1899999976158142,\n",
       "   0.1899999976158142,\n",
       "   0.11999999731779099,\n",
       "   0.6399999856948853,\n",
       "   0.25,\n",
       "   0.3799999952316284,\n",
       "   0.44999998807907104,\n",
       "   0.11999999731779099,\n",
       "   0.0,\n",
       "   1.75,\n",
       "   0.05999999865889549,\n",
       "   0.05999999865889549,\n",
       "   1.0299999713897705,\n",
       "   1.3600000143051147,\n",
       "   0.3199999928474426,\n",
       "   0.5099999904632568,\n",
       "   0.0,\n",
       "   1.159999966621399,\n",
       "   0.05999999865889549,\n",
       "   0.0,\n",
       "   0.0,\n",
       "   0.0,\n",
       "   0.0,\n",
       "   0.0,\n",
       "   0.0,\n",
       "   0.0,\n",
       "   0.0,\n",
       "   0.0,\n",
       "   0.0,\n",
       "   0.0,\n",
       "   0.0,\n",
       "   0.0,\n",
       "   0.0,\n",
       "   0.0,\n",
       "   0.05999999865889549,\n",
       "   0.0,\n",
       "   0.0,\n",
       "   0.11999999731779099,\n",
       "   0.0,\n",
       "   0.05999999865889549,\n",
       "   0.05999999865889549,\n",
       "   0.0,\n",
       "   0.0,\n",
       "   0.009999999776482582,\n",
       "   0.14300000667572021,\n",
       "   0.0,\n",
       "   0.2759999930858612,\n",
       "   0.18400000035762787,\n",
       "   0.009999999776482582,\n",
       "   9.821000099182129,\n",
       "   485.0,\n",
       "   2259.0,\n",
       "   1.0]),\n",
       " (3,\n",
       "  [0.0,\n",
       "   0.0,\n",
       "   0.0,\n",
       "   0.0,\n",
       "   0.6299999952316284,\n",
       "   0.0,\n",
       "   0.3100000023841858,\n",
       "   0.6299999952316284,\n",
       "   0.3100000023841858,\n",
       "   0.6299999952316284,\n",
       "   0.3100000023841858,\n",
       "   0.3100000023841858,\n",
       "   0.3100000023841858,\n",
       "   0.0,\n",
       "   0.0,\n",
       "   0.3100000023841858,\n",
       "   0.0,\n",
       "   0.0,\n",
       "   3.180000066757202,\n",
       "   0.0,\n",
       "   0.3100000023841858,\n",
       "   0.0,\n",
       "   0.0,\n",
       "   0.0,\n",
       "   0.0,\n",
       "   0.0,\n",
       "   0.0,\n",
       "   0.0,\n",
       "   0.0,\n",
       "   0.0,\n",
       "   0.0,\n",
       "   0.0,\n",
       "   0.0,\n",
       "   0.0,\n",
       "   0.0,\n",
       "   0.0,\n",
       "   0.0,\n",
       "   0.0,\n",
       "   0.0,\n",
       "   0.0,\n",
       "   0.0,\n",
       "   0.0,\n",
       "   0.0,\n",
       "   0.0,\n",
       "   0.0,\n",
       "   0.0,\n",
       "   0.0,\n",
       "   0.0,\n",
       "   0.0,\n",
       "   0.13699999451637268,\n",
       "   0.0,\n",
       "   0.13699999451637268,\n",
       "   0.0,\n",
       "   0.0,\n",
       "   3.5369999408721924,\n",
       "   40.0,\n",
       "   191.0,\n",
       "   1.0]),\n",
       " (4,\n",
       "  [0.0,\n",
       "   0.0,\n",
       "   0.0,\n",
       "   0.0,\n",
       "   0.6299999952316284,\n",
       "   0.0,\n",
       "   0.3100000023841858,\n",
       "   0.6299999952316284,\n",
       "   0.3100000023841858,\n",
       "   0.6299999952316284,\n",
       "   0.3100000023841858,\n",
       "   0.3100000023841858,\n",
       "   0.3100000023841858,\n",
       "   0.0,\n",
       "   0.0,\n",
       "   0.3100000023841858,\n",
       "   0.0,\n",
       "   0.0,\n",
       "   3.180000066757202,\n",
       "   0.0,\n",
       "   0.3100000023841858,\n",
       "   0.0,\n",
       "   0.0,\n",
       "   0.0,\n",
       "   0.0,\n",
       "   0.0,\n",
       "   0.0,\n",
       "   0.0,\n",
       "   0.0,\n",
       "   0.0,\n",
       "   0.0,\n",
       "   0.0,\n",
       "   0.0,\n",
       "   0.0,\n",
       "   0.0,\n",
       "   0.0,\n",
       "   0.0,\n",
       "   0.0,\n",
       "   0.0,\n",
       "   0.0,\n",
       "   0.0,\n",
       "   0.0,\n",
       "   0.0,\n",
       "   0.0,\n",
       "   0.0,\n",
       "   0.0,\n",
       "   0.0,\n",
       "   0.0,\n",
       "   0.0,\n",
       "   0.13500000536441803,\n",
       "   0.0,\n",
       "   0.13500000536441803,\n",
       "   0.0,\n",
       "   0.0,\n",
       "   3.5369999408721924,\n",
       "   40.0,\n",
       "   191.0,\n",
       "   1.0])]"
      ]
     },
     "execution_count": 18,
     "metadata": {},
     "output_type": "execute_result"
    }
   ],
   "source": [
    "new_centroids.take(5)"
   ]
  },
  {
   "cell_type": "code",
   "execution_count": 45,
   "metadata": {},
   "outputs": [],
   "source": [
    "new_centroids = new_centroids.reduceByKey(lambda x, y: [[x[i]] + [y[i]] for i in range(len(x))])"
   ]
  },
  {
   "cell_type": "code",
   "execution_count": null,
   "metadata": {},
   "outputs": [],
   "source": []
  },
  {
   "cell_type": "code",
   "execution_count": 40,
   "metadata": {},
   "outputs": [],
   "source": [
    "new_centroids = new_centroids.reduceByKey(lambda x, y: [(np.array([x[i]] + [y[i]])).flatten().tolist() for i in range(len(x))])"
   ]
  },
  {
   "cell_type": "code",
   "execution_count": 46,
   "metadata": {},
   "outputs": [
    {
     "ename": "Py4JJavaError",
     "evalue": "An error occurred while calling z:org.apache.spark.api.python.PythonRDD.runJob.\n: org.apache.spark.SparkException: Job aborted due to stage failure: Task 0 in stage 1232.0 failed 1 times, most recent failure: Lost task 0.0 in stage 1232.0 (TID 1716) (10.0.0.194 executor driver): org.apache.spark.api.python.PythonException: Traceback (most recent call last):\n  File \"c:\\Users\\Wenhao\\miniconda3\\lib\\site-packages\\pyspark\\python\\lib\\pyspark.zip\\pyspark\\cloudpickle\\cloudpickle_fast.py\", line 632, in dump\n    return Pickler.dump(self, obj)\nRecursionError: maximum recursion depth exceeded while pickling an object\n\nThe above exception was the direct cause of the following exception:\n\nTraceback (most recent call last):\n  File \"c:\\Users\\Wenhao\\miniconda3\\lib\\site-packages\\pyspark\\python\\lib\\pyspark.zip\\pyspark\\worker.py\", line 1247, in main\n  File \"c:\\Users\\Wenhao\\miniconda3\\lib\\site-packages\\pyspark\\python\\lib\\pyspark.zip\\pyspark\\worker.py\", line 1239, in process\n  File \"c:\\Users\\Wenhao\\miniconda3\\lib\\site-packages\\pyspark\\python\\lib\\pyspark.zip\\pyspark\\serializers.py\", line 146, in dump_stream\n    for obj in iterator:\n  File \"c:\\Users\\Wenhao\\miniconda3\\lib\\site-packages\\pyspark\\rdd.py\", line 3890, in add_shuffle_key\n    yield outputSerializer.dumps(items)\n  File \"c:\\Users\\Wenhao\\miniconda3\\lib\\site-packages\\pyspark\\python\\lib\\pyspark.zip\\pyspark\\serializers.py\", line 459, in dumps\n    return cloudpickle.dumps(obj, pickle_protocol)\n  File \"c:\\Users\\Wenhao\\miniconda3\\lib\\site-packages\\pyspark\\python\\lib\\pyspark.zip\\pyspark\\cloudpickle\\cloudpickle_fast.py\", line 73, in dumps\n    cp.dump(obj)\n  File \"c:\\Users\\Wenhao\\miniconda3\\lib\\site-packages\\pyspark\\python\\lib\\pyspark.zip\\pyspark\\cloudpickle\\cloudpickle_fast.py\", line 639, in dump\n    raise pickle.PicklingError(msg) from e\n_pickle.PicklingError: Could not pickle object as excessively deep recursion required.\n\r\n\tat org.apache.spark.api.python.BasePythonRunner$ReaderIterator.handlePythonException(PythonRunner.scala:572)\r\n\tat org.apache.spark.api.python.PythonRunner$$anon$3.read(PythonRunner.scala:784)\r\n\tat org.apache.spark.api.python.PythonRunner$$anon$3.read(PythonRunner.scala:766)\r\n\tat org.apache.spark.api.python.BasePythonRunner$ReaderIterator.hasNext(PythonRunner.scala:525)\r\n\tat org.apache.spark.InterruptibleIterator.hasNext(InterruptibleIterator.scala:37)\r\n\tat scala.collection.Iterator$GroupedIterator.takeDestructively(Iterator.scala:1160)\r\n\tat scala.collection.Iterator$GroupedIterator.go(Iterator.scala:1176)\r\n\tat scala.collection.Iterator$GroupedIterator.fill(Iterator.scala:1213)\r\n\tat scala.collection.Iterator$GroupedIterator.hasNext(Iterator.scala:1217)\r\n\tat scala.collection.Iterator$$anon$10.hasNext(Iterator.scala:460)\r\n\tat org.apache.spark.shuffle.sort.BypassMergeSortShuffleWriter.write(BypassMergeSortShuffleWriter.java:140)\r\n\tat org.apache.spark.shuffle.ShuffleWriteProcessor.write(ShuffleWriteProcessor.scala:59)\r\n\tat org.apache.spark.scheduler.ShuffleMapTask.runTask(ShuffleMapTask.scala:104)\r\n\tat org.apache.spark.scheduler.ShuffleMapTask.runTask(ShuffleMapTask.scala:54)\r\n\tat org.apache.spark.TaskContext.runTaskWithListeners(TaskContext.scala:166)\r\n\tat org.apache.spark.scheduler.Task.run(Task.scala:141)\r\n\tat org.apache.spark.executor.Executor$TaskRunner.$anonfun$run$4(Executor.scala:620)\r\n\tat org.apache.spark.util.SparkErrorUtils.tryWithSafeFinally(SparkErrorUtils.scala:64)\r\n\tat org.apache.spark.util.SparkErrorUtils.tryWithSafeFinally$(SparkErrorUtils.scala:61)\r\n\tat org.apache.spark.util.Utils$.tryWithSafeFinally(Utils.scala:94)\r\n\tat org.apache.spark.executor.Executor$TaskRunner.run(Executor.scala:623)\r\n\tat java.util.concurrent.ThreadPoolExecutor.runWorker(Unknown Source)\r\n\tat java.util.concurrent.ThreadPoolExecutor$Worker.run(Unknown Source)\r\n\tat java.lang.Thread.run(Unknown Source)\r\n\nDriver stacktrace:\r\n\tat org.apache.spark.scheduler.DAGScheduler.failJobAndIndependentStages(DAGScheduler.scala:2856)\r\n\tat org.apache.spark.scheduler.DAGScheduler.$anonfun$abortStage$2(DAGScheduler.scala:2792)\r\n\tat org.apache.spark.scheduler.DAGScheduler.$anonfun$abortStage$2$adapted(DAGScheduler.scala:2791)\r\n\tat scala.collection.mutable.ResizableArray.foreach(ResizableArray.scala:62)\r\n\tat scala.collection.mutable.ResizableArray.foreach$(ResizableArray.scala:55)\r\n\tat scala.collection.mutable.ArrayBuffer.foreach(ArrayBuffer.scala:49)\r\n\tat org.apache.spark.scheduler.DAGScheduler.abortStage(DAGScheduler.scala:2791)\r\n\tat org.apache.spark.scheduler.DAGScheduler.$anonfun$handleTaskSetFailed$1(DAGScheduler.scala:1247)\r\n\tat org.apache.spark.scheduler.DAGScheduler.$anonfun$handleTaskSetFailed$1$adapted(DAGScheduler.scala:1247)\r\n\tat scala.Option.foreach(Option.scala:407)\r\n\tat org.apache.spark.scheduler.DAGScheduler.handleTaskSetFailed(DAGScheduler.scala:1247)\r\n\tat org.apache.spark.scheduler.DAGSchedulerEventProcessLoop.doOnReceive(DAGScheduler.scala:3060)\r\n\tat org.apache.spark.scheduler.DAGSchedulerEventProcessLoop.onReceive(DAGScheduler.scala:2994)\r\n\tat org.apache.spark.scheduler.DAGSchedulerEventProcessLoop.onReceive(DAGScheduler.scala:2983)\r\n\tat org.apache.spark.util.EventLoop$$anon$1.run(EventLoop.scala:49)\r\n\tat org.apache.spark.scheduler.DAGScheduler.runJob(DAGScheduler.scala:989)\r\n\tat org.apache.spark.SparkContext.runJob(SparkContext.scala:2398)\r\n\tat org.apache.spark.SparkContext.runJob(SparkContext.scala:2419)\r\n\tat org.apache.spark.SparkContext.runJob(SparkContext.scala:2438)\r\n\tat org.apache.spark.api.python.PythonRDD$.runJob(PythonRDD.scala:181)\r\n\tat org.apache.spark.api.python.PythonRDD.runJob(PythonRDD.scala)\r\n\tat sun.reflect.GeneratedMethodAccessor161.invoke(Unknown Source)\r\n\tat sun.reflect.DelegatingMethodAccessorImpl.invoke(Unknown Source)\r\n\tat java.lang.reflect.Method.invoke(Unknown Source)\r\n\tat py4j.reflection.MethodInvoker.invoke(MethodInvoker.java:244)\r\n\tat py4j.reflection.ReflectionEngine.invoke(ReflectionEngine.java:374)\r\n\tat py4j.Gateway.invoke(Gateway.java:282)\r\n\tat py4j.commands.AbstractCommand.invokeMethod(AbstractCommand.java:132)\r\n\tat py4j.commands.CallCommand.execute(CallCommand.java:79)\r\n\tat py4j.ClientServerConnection.waitForCommands(ClientServerConnection.java:182)\r\n\tat py4j.ClientServerConnection.run(ClientServerConnection.java:106)\r\n\tat java.lang.Thread.run(Unknown Source)\r\nCaused by: org.apache.spark.api.python.PythonException: Traceback (most recent call last):\n  File \"c:\\Users\\Wenhao\\miniconda3\\lib\\site-packages\\pyspark\\python\\lib\\pyspark.zip\\pyspark\\cloudpickle\\cloudpickle_fast.py\", line 632, in dump\n    return Pickler.dump(self, obj)\nRecursionError: maximum recursion depth exceeded while pickling an object\n\nThe above exception was the direct cause of the following exception:\n\nTraceback (most recent call last):\n  File \"c:\\Users\\Wenhao\\miniconda3\\lib\\site-packages\\pyspark\\python\\lib\\pyspark.zip\\pyspark\\worker.py\", line 1247, in main\n  File \"c:\\Users\\Wenhao\\miniconda3\\lib\\site-packages\\pyspark\\python\\lib\\pyspark.zip\\pyspark\\worker.py\", line 1239, in process\n  File \"c:\\Users\\Wenhao\\miniconda3\\lib\\site-packages\\pyspark\\python\\lib\\pyspark.zip\\pyspark\\serializers.py\", line 146, in dump_stream\n    for obj in iterator:\n  File \"c:\\Users\\Wenhao\\miniconda3\\lib\\site-packages\\pyspark\\rdd.py\", line 3890, in add_shuffle_key\n    yield outputSerializer.dumps(items)\n  File \"c:\\Users\\Wenhao\\miniconda3\\lib\\site-packages\\pyspark\\python\\lib\\pyspark.zip\\pyspark\\serializers.py\", line 459, in dumps\n    return cloudpickle.dumps(obj, pickle_protocol)\n  File \"c:\\Users\\Wenhao\\miniconda3\\lib\\site-packages\\pyspark\\python\\lib\\pyspark.zip\\pyspark\\cloudpickle\\cloudpickle_fast.py\", line 73, in dumps\n    cp.dump(obj)\n  File \"c:\\Users\\Wenhao\\miniconda3\\lib\\site-packages\\pyspark\\python\\lib\\pyspark.zip\\pyspark\\cloudpickle\\cloudpickle_fast.py\", line 639, in dump\n    raise pickle.PicklingError(msg) from e\n_pickle.PicklingError: Could not pickle object as excessively deep recursion required.\n\r\n\tat org.apache.spark.api.python.BasePythonRunner$ReaderIterator.handlePythonException(PythonRunner.scala:572)\r\n\tat org.apache.spark.api.python.PythonRunner$$anon$3.read(PythonRunner.scala:784)\r\n\tat org.apache.spark.api.python.PythonRunner$$anon$3.read(PythonRunner.scala:766)\r\n\tat org.apache.spark.api.python.BasePythonRunner$ReaderIterator.hasNext(PythonRunner.scala:525)\r\n\tat org.apache.spark.InterruptibleIterator.hasNext(InterruptibleIterator.scala:37)\r\n\tat scala.collection.Iterator$GroupedIterator.takeDestructively(Iterator.scala:1160)\r\n\tat scala.collection.Iterator$GroupedIterator.go(Iterator.scala:1176)\r\n\tat scala.collection.Iterator$GroupedIterator.fill(Iterator.scala:1213)\r\n\tat scala.collection.Iterator$GroupedIterator.hasNext(Iterator.scala:1217)\r\n\tat scala.collection.Iterator$$anon$10.hasNext(Iterator.scala:460)\r\n\tat org.apache.spark.shuffle.sort.BypassMergeSortShuffleWriter.write(BypassMergeSortShuffleWriter.java:140)\r\n\tat org.apache.spark.shuffle.ShuffleWriteProcessor.write(ShuffleWriteProcessor.scala:59)\r\n\tat org.apache.spark.scheduler.ShuffleMapTask.runTask(ShuffleMapTask.scala:104)\r\n\tat org.apache.spark.scheduler.ShuffleMapTask.runTask(ShuffleMapTask.scala:54)\r\n\tat org.apache.spark.TaskContext.runTaskWithListeners(TaskContext.scala:166)\r\n\tat org.apache.spark.scheduler.Task.run(Task.scala:141)\r\n\tat org.apache.spark.executor.Executor$TaskRunner.$anonfun$run$4(Executor.scala:620)\r\n\tat org.apache.spark.util.SparkErrorUtils.tryWithSafeFinally(SparkErrorUtils.scala:64)\r\n\tat org.apache.spark.util.SparkErrorUtils.tryWithSafeFinally$(SparkErrorUtils.scala:61)\r\n\tat org.apache.spark.util.Utils$.tryWithSafeFinally(Utils.scala:94)\r\n\tat org.apache.spark.executor.Executor$TaskRunner.run(Executor.scala:623)\r\n\tat java.util.concurrent.ThreadPoolExecutor.runWorker(Unknown Source)\r\n\tat java.util.concurrent.ThreadPoolExecutor$Worker.run(Unknown Source)\r\n\t... 1 more\r\n",
     "output_type": "error",
     "traceback": [
      "\u001b[1;31m---------------------------------------------------------------------------\u001b[0m",
      "\u001b[1;31mPy4JJavaError\u001b[0m                             Traceback (most recent call last)",
      "Cell \u001b[1;32mIn[46], line 1\u001b[0m\n\u001b[1;32m----> 1\u001b[0m \u001b[43mnew_centroids\u001b[49m\u001b[38;5;241;43m.\u001b[39;49m\u001b[43mtake\u001b[49m\u001b[43m(\u001b[49m\u001b[38;5;241;43m5\u001b[39;49m\u001b[43m)\u001b[49m\n",
      "File \u001b[1;32mc:\\Users\\Wenhao\\miniconda3\\lib\\site-packages\\pyspark\\rdd.py:2855\u001b[0m, in \u001b[0;36mRDD.take\u001b[1;34m(self, num)\u001b[0m\n\u001b[0;32m   2852\u001b[0m         taken \u001b[38;5;241m+\u001b[39m\u001b[38;5;241m=\u001b[39m \u001b[38;5;241m1\u001b[39m\n\u001b[0;32m   2854\u001b[0m p \u001b[38;5;241m=\u001b[39m \u001b[38;5;28mrange\u001b[39m(partsScanned, \u001b[38;5;28mmin\u001b[39m(partsScanned \u001b[38;5;241m+\u001b[39m numPartsToTry, totalParts))\n\u001b[1;32m-> 2855\u001b[0m res \u001b[38;5;241m=\u001b[39m \u001b[38;5;28;43mself\u001b[39;49m\u001b[38;5;241;43m.\u001b[39;49m\u001b[43mcontext\u001b[49m\u001b[38;5;241;43m.\u001b[39;49m\u001b[43mrunJob\u001b[49m\u001b[43m(\u001b[49m\u001b[38;5;28;43mself\u001b[39;49m\u001b[43m,\u001b[49m\u001b[43m \u001b[49m\u001b[43mtakeUpToNumLeft\u001b[49m\u001b[43m,\u001b[49m\u001b[43m \u001b[49m\u001b[43mp\u001b[49m\u001b[43m)\u001b[49m\n\u001b[0;32m   2857\u001b[0m items \u001b[38;5;241m+\u001b[39m\u001b[38;5;241m=\u001b[39m res\n\u001b[0;32m   2858\u001b[0m partsScanned \u001b[38;5;241m+\u001b[39m\u001b[38;5;241m=\u001b[39m numPartsToTry\n",
      "File \u001b[1;32mc:\\Users\\Wenhao\\miniconda3\\lib\\site-packages\\pyspark\\context.py:2510\u001b[0m, in \u001b[0;36mSparkContext.runJob\u001b[1;34m(self, rdd, partitionFunc, partitions, allowLocal)\u001b[0m\n\u001b[0;32m   2508\u001b[0m mappedRDD \u001b[38;5;241m=\u001b[39m rdd\u001b[38;5;241m.\u001b[39mmapPartitions(partitionFunc)\n\u001b[0;32m   2509\u001b[0m \u001b[38;5;28;01massert\u001b[39;00m \u001b[38;5;28mself\u001b[39m\u001b[38;5;241m.\u001b[39m_jvm \u001b[38;5;129;01mis\u001b[39;00m \u001b[38;5;129;01mnot\u001b[39;00m \u001b[38;5;28;01mNone\u001b[39;00m\n\u001b[1;32m-> 2510\u001b[0m sock_info \u001b[38;5;241m=\u001b[39m \u001b[38;5;28;43mself\u001b[39;49m\u001b[38;5;241;43m.\u001b[39;49m\u001b[43m_jvm\u001b[49m\u001b[38;5;241;43m.\u001b[39;49m\u001b[43mPythonRDD\u001b[49m\u001b[38;5;241;43m.\u001b[39;49m\u001b[43mrunJob\u001b[49m\u001b[43m(\u001b[49m\u001b[38;5;28;43mself\u001b[39;49m\u001b[38;5;241;43m.\u001b[39;49m\u001b[43m_jsc\u001b[49m\u001b[38;5;241;43m.\u001b[39;49m\u001b[43msc\u001b[49m\u001b[43m(\u001b[49m\u001b[43m)\u001b[49m\u001b[43m,\u001b[49m\u001b[43m \u001b[49m\u001b[43mmappedRDD\u001b[49m\u001b[38;5;241;43m.\u001b[39;49m\u001b[43m_jrdd\u001b[49m\u001b[43m,\u001b[49m\u001b[43m \u001b[49m\u001b[43mpartitions\u001b[49m\u001b[43m)\u001b[49m\n\u001b[0;32m   2511\u001b[0m \u001b[38;5;28;01mreturn\u001b[39;00m \u001b[38;5;28mlist\u001b[39m(_load_from_socket(sock_info, mappedRDD\u001b[38;5;241m.\u001b[39m_jrdd_deserializer))\n",
      "File \u001b[1;32mc:\\Users\\Wenhao\\miniconda3\\lib\\site-packages\\py4j\\java_gateway.py:1322\u001b[0m, in \u001b[0;36mJavaMember.__call__\u001b[1;34m(self, *args)\u001b[0m\n\u001b[0;32m   1316\u001b[0m command \u001b[38;5;241m=\u001b[39m proto\u001b[38;5;241m.\u001b[39mCALL_COMMAND_NAME \u001b[38;5;241m+\u001b[39m\\\n\u001b[0;32m   1317\u001b[0m     \u001b[38;5;28mself\u001b[39m\u001b[38;5;241m.\u001b[39mcommand_header \u001b[38;5;241m+\u001b[39m\\\n\u001b[0;32m   1318\u001b[0m     args_command \u001b[38;5;241m+\u001b[39m\\\n\u001b[0;32m   1319\u001b[0m     proto\u001b[38;5;241m.\u001b[39mEND_COMMAND_PART\n\u001b[0;32m   1321\u001b[0m answer \u001b[38;5;241m=\u001b[39m \u001b[38;5;28mself\u001b[39m\u001b[38;5;241m.\u001b[39mgateway_client\u001b[38;5;241m.\u001b[39msend_command(command)\n\u001b[1;32m-> 1322\u001b[0m return_value \u001b[38;5;241m=\u001b[39m \u001b[43mget_return_value\u001b[49m\u001b[43m(\u001b[49m\n\u001b[0;32m   1323\u001b[0m \u001b[43m    \u001b[49m\u001b[43manswer\u001b[49m\u001b[43m,\u001b[49m\u001b[43m \u001b[49m\u001b[38;5;28;43mself\u001b[39;49m\u001b[38;5;241;43m.\u001b[39;49m\u001b[43mgateway_client\u001b[49m\u001b[43m,\u001b[49m\u001b[43m \u001b[49m\u001b[38;5;28;43mself\u001b[39;49m\u001b[38;5;241;43m.\u001b[39;49m\u001b[43mtarget_id\u001b[49m\u001b[43m,\u001b[49m\u001b[43m \u001b[49m\u001b[38;5;28;43mself\u001b[39;49m\u001b[38;5;241;43m.\u001b[39;49m\u001b[43mname\u001b[49m\u001b[43m)\u001b[49m\n\u001b[0;32m   1325\u001b[0m \u001b[38;5;28;01mfor\u001b[39;00m temp_arg \u001b[38;5;129;01min\u001b[39;00m temp_args:\n\u001b[0;32m   1326\u001b[0m     \u001b[38;5;28;01mif\u001b[39;00m \u001b[38;5;28mhasattr\u001b[39m(temp_arg, \u001b[38;5;124m\"\u001b[39m\u001b[38;5;124m_detach\u001b[39m\u001b[38;5;124m\"\u001b[39m):\n",
      "File \u001b[1;32mc:\\Users\\Wenhao\\miniconda3\\lib\\site-packages\\pyspark\\errors\\exceptions\\captured.py:179\u001b[0m, in \u001b[0;36mcapture_sql_exception.<locals>.deco\u001b[1;34m(*a, **kw)\u001b[0m\n\u001b[0;32m    177\u001b[0m \u001b[38;5;28;01mdef\u001b[39;00m \u001b[38;5;21mdeco\u001b[39m(\u001b[38;5;241m*\u001b[39ma: Any, \u001b[38;5;241m*\u001b[39m\u001b[38;5;241m*\u001b[39mkw: Any) \u001b[38;5;241m-\u001b[39m\u001b[38;5;241m>\u001b[39m Any:\n\u001b[0;32m    178\u001b[0m     \u001b[38;5;28;01mtry\u001b[39;00m:\n\u001b[1;32m--> 179\u001b[0m         \u001b[38;5;28;01mreturn\u001b[39;00m f(\u001b[38;5;241m*\u001b[39ma, \u001b[38;5;241m*\u001b[39m\u001b[38;5;241m*\u001b[39mkw)\n\u001b[0;32m    180\u001b[0m     \u001b[38;5;28;01mexcept\u001b[39;00m Py4JJavaError \u001b[38;5;28;01mas\u001b[39;00m e:\n\u001b[0;32m    181\u001b[0m         converted \u001b[38;5;241m=\u001b[39m convert_exception(e\u001b[38;5;241m.\u001b[39mjava_exception)\n",
      "File \u001b[1;32mc:\\Users\\Wenhao\\miniconda3\\lib\\site-packages\\py4j\\protocol.py:326\u001b[0m, in \u001b[0;36mget_return_value\u001b[1;34m(answer, gateway_client, target_id, name)\u001b[0m\n\u001b[0;32m    324\u001b[0m value \u001b[38;5;241m=\u001b[39m OUTPUT_CONVERTER[\u001b[38;5;28mtype\u001b[39m](answer[\u001b[38;5;241m2\u001b[39m:], gateway_client)\n\u001b[0;32m    325\u001b[0m \u001b[38;5;28;01mif\u001b[39;00m answer[\u001b[38;5;241m1\u001b[39m] \u001b[38;5;241m==\u001b[39m REFERENCE_TYPE:\n\u001b[1;32m--> 326\u001b[0m     \u001b[38;5;28;01mraise\u001b[39;00m Py4JJavaError(\n\u001b[0;32m    327\u001b[0m         \u001b[38;5;124m\"\u001b[39m\u001b[38;5;124mAn error occurred while calling \u001b[39m\u001b[38;5;132;01m{0}\u001b[39;00m\u001b[38;5;132;01m{1}\u001b[39;00m\u001b[38;5;132;01m{2}\u001b[39;00m\u001b[38;5;124m.\u001b[39m\u001b[38;5;130;01m\\n\u001b[39;00m\u001b[38;5;124m\"\u001b[39m\u001b[38;5;241m.\u001b[39m\n\u001b[0;32m    328\u001b[0m         \u001b[38;5;28mformat\u001b[39m(target_id, \u001b[38;5;124m\"\u001b[39m\u001b[38;5;124m.\u001b[39m\u001b[38;5;124m\"\u001b[39m, name), value)\n\u001b[0;32m    329\u001b[0m \u001b[38;5;28;01melse\u001b[39;00m:\n\u001b[0;32m    330\u001b[0m     \u001b[38;5;28;01mraise\u001b[39;00m Py4JError(\n\u001b[0;32m    331\u001b[0m         \u001b[38;5;124m\"\u001b[39m\u001b[38;5;124mAn error occurred while calling \u001b[39m\u001b[38;5;132;01m{0}\u001b[39;00m\u001b[38;5;132;01m{1}\u001b[39;00m\u001b[38;5;132;01m{2}\u001b[39;00m\u001b[38;5;124m. Trace:\u001b[39m\u001b[38;5;130;01m\\n\u001b[39;00m\u001b[38;5;132;01m{3}\u001b[39;00m\u001b[38;5;130;01m\\n\u001b[39;00m\u001b[38;5;124m\"\u001b[39m\u001b[38;5;241m.\u001b[39m\n\u001b[0;32m    332\u001b[0m         \u001b[38;5;28mformat\u001b[39m(target_id, \u001b[38;5;124m\"\u001b[39m\u001b[38;5;124m.\u001b[39m\u001b[38;5;124m\"\u001b[39m, name, value))\n",
      "\u001b[1;31mPy4JJavaError\u001b[0m: An error occurred while calling z:org.apache.spark.api.python.PythonRDD.runJob.\n: org.apache.spark.SparkException: Job aborted due to stage failure: Task 0 in stage 1232.0 failed 1 times, most recent failure: Lost task 0.0 in stage 1232.0 (TID 1716) (10.0.0.194 executor driver): org.apache.spark.api.python.PythonException: Traceback (most recent call last):\n  File \"c:\\Users\\Wenhao\\miniconda3\\lib\\site-packages\\pyspark\\python\\lib\\pyspark.zip\\pyspark\\cloudpickle\\cloudpickle_fast.py\", line 632, in dump\n    return Pickler.dump(self, obj)\nRecursionError: maximum recursion depth exceeded while pickling an object\n\nThe above exception was the direct cause of the following exception:\n\nTraceback (most recent call last):\n  File \"c:\\Users\\Wenhao\\miniconda3\\lib\\site-packages\\pyspark\\python\\lib\\pyspark.zip\\pyspark\\worker.py\", line 1247, in main\n  File \"c:\\Users\\Wenhao\\miniconda3\\lib\\site-packages\\pyspark\\python\\lib\\pyspark.zip\\pyspark\\worker.py\", line 1239, in process\n  File \"c:\\Users\\Wenhao\\miniconda3\\lib\\site-packages\\pyspark\\python\\lib\\pyspark.zip\\pyspark\\serializers.py\", line 146, in dump_stream\n    for obj in iterator:\n  File \"c:\\Users\\Wenhao\\miniconda3\\lib\\site-packages\\pyspark\\rdd.py\", line 3890, in add_shuffle_key\n    yield outputSerializer.dumps(items)\n  File \"c:\\Users\\Wenhao\\miniconda3\\lib\\site-packages\\pyspark\\python\\lib\\pyspark.zip\\pyspark\\serializers.py\", line 459, in dumps\n    return cloudpickle.dumps(obj, pickle_protocol)\n  File \"c:\\Users\\Wenhao\\miniconda3\\lib\\site-packages\\pyspark\\python\\lib\\pyspark.zip\\pyspark\\cloudpickle\\cloudpickle_fast.py\", line 73, in dumps\n    cp.dump(obj)\n  File \"c:\\Users\\Wenhao\\miniconda3\\lib\\site-packages\\pyspark\\python\\lib\\pyspark.zip\\pyspark\\cloudpickle\\cloudpickle_fast.py\", line 639, in dump\n    raise pickle.PicklingError(msg) from e\n_pickle.PicklingError: Could not pickle object as excessively deep recursion required.\n\r\n\tat org.apache.spark.api.python.BasePythonRunner$ReaderIterator.handlePythonException(PythonRunner.scala:572)\r\n\tat org.apache.spark.api.python.PythonRunner$$anon$3.read(PythonRunner.scala:784)\r\n\tat org.apache.spark.api.python.PythonRunner$$anon$3.read(PythonRunner.scala:766)\r\n\tat org.apache.spark.api.python.BasePythonRunner$ReaderIterator.hasNext(PythonRunner.scala:525)\r\n\tat org.apache.spark.InterruptibleIterator.hasNext(InterruptibleIterator.scala:37)\r\n\tat scala.collection.Iterator$GroupedIterator.takeDestructively(Iterator.scala:1160)\r\n\tat scala.collection.Iterator$GroupedIterator.go(Iterator.scala:1176)\r\n\tat scala.collection.Iterator$GroupedIterator.fill(Iterator.scala:1213)\r\n\tat scala.collection.Iterator$GroupedIterator.hasNext(Iterator.scala:1217)\r\n\tat scala.collection.Iterator$$anon$10.hasNext(Iterator.scala:460)\r\n\tat org.apache.spark.shuffle.sort.BypassMergeSortShuffleWriter.write(BypassMergeSortShuffleWriter.java:140)\r\n\tat org.apache.spark.shuffle.ShuffleWriteProcessor.write(ShuffleWriteProcessor.scala:59)\r\n\tat org.apache.spark.scheduler.ShuffleMapTask.runTask(ShuffleMapTask.scala:104)\r\n\tat org.apache.spark.scheduler.ShuffleMapTask.runTask(ShuffleMapTask.scala:54)\r\n\tat org.apache.spark.TaskContext.runTaskWithListeners(TaskContext.scala:166)\r\n\tat org.apache.spark.scheduler.Task.run(Task.scala:141)\r\n\tat org.apache.spark.executor.Executor$TaskRunner.$anonfun$run$4(Executor.scala:620)\r\n\tat org.apache.spark.util.SparkErrorUtils.tryWithSafeFinally(SparkErrorUtils.scala:64)\r\n\tat org.apache.spark.util.SparkErrorUtils.tryWithSafeFinally$(SparkErrorUtils.scala:61)\r\n\tat org.apache.spark.util.Utils$.tryWithSafeFinally(Utils.scala:94)\r\n\tat org.apache.spark.executor.Executor$TaskRunner.run(Executor.scala:623)\r\n\tat java.util.concurrent.ThreadPoolExecutor.runWorker(Unknown Source)\r\n\tat java.util.concurrent.ThreadPoolExecutor$Worker.run(Unknown Source)\r\n\tat java.lang.Thread.run(Unknown Source)\r\n\nDriver stacktrace:\r\n\tat org.apache.spark.scheduler.DAGScheduler.failJobAndIndependentStages(DAGScheduler.scala:2856)\r\n\tat org.apache.spark.scheduler.DAGScheduler.$anonfun$abortStage$2(DAGScheduler.scala:2792)\r\n\tat org.apache.spark.scheduler.DAGScheduler.$anonfun$abortStage$2$adapted(DAGScheduler.scala:2791)\r\n\tat scala.collection.mutable.ResizableArray.foreach(ResizableArray.scala:62)\r\n\tat scala.collection.mutable.ResizableArray.foreach$(ResizableArray.scala:55)\r\n\tat scala.collection.mutable.ArrayBuffer.foreach(ArrayBuffer.scala:49)\r\n\tat org.apache.spark.scheduler.DAGScheduler.abortStage(DAGScheduler.scala:2791)\r\n\tat org.apache.spark.scheduler.DAGScheduler.$anonfun$handleTaskSetFailed$1(DAGScheduler.scala:1247)\r\n\tat org.apache.spark.scheduler.DAGScheduler.$anonfun$handleTaskSetFailed$1$adapted(DAGScheduler.scala:1247)\r\n\tat scala.Option.foreach(Option.scala:407)\r\n\tat org.apache.spark.scheduler.DAGScheduler.handleTaskSetFailed(DAGScheduler.scala:1247)\r\n\tat org.apache.spark.scheduler.DAGSchedulerEventProcessLoop.doOnReceive(DAGScheduler.scala:3060)\r\n\tat org.apache.spark.scheduler.DAGSchedulerEventProcessLoop.onReceive(DAGScheduler.scala:2994)\r\n\tat org.apache.spark.scheduler.DAGSchedulerEventProcessLoop.onReceive(DAGScheduler.scala:2983)\r\n\tat org.apache.spark.util.EventLoop$$anon$1.run(EventLoop.scala:49)\r\n\tat org.apache.spark.scheduler.DAGScheduler.runJob(DAGScheduler.scala:989)\r\n\tat org.apache.spark.SparkContext.runJob(SparkContext.scala:2398)\r\n\tat org.apache.spark.SparkContext.runJob(SparkContext.scala:2419)\r\n\tat org.apache.spark.SparkContext.runJob(SparkContext.scala:2438)\r\n\tat org.apache.spark.api.python.PythonRDD$.runJob(PythonRDD.scala:181)\r\n\tat org.apache.spark.api.python.PythonRDD.runJob(PythonRDD.scala)\r\n\tat sun.reflect.GeneratedMethodAccessor161.invoke(Unknown Source)\r\n\tat sun.reflect.DelegatingMethodAccessorImpl.invoke(Unknown Source)\r\n\tat java.lang.reflect.Method.invoke(Unknown Source)\r\n\tat py4j.reflection.MethodInvoker.invoke(MethodInvoker.java:244)\r\n\tat py4j.reflection.ReflectionEngine.invoke(ReflectionEngine.java:374)\r\n\tat py4j.Gateway.invoke(Gateway.java:282)\r\n\tat py4j.commands.AbstractCommand.invokeMethod(AbstractCommand.java:132)\r\n\tat py4j.commands.CallCommand.execute(CallCommand.java:79)\r\n\tat py4j.ClientServerConnection.waitForCommands(ClientServerConnection.java:182)\r\n\tat py4j.ClientServerConnection.run(ClientServerConnection.java:106)\r\n\tat java.lang.Thread.run(Unknown Source)\r\nCaused by: org.apache.spark.api.python.PythonException: Traceback (most recent call last):\n  File \"c:\\Users\\Wenhao\\miniconda3\\lib\\site-packages\\pyspark\\python\\lib\\pyspark.zip\\pyspark\\cloudpickle\\cloudpickle_fast.py\", line 632, in dump\n    return Pickler.dump(self, obj)\nRecursionError: maximum recursion depth exceeded while pickling an object\n\nThe above exception was the direct cause of the following exception:\n\nTraceback (most recent call last):\n  File \"c:\\Users\\Wenhao\\miniconda3\\lib\\site-packages\\pyspark\\python\\lib\\pyspark.zip\\pyspark\\worker.py\", line 1247, in main\n  File \"c:\\Users\\Wenhao\\miniconda3\\lib\\site-packages\\pyspark\\python\\lib\\pyspark.zip\\pyspark\\worker.py\", line 1239, in process\n  File \"c:\\Users\\Wenhao\\miniconda3\\lib\\site-packages\\pyspark\\python\\lib\\pyspark.zip\\pyspark\\serializers.py\", line 146, in dump_stream\n    for obj in iterator:\n  File \"c:\\Users\\Wenhao\\miniconda3\\lib\\site-packages\\pyspark\\rdd.py\", line 3890, in add_shuffle_key\n    yield outputSerializer.dumps(items)\n  File \"c:\\Users\\Wenhao\\miniconda3\\lib\\site-packages\\pyspark\\python\\lib\\pyspark.zip\\pyspark\\serializers.py\", line 459, in dumps\n    return cloudpickle.dumps(obj, pickle_protocol)\n  File \"c:\\Users\\Wenhao\\miniconda3\\lib\\site-packages\\pyspark\\python\\lib\\pyspark.zip\\pyspark\\cloudpickle\\cloudpickle_fast.py\", line 73, in dumps\n    cp.dump(obj)\n  File \"c:\\Users\\Wenhao\\miniconda3\\lib\\site-packages\\pyspark\\python\\lib\\pyspark.zip\\pyspark\\cloudpickle\\cloudpickle_fast.py\", line 639, in dump\n    raise pickle.PicklingError(msg) from e\n_pickle.PicklingError: Could not pickle object as excessively deep recursion required.\n\r\n\tat org.apache.spark.api.python.BasePythonRunner$ReaderIterator.handlePythonException(PythonRunner.scala:572)\r\n\tat org.apache.spark.api.python.PythonRunner$$anon$3.read(PythonRunner.scala:784)\r\n\tat org.apache.spark.api.python.PythonRunner$$anon$3.read(PythonRunner.scala:766)\r\n\tat org.apache.spark.api.python.BasePythonRunner$ReaderIterator.hasNext(PythonRunner.scala:525)\r\n\tat org.apache.spark.InterruptibleIterator.hasNext(InterruptibleIterator.scala:37)\r\n\tat scala.collection.Iterator$GroupedIterator.takeDestructively(Iterator.scala:1160)\r\n\tat scala.collection.Iterator$GroupedIterator.go(Iterator.scala:1176)\r\n\tat scala.collection.Iterator$GroupedIterator.fill(Iterator.scala:1213)\r\n\tat scala.collection.Iterator$GroupedIterator.hasNext(Iterator.scala:1217)\r\n\tat scala.collection.Iterator$$anon$10.hasNext(Iterator.scala:460)\r\n\tat org.apache.spark.shuffle.sort.BypassMergeSortShuffleWriter.write(BypassMergeSortShuffleWriter.java:140)\r\n\tat org.apache.spark.shuffle.ShuffleWriteProcessor.write(ShuffleWriteProcessor.scala:59)\r\n\tat org.apache.spark.scheduler.ShuffleMapTask.runTask(ShuffleMapTask.scala:104)\r\n\tat org.apache.spark.scheduler.ShuffleMapTask.runTask(ShuffleMapTask.scala:54)\r\n\tat org.apache.spark.TaskContext.runTaskWithListeners(TaskContext.scala:166)\r\n\tat org.apache.spark.scheduler.Task.run(Task.scala:141)\r\n\tat org.apache.spark.executor.Executor$TaskRunner.$anonfun$run$4(Executor.scala:620)\r\n\tat org.apache.spark.util.SparkErrorUtils.tryWithSafeFinally(SparkErrorUtils.scala:64)\r\n\tat org.apache.spark.util.SparkErrorUtils.tryWithSafeFinally$(SparkErrorUtils.scala:61)\r\n\tat org.apache.spark.util.Utils$.tryWithSafeFinally(Utils.scala:94)\r\n\tat org.apache.spark.executor.Executor$TaskRunner.run(Executor.scala:623)\r\n\tat java.util.concurrent.ThreadPoolExecutor.runWorker(Unknown Source)\r\n\tat java.util.concurrent.ThreadPoolExecutor$Worker.run(Unknown Source)\r\n\t... 1 more\r\n"
     ]
    }
   ],
   "source": [
    "new_centroids.take(5)"
   ]
  },
  {
   "cell_type": "code",
   "execution_count": 39,
   "metadata": {},
   "outputs": [
    {
     "data": {
      "text/plain": [
       "[1, [2]]"
      ]
     },
     "execution_count": 39,
     "metadata": {},
     "output_type": "execute_result"
    }
   ],
   "source": [
    "[1] + [[2]]"
   ]
  },
  {
   "cell_type": "code",
   "execution_count": 27,
   "metadata": {},
   "outputs": [
    {
     "ename": "TypeError",
     "evalue": "list.extend() takes exactly one argument (0 given)",
     "output_type": "error",
     "traceback": [
      "\u001b[1;31m---------------------------------------------------------------------------\u001b[0m",
      "\u001b[1;31mTypeError\u001b[0m                                 Traceback (most recent call last)",
      "Cell \u001b[1;32mIn[27], line 1\u001b[0m\n\u001b[1;32m----> 1\u001b[0m \u001b[43m[\u001b[49m\u001b[43m[\u001b[49m\u001b[43ma\u001b[49m\u001b[43m]\u001b[49m\u001b[43m]\u001b[49m\u001b[38;5;241;43m.\u001b[39;49m\u001b[43mextend\u001b[49m\u001b[43m(\u001b[49m\u001b[43m)\u001b[49m\n",
      "\u001b[1;31mTypeError\u001b[0m: list.extend() takes exactly one argument (0 given)"
     ]
    }
   ],
   "source": [
    "[[a]].extend()"
   ]
  },
  {
   "cell_type": "code",
   "execution_count": 35,
   "metadata": {},
   "outputs": [],
   "source": [
    "a = [[1]]"
   ]
  },
  {
   "cell_type": "code",
   "execution_count": 36,
   "metadata": {},
   "outputs": [],
   "source": [
    "a.extend([[2]])"
   ]
  },
  {
   "cell_type": "code",
   "execution_count": 37,
   "metadata": {},
   "outputs": [
    {
     "data": {
      "text/plain": [
       "[[1], [2]]"
      ]
     },
     "execution_count": 37,
     "metadata": {},
     "output_type": "execute_result"
    }
   ],
   "source": [
    "a"
   ]
  },
  {
   "cell_type": "code",
   "execution_count": null,
   "metadata": {},
   "outputs": [],
   "source": []
  }
 ],
 "metadata": {
  "kernelspec": {
   "display_name": "base",
   "language": "python",
   "name": "python3"
  },
  "language_info": {
   "codemirror_mode": {
    "name": "ipython",
    "version": 3
   },
   "file_extension": ".py",
   "mimetype": "text/x-python",
   "name": "python",
   "nbconvert_exporter": "python",
   "pygments_lexer": "ipython3",
   "version": "3.9.12"
  }
 },
 "nbformat": 4,
 "nbformat_minor": 2
}
