{
 "cells": [
  {
   "cell_type": "code",
   "execution_count": 2,
   "metadata": {},
   "outputs": [],
   "source": [
    "# Import the libraries we will need\n",
    "import pandas as pd\n",
    "import numpy as np\n",
    "\n",
    "import findspark\n",
    "findspark.init()\n",
    "\n",
    "from pyspark.sql import *\n",
    "import pyspark.sql.functions as F\n",
    "from pyspark.sql.types import *\n",
    "\n",
    "# create the Spark Session\n",
    "spark = SparkSession.builder.appName(\"Q2\").getOrCreate()"
   ]
  },
  {
   "cell_type": "code",
   "execution_count": 3,
   "metadata": {},
   "outputs": [],
   "source": [
    "data = spark.read.csv(\"hw2-bundle/hw2-bundle/kmeans/data/data.txt\").toDF(\"observation\")\n",
    "data = data.withColumn(\"observation\", F.split(F.col(\"observation\"), \" \").cast(\"array<float>\"))\n",
    "data = data.withColumn(\"obs_index\", F.monotonically_increasing_id())\n",
    "window = Window.orderBy(F.col(\"obs_index\"))\n",
    "data = data.withColumn(\"obs_index\", F.row_number().over(window) - 1)\n",
    "\n",
    "init_C_random = spark.read.csv(\"hw2-bundle/hw2-bundle/kmeans/data/c1.txt\").toDF(\"centroid\")\n",
    "init_C_random = init_C_random.withColumn(\"centroid\", F.split(F.col(\"centroid\"), \" \").cast(\"array<float>\"))\n",
    "init_C_random = init_C_random.withColumn(\"c_index\", F.monotonically_increasing_id())\n",
    "window = Window.orderBy(F.col(\"c_index\"))\n",
    "init_C_random = init_C_random.withColumn(\"c_index\", F.row_number().over(window) - 1)\n",
    "\n",
    "init_C_far = spark.read.csv(\"hw2-bundle/hw2-bundle/kmeans/data/c2.txt\").toDF(\"centroid\")\n",
    "init_C_far = init_C_far.withColumn(\"centroid\", F.split(F.col(\"centroid\"), \" \").cast(\"array<float>\"))\n",
    "init_C_far = init_C_far.withColumn(\"c_index\", F.monotonically_increasing_id())\n",
    "window = Window.orderBy(F.col(\"c_index\"))\n",
    "init_C_far = init_C_far.withColumn(\"c_index\", F.row_number().over(window) - 1)"
   ]
  },
  {
   "cell_type": "code",
   "execution_count": 4,
   "metadata": {},
   "outputs": [
    {
     "name": "stdout",
     "output_type": "stream",
     "text": [
      "+--------------------+---------+\n",
      "|         observation|obs_index|\n",
      "+--------------------+---------+\n",
      "|[0.0, 0.64, 0.64,...|        0|\n",
      "|[0.21, 0.28, 0.5,...|        1|\n",
      "|[0.06, 0.0, 0.71,...|        2|\n",
      "|[0.0, 0.0, 0.0, 0...|        3|\n",
      "|[0.0, 0.0, 0.0, 0...|        4|\n",
      "+--------------------+---------+\n",
      "only showing top 5 rows\n",
      "\n"
     ]
    }
   ],
   "source": [
    "data.show(5)"
   ]
  },
  {
   "cell_type": "code",
   "execution_count": 5,
   "metadata": {},
   "outputs": [
    {
     "name": "stdout",
     "output_type": "stream",
     "text": [
      "+--------------------+-------+\n",
      "|            centroid|c_index|\n",
      "+--------------------+-------+\n",
      "|[0.0, 0.64, 0.64,...|      0|\n",
      "|[0.21, 0.28, 0.5,...|      1|\n",
      "|[0.06, 0.0, 0.71,...|      2|\n",
      "|[0.0, 0.0, 0.0, 0...|      3|\n",
      "|[0.0, 0.0, 0.0, 0...|      4|\n",
      "|[0.0, 0.0, 0.0, 0...|      5|\n",
      "|[0.0, 0.0, 0.0, 0...|      6|\n",
      "|[0.0, 0.0, 0.0, 0...|      7|\n",
      "|[0.15, 0.0, 0.46,...|      8|\n",
      "|[0.06, 0.12, 0.77...|      9|\n",
      "+--------------------+-------+\n",
      "\n"
     ]
    }
   ],
   "source": [
    "init_C_random.show(10)"
   ]
  },
  {
   "cell_type": "code",
   "execution_count": 10,
   "metadata": {},
   "outputs": [],
   "source": [
    "def k_means(observation, initial_centroids, max_iter):\n",
    "    def comb(x, y):\n",
    "        if isinstance(x, list) & isinstance(y, list):\n",
    "            return x + y\n",
    "        elif isinstance(x, list):\n",
    "            return x + [y]\n",
    "        elif isinstance(y, list):\n",
    "            return [x] + y\n",
    "        else:\n",
    "            return [x] + [y]\n",
    "    \n",
    "    def l2_distance(x, y):\n",
    "        return float(np.linalg.norm(np.array(x) - np.array(y), ord=2) ** 2)\n",
    "    l2_distance_udf = F.udf(l2_distance, FloatType())\n",
    "\n",
    "    cost = np.zeros(max_iter + 1)\n",
    "\n",
    "    # iteration 0 (initialization)\n",
    "    new_partitions = observation.crossJoin(initial_centroids)\n",
    "    new_partitions = new_partitions.withColumn(\"obs_to_c_dist\", l2_distance_udf(F.col(\"observation\"), F.col(\"centroid\")))\n",
    "\n",
    "    window = Window.partitionBy(\"obs_index\")\n",
    "    new_partitions = new_partitions.withColumn(\"min_dist\", F.min(\"obs_to_c_dist\").over(window))\n",
    "    new_partitions = new_partitions.filter(((F.col(\"min_dist\") - F.col(\"obs_to_c_dist\")) < 1e-6) &\n",
    "                                        ((F.col(\"obs_to_c_dist\") - F.col(\"min_dist\")) < 1e-6)).sort(\"obs_index\").drop(\"min_dist\")\n",
    "\n",
    "    new_centroids = new_partitions.rdd.map(lambda row: (row[\"c_index\"], row[\"observation\"]))\n",
    "    new_centroids = new_centroids.reduceByKey(lambda x, y: [comb(x[i], y[i]) for i in range(len(x))])\n",
    "    new_centroids = new_centroids.map(lambda x: x if np.array(x[1]).ndim == 1 else (x[0], np.mean(np.array(x[1]), axis=1).tolist()))\n",
    "    new_centroids = spark.createDataFrame(new_centroids).toDF(\"c_index\", \"centroid\")\n",
    "\n",
    "    cost[0] = np.sum(new_partitions.select(\"obs_to_c_dist\").rdd.flatMap(lambda x: x).collect())\n",
    "    print(f\"At iteration 0, the cost is {cost[0]}.\")\n",
    "\n",
    "    # rest iterations\n",
    "    for t in np.arange(1, max_iter + 1):\n",
    "        new_partitions = observation.crossJoin(new_centroids)\n",
    "        new_partitions = new_partitions.withColumn(\"obs_to_c_dist\", l2_distance_udf(F.col(\"observation\"), F.col(\"centroid\")))\n",
    "\n",
    "        window = Window.partitionBy(\"obs_index\")\n",
    "        new_partitions = new_partitions.withColumn(\"min_dist\", F.min(\"obs_to_c_dist\").over(window))\n",
    "        new_partitions = new_partitions.filter(((F.col(\"min_dist\") - F.col(\"obs_to_c_dist\")) < 1e-6) &\n",
    "                                            ((F.col(\"obs_to_c_dist\") - F.col(\"min_dist\")) < 1e-6)).sort(\"obs_index\").drop(\"min_dist\")\n",
    "\n",
    "        new_centroids = new_partitions.rdd.map(lambda row: (row[\"c_index\"], row[\"observation\"]))\n",
    "        new_centroids = new_centroids.reduceByKey(lambda x, y: [comb(x[i], y[i]) for i in range(len(x))])\n",
    "        new_centroids = new_centroids.map(lambda x: x if np.array(x[1]).ndim == 1 else (x[0], np.mean(np.array(x[1]), axis=1).tolist()))\n",
    "        new_centroids = spark.createDataFrame(new_centroids).toDF(\"c_index\", \"centroid\")\n",
    "        \n",
    "        cost[t] = np.sum(new_partitions.select(\"obs_to_c_dist\").rdd.flatMap(lambda x: x).collect())\n",
    "\n",
    "        print(f\"At iteration {t}, the cost is {cost[t]}.\")\n",
    "\n",
    "        new_centroids = new_centroids.collect()\n",
    "        new_centroids = spark.createDataFrame(data=new_centroids)\n",
    "    \n",
    "    return cost, new_centroids.collect()"
   ]
  },
  {
   "cell_type": "code",
   "execution_count": 16,
   "metadata": {},
   "outputs": [],
   "source": [
    "def k_medians(observation, initial_centroids, max_iter):\n",
    "    def comb(x, y):\n",
    "        if isinstance(x, list) & isinstance(y, list):\n",
    "            return x + y\n",
    "        elif isinstance(x, list):\n",
    "            return x + [y]\n",
    "        elif isinstance(y, list):\n",
    "            return [x] + y\n",
    "        else:\n",
    "            return [x] + [y]\n",
    "    \n",
    "    def l1_distance(x, y):\n",
    "        return float(np.linalg.norm(np.array(x) - np.array(y), ord=1))\n",
    "    l1_distance_udf = F.udf(l1_distance, FloatType())\n",
    "\n",
    "    cost = np.zeros(max_iter + 1)\n",
    "\n",
    "    # iteration 0 (initialization)\n",
    "    new_partitions = observation.crossJoin(initial_centroids)\n",
    "    new_partitions = new_partitions.withColumn(\"obs_to_c_dist\", l1_distance_udf(F.col(\"observation\"), F.col(\"centroid\")))\n",
    "\n",
    "    window = Window.partitionBy(\"obs_index\")\n",
    "    new_partitions = new_partitions.withColumn(\"min_dist\", F.min(\"obs_to_c_dist\").over(window))\n",
    "    new_partitions = new_partitions.filter(((F.col(\"min_dist\") - F.col(\"obs_to_c_dist\")) < 1e-6) &\n",
    "                                        ((F.col(\"obs_to_c_dist\") - F.col(\"min_dist\")) < 1e-6)).sort(\"obs_index\").drop(\"min_dist\")\n",
    "\n",
    "    new_centroids = new_partitions.rdd.map(lambda row: (row[\"c_index\"], row[\"observation\"]))\n",
    "    new_centroids = new_centroids.reduceByKey(lambda x, y: [comb(x[i], y[i]) for i in range(len(x))])\n",
    "    new_centroids = new_centroids.map(lambda x: x if np.array(x[1]).ndim == 1 else (x[0], np.median(np.array(x[1]), axis=1).tolist()))\n",
    "    new_centroids = spark.createDataFrame(new_centroids).toDF(\"c_index\", \"centroid\")\n",
    "\n",
    "    cost[0] = np.sum(new_partitions.select(\"obs_to_c_dist\").rdd.flatMap(lambda x: x).collect())\n",
    "    print(f\"At iteration 0, the cost is {cost[0]}.\")\n",
    "\n",
    "    # rest iterations\n",
    "    for t in np.arange(1, max_iter + 1):\n",
    "        new_partitions = observation.crossJoin(new_centroids)\n",
    "        new_partitions = new_partitions.withColumn(\"obs_to_c_dist\", l1_distance_udf(F.col(\"observation\"), F.col(\"centroid\")))\n",
    "\n",
    "        window = Window.partitionBy(\"obs_index\")\n",
    "        new_partitions = new_partitions.withColumn(\"min_dist\", F.min(\"obs_to_c_dist\").over(window))\n",
    "        new_partitions = new_partitions.filter(((F.col(\"min_dist\") - F.col(\"obs_to_c_dist\")) < 1e-6) &\n",
    "                                            ((F.col(\"obs_to_c_dist\") - F.col(\"min_dist\")) < 1e-6)).sort(\"obs_index\").drop(\"min_dist\")\n",
    "\n",
    "        new_centroids = new_partitions.rdd.map(lambda row: (row[\"c_index\"], row[\"observation\"]))\n",
    "        new_centroids = new_centroids.reduceByKey(lambda x, y: [comb(x[i], y[i]) for i in range(len(x))])\n",
    "        new_centroids = new_centroids.map(lambda x: x if np.array(x[1]).ndim == 1 else (x[0], np.median(np.array(x[1]), axis=1).tolist()))\n",
    "        new_centroids = spark.createDataFrame(new_centroids).toDF(\"c_index\", \"centroid\")\n",
    "\n",
    "        cost[t] = np.sum(new_partitions.select(\"obs_to_c_dist\").rdd.flatMap(lambda x: x).collect())\n",
    "\n",
    "        print(f\"At iteration {t}, the cost is {cost[t]}.\")\n",
    "\n",
    "        new_centroids = new_centroids.collect()\n",
    "        new_centroids = spark.createDataFrame(data=new_centroids)\n",
    "    \n",
    "    return cost, new_centroids.collect()"
   ]
  },
  {
   "cell_type": "code",
   "execution_count": 11,
   "metadata": {},
   "outputs": [
    {
     "name": "stdout",
     "output_type": "stream",
     "text": [
      "At iteration 0, the cost is 623747853.501003.\n",
      "At iteration 1, the cost is 509851314.32013464.\n",
      "At iteration 2, the cost is 485474452.5887642.\n",
      "At iteration 3, the cost is 463988316.4755316.\n",
      "At iteration 4, the cost is 460962508.41108465.\n",
      "At iteration 5, the cost is 460535298.9382901.\n",
      "At iteration 6, the cost is 460318803.0705867.\n",
      "At iteration 7, the cost is 460080311.42658806.\n",
      "At iteration 8, the cost is 459741193.231719.\n",
      "At iteration 9, the cost is 459268146.63733053.\n",
      "At iteration 10, the cost is 458712996.45647573.\n",
      "At iteration 11, the cost is 458078770.02630186.\n",
      "At iteration 12, the cost is 457650806.63430023.\n",
      "At iteration 13, the cost is 457326253.8770542.\n",
      "At iteration 14, the cost is 457050435.7303591.\n",
      "At iteration 15, the cost is 456904555.2225838.\n",
      "At iteration 16, the cost is 456689186.52865505.\n",
      "At iteration 17, the cost is 456376826.2873359.\n",
      "At iteration 18, the cost is 456152455.02207327.\n",
      "At iteration 19, the cost is 455954423.19662714.\n",
      "At iteration 20, the cost is 455694378.763268.\n"
     ]
    }
   ],
   "source": [
    "random_init_k_means_result = k_means(data, init_C_random, 20)"
   ]
  },
  {
   "cell_type": "code",
   "execution_count": 12,
   "metadata": {},
   "outputs": [
    {
     "name": "stdout",
     "output_type": "stream",
     "text": [
      "At iteration 0, the cost is 438747790.54135436.\n",
      "At iteration 1, the cost is 249803934.05744743.\n",
      "At iteration 2, the cost is 194494814.57943535.\n",
      "At iteration 3, the cost is 169804841.52536488.\n",
      "At iteration 4, the cost is 156295748.97527695.\n",
      "At iteration 5, the cost is 149094208.22738743.\n",
      "At iteration 6, the cost is 142508531.39361858.\n",
      "At iteration 7, the cost is 132303869.35682392.\n",
      "At iteration 8, the cost is 117170969.81646061.\n",
      "At iteration 9, the cost is 108547377.13222313.\n",
      "At iteration 10, the cost is 102237203.3507452.\n",
      "At iteration 11, the cost is 98278015.55414486.\n",
      "At iteration 12, the cost is 95630226.12054539.\n",
      "At iteration 13, the cost is 93793314.01820278.\n",
      "At iteration 14, the cost is 92377132.14172363.\n",
      "At iteration 15, the cost is 91541606.04525137.\n",
      "At iteration 16, the cost is 91045573.80590725.\n",
      "At iteration 17, the cost is 90752240.03059769.\n",
      "At iteration 18, the cost is 90470170.25080109.\n",
      "At iteration 19, the cost is 90216416.34169483.\n",
      "At iteration 20, the cost is 90162390.98189592.\n"
     ]
    }
   ],
   "source": [
    "far_init_k_means_result = k_means(data, init_C_far, 20)"
   ]
  },
  {
   "cell_type": "code",
   "execution_count": 24,
   "metadata": {},
   "outputs": [
    {
     "data": {
      "image/png": "[encoded data removed]",
      "text/plain": [
       "<Figure size 640x480 with 1 Axes>"
      ]
     },
     "metadata": {},
     "output_type": "display_data"
    },
    {
     "name": "stdout",
     "output_type": "stream",
     "text": [
      "The cost decrease by 0.2645858516678036 after 10 iterations for random initialization\n",
      "The cost decrease by 0.76697955965864 after 10 iterations for far initialization\n"
     ]
    }
   ],
   "source": [
    "import matplotlib.pyplot as plt\n",
    "\n",
    "fig, ax = plt.subplots()\n",
    "ax.scatter(np.arange(0, 21), random_init_k_means_result[0], label=\"random\")\n",
    "ax.scatter(np.arange(0, 21), far_init_k_means_result[0], label=\"far\")\n",
    "ax.set_xlabel(\"# of iterations\")\n",
    "ax.set_ylabel(\"cost\")\n",
    "ax.set_title(\"k-means clustering\")\n",
    "ax.legend()\n",
    "plt.show()\n",
    "\n",
    "print(f\"The cost decrease by {1 - random_init_k_means_result[0][10] / random_init_k_means_result[0][0]} after 10 iterations for random initialization\")\n",
    "print(f\"The cost decrease by {1 - far_init_k_means_result[0][10] / far_init_k_means_result[0][0]} after 10 iterations for far initialization\")"
   ]
  },
  {
   "cell_type": "code",
   "execution_count": 17,
   "metadata": {},
   "outputs": [
    {
     "name": "stdout",
     "output_type": "stream",
     "text": [
      "At iteration 0, the cost is 566777.1785924435.\n",
      "At iteration 1, the cost is 425561.92475271225.\n",
      "At iteration 2, the cost is 415979.95359766483.\n",
      "At iteration 3, the cost is 414664.6991108656.\n",
      "At iteration 4, the cost is 413862.83728802204.\n",
      "At iteration 5, the cost is 412161.43255865574.\n",
      "At iteration 6, the cost is 410899.23409593105.\n",
      "At iteration 7, the cost is 409646.5692397356.\n",
      "At iteration 8, the cost is 408404.7722004652.\n",
      "At iteration 9, the cost is 407853.52526938915.\n",
      "At iteration 10, the cost is 407554.51330935955.\n",
      "At iteration 11, the cost is 407017.7798475027.\n",
      "At iteration 12, the cost is 406552.0641564131.\n",
      "At iteration 13, the cost is 406377.47324740887.\n",
      "At iteration 14, the cost is 406256.82221734524.\n",
      "At iteration 15, the cost is 406118.6761878729.\n",
      "At iteration 16, the cost is 406056.17423188686.\n",
      "At iteration 17, the cost is 406004.52528083324.\n",
      "At iteration 18, the cost is 405982.8271340132.\n",
      "At iteration 19, the cost is 405965.00903737545.\n",
      "At iteration 20, the cost is 405949.40449368954.\n"
     ]
    }
   ],
   "source": [
    "random_init_k_medians_result = k_medians(data, init_C_random, 20)"
   ]
  },
  {
   "cell_type": "code",
   "execution_count": 18,
   "metadata": {},
   "outputs": [
    {
     "name": "stdout",
     "output_type": "stream",
     "text": [
      "At iteration 0, the cost is 1433739.305934906.\n",
      "At iteration 1, the cost is 882840.6274085045.\n",
      "At iteration 2, the cost is 776690.8459794521.\n",
      "At iteration 3, the cost is 736546.2772767544.\n",
      "At iteration 4, the cost is 701873.5246973038.\n",
      "At iteration 5, the cost is 618738.4653143883.\n",
      "At iteration 6, the cost is 592289.0824364424.\n",
      "At iteration 7, the cost is 577263.3666408062.\n",
      "At iteration 8, the cost is 562785.2502763271.\n",
      "At iteration 9, the cost is 549805.3993160725.\n",
      "At iteration 10, the cost is 542825.4268701077.\n",
      "At iteration 11, the cost is 540056.8602135181.\n",
      "At iteration 12, the cost is 538003.0994799137.\n",
      "At iteration 13, the cost is 535677.1815474033.\n",
      "At iteration 14, the cost is 534418.7857378721.\n",
      "At iteration 15, the cost is 533563.715818286.\n",
      "At iteration 16, the cost is 532818.7774933577.\n",
      "At iteration 17, the cost is 532244.5772131681.\n",
      "At iteration 18, the cost is 531915.0629514456.\n",
      "At iteration 19, the cost is 531784.8149975538.\n",
      "At iteration 20, the cost is 531644.5112274885.\n"
     ]
    }
   ],
   "source": [
    "far_init_k_medians_result = k_medians(data, init_C_far, 20)"
   ]
  },
  {
   "cell_type": "code",
   "execution_count": 25,
   "metadata": {},
   "outputs": [
    {
     "data": {
      "image/png": "[encoded data removed]",
      "text/plain": [
       "<Figure size 640x480 with 1 Axes>"
      ]
     },
     "metadata": {},
     "output_type": "display_data"
    },
    {
     "name": "stdout",
     "output_type": "stream",
     "text": [
      "The cost decrease by 0.2809263874711817 after 10 iterations for random initialization\n",
      "The cost decrease by 0.6213918216351441 after 10 iterations for far initialization\n"
     ]
    }
   ],
   "source": [
    "fig, ax = plt.subplots()\n",
    "ax.scatter(np.arange(0, 21), random_init_k_medians_result[0], label=\"random\")\n",
    "ax.scatter(np.arange(0, 21), far_init_k_medians_result[0], label=\"far\")\n",
    "ax.set_xlabel(\"# of iterations\")\n",
    "ax.set_ylabel(\"cost\")\n",
    "ax.set_title(\"k-medians clustering\")\n",
    "ax.legend()\n",
    "plt.show()\n",
    "\n",
    "print(f\"The cost decrease by {1 - random_init_k_medians_result[0][10] / random_init_k_medians_result[0][0]} after 10 iterations for random initialization\")\n",
    "print(f\"The cost decrease by {1 - far_init_k_medians_result[0][10] / far_init_k_medians_result[0][0]} after 10 iterations for far initialization\")"
   ]
  },
  {
   "cell_type": "code",
   "execution_count": null,
   "metadata": {},
   "outputs": [],
   "source": []
  }
 ],
 "metadata": {
  "kernelspec": {
   "display_name": "base",
   "language": "python",
   "name": "python3"
  },
  "language_info": {
   "codemirror_mode": {
    "name": "ipython",
    "version": 3
   },
   "file_extension": ".py",
   "mimetype": "text/x-python",
   "name": "python",
   "nbconvert_exporter": "python",
   "pygments_lexer": "ipython3",
   "version": "3.9.19"
  }
 },
 "nbformat": 4,
 "nbformat_minor": 2
}
