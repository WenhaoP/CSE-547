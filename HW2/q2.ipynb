{
 "cells": [
  {
   "cell_type": "code",
   "execution_count": 1,
   "metadata": {},
   "outputs": [
    {
     "name": "stderr",
     "output_type": "stream",
     "text": [
      "----------------------------------------\n",
      "Exception occurred during processing of request from ('127.0.0.1', 51872)\n",
      "Traceback (most recent call last):\n",
      "  File \"c:\\Users\\Wenhao\\miniconda3\\lib\\socketserver.py\", line 316, in _handle_request_noblock\n",
      "    self.process_request(request, client_address)\n",
      "  File \"c:\\Users\\Wenhao\\miniconda3\\lib\\socketserver.py\", line 347, in process_request\n",
      "    self.finish_request(request, client_address)\n",
      "  File \"c:\\Users\\Wenhao\\miniconda3\\lib\\socketserver.py\", line 360, in finish_request\n",
      "    self.RequestHandlerClass(request, client_address, self)\n",
      "  File \"c:\\Users\\Wenhao\\miniconda3\\lib\\socketserver.py\", line 747, in __init__\n",
      "    self.handle()\n",
      "  File \"c:\\Users\\Wenhao\\miniconda3\\lib\\site-packages\\pyspark\\accumulators.py\", line 295, in handle\n",
      "    poll(accum_updates)\n",
      "  File \"c:\\Users\\Wenhao\\miniconda3\\lib\\site-packages\\pyspark\\accumulators.py\", line 267, in poll\n",
      "    if self.rfile in r and func():\n",
      "  File \"c:\\Users\\Wenhao\\miniconda3\\lib\\site-packages\\pyspark\\accumulators.py\", line 271, in accum_updates\n",
      "    num_updates = read_int(self.rfile)\n",
      "  File \"c:\\Users\\Wenhao\\miniconda3\\lib\\site-packages\\pyspark\\serializers.py\", line 594, in read_int\n",
      "    length = stream.read(4)\n",
      "  File \"c:\\Users\\Wenhao\\miniconda3\\lib\\socket.py\", line 704, in readinto\n",
      "    return self._sock.recv_into(b)\n",
      "ConnectionResetError: [WinError 10054] An existing connection was forcibly closed by the remote host\n",
      "----------------------------------------\n"
     ]
    }
   ],
   "source": [
    "# Import the libraries we will need\n",
    "import pandas as pd\n",
    "import numpy as np\n",
    "\n",
    "import findspark\n",
    "findspark.init()\n",
    "\n",
    "from pyspark.sql import *\n",
    "import pyspark.sql.functions as F\n",
    "from pyspark.sql.types import *\n",
    "\n",
    "# create the Spark Session\n",
    "spark = SparkSession.builder.appName(\"Q2\").getOrCreate()"
   ]
  },
  {
   "cell_type": "code",
   "execution_count": 2,
   "metadata": {},
   "outputs": [],
   "source": [
    "data = spark.read.csv(\"hw2-bundle/hw2-bundle/kmeans/data/data.txt\").toDF(\"observation\")\n",
    "data = data.withColumn(\"observation\", F.split(F.col(\"observation\"), \" \").cast(\"array<float>\"))\n",
    "data = data.withColumn(\"obs_index\", F.monotonically_increasing_id())\n",
    "window = Window.orderBy(F.col(\"obs_index\"))\n",
    "data = data.withColumn(\"obs_index\", F.row_number().over(window) - 1)\n",
    "\n",
    "init_C_random = spark.read.csv(\"hw2-bundle/hw2-bundle/kmeans/data/c1.txt\").toDF(\"centroid\")\n",
    "init_C_random = init_C_random.withColumn(\"centroid\", F.split(F.col(\"centroid\"), \" \").cast(\"array<float>\"))\n",
    "init_C_random = init_C_random.withColumn(\"c_index\", F.monotonically_increasing_id())\n",
    "window = Window.orderBy(F.col(\"c_index\"))\n",
    "init_C_random = init_C_random.withColumn(\"c_index\", F.row_number().over(window) - 1)\n",
    "\n",
    "init_C_far = spark.read.csv(\"hw2-bundle/hw2-bundle/kmeans/data/c2.txt\").toDF(\"centroid\")\n",
    "init_C_far = init_C_far.withColumn(\"centroid\", F.split(F.col(\"centroid\"), \" \").cast(\"array<float>\"))\n",
    "init_C_far = init_C_far.withColumn(\"c_index\", F.monotonically_increasing_id())\n",
    "window = Window.orderBy(F.col(\"c_index\"))\n",
    "init_C_far = init_C_far.withColumn(\"c_index\", F.row_number().over(window) - 1)"
   ]
  },
  {
   "cell_type": "code",
   "execution_count": 3,
   "metadata": {},
   "outputs": [
    {
     "name": "stdout",
     "output_type": "stream",
     "text": [
      "+--------------------+---------+\n",
      "|         observation|obs_index|\n",
      "+--------------------+---------+\n",
      "|[0.0, 0.64, 0.64,...|        0|\n",
      "|[0.21, 0.28, 0.5,...|        1|\n",
      "|[0.06, 0.0, 0.71,...|        2|\n",
      "|[0.0, 0.0, 0.0, 0...|        3|\n",
      "|[0.0, 0.0, 0.0, 0...|        4|\n",
      "+--------------------+---------+\n",
      "only showing top 5 rows\n",
      "\n"
     ]
    }
   ],
   "source": [
    "data.show(5)"
   ]
  },
  {
   "cell_type": "code",
   "execution_count": 4,
   "metadata": {},
   "outputs": [
    {
     "name": "stdout",
     "output_type": "stream",
     "text": [
      "+--------------------+-------+\n",
      "|            centroid|c_index|\n",
      "+--------------------+-------+\n",
      "|[0.0, 0.64, 0.64,...|      0|\n",
      "|[0.21, 0.28, 0.5,...|      1|\n",
      "|[0.06, 0.0, 0.71,...|      2|\n",
      "|[0.0, 0.0, 0.0, 0...|      3|\n",
      "|[0.0, 0.0, 0.0, 0...|      4|\n",
      "|[0.0, 0.0, 0.0, 0...|      5|\n",
      "|[0.0, 0.0, 0.0, 0...|      6|\n",
      "|[0.0, 0.0, 0.0, 0...|      7|\n",
      "|[0.15, 0.0, 0.46,...|      8|\n",
      "|[0.06, 0.12, 0.77...|      9|\n",
      "+--------------------+-------+\n",
      "\n"
     ]
    }
   ],
   "source": [
    "init_C_random.show(10)"
   ]
  },
  {
   "cell_type": "code",
   "execution_count": 5,
   "metadata": {},
   "outputs": [],
   "source": [
    "def k_means(observation, initial_centroids, max_iter):\n",
    "    def comb(x, y):\n",
    "        if isinstance(x, list) & isinstance(y, list):\n",
    "            return x + y\n",
    "        elif isinstance(x, list):\n",
    "            return x + [y]\n",
    "        elif isinstance(y, list):\n",
    "            return [x] + y\n",
    "        else:\n",
    "            return [x] + [y]\n",
    "    \n",
    "    def l2_distance(x, y):\n",
    "        return float(np.linalg.norm(np.array(x) - np.array(y), ord=2) ** 2)\n",
    "    l2_distance_udf = F.udf(l2_distance, FloatType())\n",
    "\n",
    "    cost = np.zeros(max_iter + 1)\n",
    "\n",
    "    # iteration 0 (initialization)\n",
    "    new_partitions = observation.crossJoin(initial_centroids)\n",
    "    new_partitions = new_partitions.withColumn(\"obs_to_c_dist\", l2_distance_udf(F.col(\"observation\"), F.col(\"centroid\")))\n",
    "\n",
    "    window = Window.partitionBy(\"obs_index\")\n",
    "    new_partitions = new_partitions.withColumn(\"min_dist\", F.min(\"obs_to_c_dist\").over(window))\n",
    "    new_partitions = new_partitions.filter(((F.col(\"min_dist\") - F.col(\"obs_to_c_dist\")) < 1e-6) &\n",
    "                                        ((F.col(\"obs_to_c_dist\") - F.col(\"min_dist\")) < 1e-6)).sort(\"obs_index\").drop(\"min_dist\")\n",
    "\n",
    "    new_centroids = new_partitions.rdd.map(lambda row: (row[\"c_index\"], row[\"observation\"]))\n",
    "    new_centroids = new_centroids.reduceByKey(lambda x, y: [comb(x[i], y[i]) for i in range(len(x))])\n",
    "    new_centroids = spark.createDataFrame(new_centroids).toDF(\"c_index\", \"centroid\")\n",
    "    new_centroids = new_centroids.withColumn(\"centroid\", \n",
    "                                                (F.udf(lambda x: np.array(x).mean(axis=1).tolist(), \"array<float>\"))(F.col(\"centroid\")))\n",
    "\n",
    "    cost[0] = np.sum(new_partitions.select(\"obs_to_c_dist\").rdd.flatMap(lambda x: x).collect())\n",
    "    print(f\"At iteration 0, the cost is {cost[0]}.\")\n",
    "\n",
    "    # rest iterations\n",
    "    for t in np.arange(1, max_iter + 1):\n",
    "        new_partitions = observation.crossJoin(new_centroids)\n",
    "        new_partitions = new_partitions.withColumn(\"obs_to_c_dist\", l2_distance_udf(F.col(\"observation\"), F.col(\"centroid\")))\n",
    "\n",
    "        window = Window.partitionBy(\"obs_index\")\n",
    "        new_partitions = new_partitions.withColumn(\"min_dist\", F.min(\"obs_to_c_dist\").over(window))\n",
    "        new_partitions = new_partitions.filter(((F.col(\"min_dist\") - F.col(\"obs_to_c_dist\")) < 1e-6) &\n",
    "                                            ((F.col(\"obs_to_c_dist\") - F.col(\"min_dist\")) < 1e-6)).sort(\"obs_index\").drop(\"min_dist\")\n",
    "\n",
    "        # new_centroids = new_partitions.rdd.map(lambda row: (row.c_index, row.observation))\n",
    "        # new_centroids = new_centroids.reduceByKey(lambda x, y: (np.array(x) + np.array(y)).tolist())\n",
    "        # new_centroids = new_centroids.toDF().withColumnsRenamed({\"_1\": \"c_index\", \"_2\": \"centroid\"})\n",
    "        # new_centroids = new_centroids.join(new_partitions.groupBy(\"c_index\").count(), on=\"c_index\", how=\"inner\")\n",
    "        # new_centroids = new_centroids.withColumn(\"centroid\", (F.udf(lambda x, y: (np.array(x) / y).tolist(), \"array<float>\"))(F.col(\"centroid\"), F.col(\"count\")))\n",
    "        # new_centroids = new_centroids.drop(\"count\").sort(\"c_index\")\n",
    "        new_centroids = new_partitions.rdd.map(lambda row: (row[\"c_index\"], row[\"observation\"]))\n",
    "        new_centroids = new_centroids.reduceByKey(lambda x, y: [comb(x[i], y[i]) for i in range(len(x))])\n",
    "        new_centroids = spark.createDataFrame(new_centroids).toDF(\"c_index\", \"centroid\")\n",
    "        new_centroids = new_centroids.withColumn(\"centroid\", \n",
    "                                                 (F.udf(lambda x: np.array(x).mean(axis=1).tolist(), \"array<float>\"))(F.col(\"centroid\")))\n",
    "\n",
    "        cost[t] = np.sum(new_partitions.select(\"obs_to_c_dist\").rdd.flatMap(lambda x: x).collect())\n",
    "\n",
    "        print(f\"At iteration {t}, the cost is {cost[t]}.\")\n",
    "\n",
    "        new_centroids = new_centroids.collect()\n",
    "        new_centroids = spark.createDataFrame(data=new_centroids)\n",
    "    \n",
    "    return cost, new_centroids.collect()"
   ]
  },
  {
   "cell_type": "code",
   "execution_count": 10,
   "metadata": {},
   "outputs": [],
   "source": [
    "def k_medians(observation, initial_centroids, max_iter):\n",
    "    def comb(x, y):\n",
    "        if isinstance(x, list) & isinstance(y, list):\n",
    "            return x + y\n",
    "        elif isinstance(x, list):\n",
    "            return x + [y]\n",
    "        elif isinstance(y, list):\n",
    "            return [x] + y\n",
    "        else:\n",
    "            return [x] + [y]\n",
    "    \n",
    "    def l1_distance(x, y):\n",
    "        return float(np.linalg.norm(np.array(x) - np.array(y), ord=1))\n",
    "    l1_distance_udf = F.udf(l1_distance, FloatType())\n",
    "\n",
    "    cost = np.zeros(max_iter + 1)\n",
    "\n",
    "    # iteration 0 (initialization)\n",
    "    new_partitions = observation.crossJoin(initial_centroids)\n",
    "    new_partitions = new_partitions.withColumn(\"obs_to_c_dist\", l1_distance_udf(F.col(\"observation\"), F.col(\"centroid\")))\n",
    "\n",
    "    window = Window.partitionBy(\"obs_index\")\n",
    "    new_partitions = new_partitions.withColumn(\"min_dist\", F.min(\"obs_to_c_dist\").over(window))\n",
    "    new_partitions = new_partitions.filter(((F.col(\"min_dist\") - F.col(\"obs_to_c_dist\")) < 1e-6) &\n",
    "                                        ((F.col(\"obs_to_c_dist\") - F.col(\"min_dist\")) < 1e-6)).sort(\"obs_index\").drop(\"min_dist\")\n",
    "\n",
    "    new_centroids = new_partitions.rdd.map(lambda row: (row[\"c_index\"], row[\"observation\"]))\n",
    "    new_centroids = new_centroids.reduceByKey(lambda x, y: [comb(x[i], y[i]) for i in range(len(x))])\n",
    "    new_centroids = spark.createDataFrame(new_centroids).toDF(\"c_index\", \"centroid\")\n",
    "    new_centroids = new_centroids.withColumn(\"centroid\", \n",
    "                                                (F.udf(lambda x: np.median(np.array(x), axis=1).tolist(), \"array<float>\"))(F.col(\"centroid\")))\n",
    "    new_centroids = new_centroids.collect()\n",
    "    new_centroids = spark.createDataFrame(data=new_centroids)\n",
    "\n",
    "    cost[0] = np.sum(new_partitions.select(\"obs_to_c_dist\").rdd.flatMap(lambda x: x).collect())\n",
    "    print(f\"At iteration 0, the cost is {cost[0]}.\")\n",
    "\n",
    "    # rest iterations\n",
    "    for t in np.arange(1, max_iter + 1):\n",
    "        new_partitions = observation.crossJoin(new_centroids)\n",
    "        new_partitions = new_partitions.withColumn(\"obs_to_c_dist\", l1_distance_udf(F.col(\"observation\"), F.col(\"centroid\")))\n",
    "\n",
    "        window = Window.partitionBy(\"obs_index\")\n",
    "        new_partitions = new_partitions.withColumn(\"min_dist\", F.min(\"obs_to_c_dist\").over(window))\n",
    "        new_partitions = new_partitions.filter(((F.col(\"min_dist\") - F.col(\"obs_to_c_dist\")) < 1e-6) &\n",
    "                                            ((F.col(\"obs_to_c_dist\") - F.col(\"min_dist\")) < 1e-6)).sort(\"obs_index\").drop(\"min_dist\")\n",
    "\n",
    "        # new_centroids = new_partitions.rdd.map(lambda row: (row.c_index, row.observation))\n",
    "        # new_centroids = new_centroids.reduceByKey(lambda x, y: (np.array(x) + np.array(y)).tolist())\n",
    "        # new_centroids = new_centroids.toDF().withColumnsRenamed({\"_1\": \"c_index\", \"_2\": \"centroid\"})\n",
    "        # new_centroids = new_centroids.join(new_partitions.groupBy(\"c_index\").count(), on=\"c_index\", how=\"inner\")\n",
    "        # new_centroids = new_centroids.withColumn(\"centroid\", (F.udf(lambda x, y: (np.array(x) / y).tolist(), \"array<float>\"))(F.col(\"centroid\"), F.col(\"count\")))\n",
    "        # new_centroids = new_centroids.drop(\"count\").sort(\"c_index\")\n",
    "        new_centroids = new_partitions.rdd.map(lambda row: (row[\"c_index\"], row[\"observation\"]))\n",
    "        new_centroids = new_centroids.reduceByKey(lambda x, y: [comb(x[i], y[i]) for i in range(len(x))])\n",
    "        new_centroids = spark.createDataFrame(new_centroids).toDF(\"c_index\", \"centroid\")\n",
    "        new_centroids = new_centroids.withColumn(\"centroid\", \n",
    "                                                 (F.udf(lambda x: np.median(np.array(x), axis=1).tolist(), \"array<float>\"))(F.col(\"centroid\")))\n",
    "\n",
    "        cost[t] = np.sum(new_partitions.select(\"obs_to_c_dist\").rdd.flatMap(lambda x: x).collect())\n",
    "\n",
    "        print(f\"At iteration {t}, the cost is {cost[t]}.\")\n",
    "\n",
    "        new_centroids = new_centroids.collect()\n",
    "        new_centroids = spark.createDataFrame(data=new_centroids)\n",
    "    \n",
    "    return cost, new_centroids.collect()"
   ]
  },
  {
   "cell_type": "code",
   "execution_count": 88,
   "metadata": {},
   "outputs": [
    {
     "name": "stdout",
     "output_type": "stream",
     "text": [
      "At iteration 0, the cost is 623747853.501003.\n",
      "At iteration 1, the cost is 509851311.6232786.\n",
      "At iteration 2, the cost is 485474455.838027.\n",
      "At iteration 3, the cost is 463988317.16985035.\n",
      "At iteration 4, the cost is 460962508.4620385.\n",
      "At iteration 5, the cost is 460535298.3988676.\n",
      "At iteration 6, the cost is 460318802.282403.\n"
     ]
    }
   ],
   "source": [
    "random_init_k_means_result = k_means(data, init_C_random, 20)"
   ]
  },
  {
   "cell_type": "code",
   "execution_count": 6,
   "metadata": {},
   "outputs": [
    {
     "name": "stdout",
     "output_type": "stream",
     "text": [
      "At iteration 0, the cost is 438747790.54135436.\n",
      "+-------+--------------------+\n",
      "|c_index|            centroid|\n",
      "+-------+--------------------+\n",
      "|      0|[0.098676704, 0.2...|\n",
      "|      6|[0.27494118, 0.18...|\n",
      "|      7|[0.17684211, 0.19...|\n",
      "|      8|[0.45499998, 0.29...|\n",
      "|      5|[0.195, 0.5, 0.4,...|\n",
      "+-------+--------------------+\n",
      "only showing top 5 rows\n",
      "\n"
     ]
    }
   ],
   "source": [
    "far_init_k_means_result = k_means(data, init_C_far, 20)"
   ]
  },
  {
   "cell_type": "code",
   "execution_count": 78,
   "metadata": {},
   "outputs": [
    {
     "name": "stdout",
     "output_type": "stream",
     "text": [
      "At iteration 0, the cost is 566777.1785924435.\n",
      "At iteration 1, the cost is 466556.7499637604.\n",
      "At iteration 2, the cost is 416670.8689211607.\n",
      "At iteration 3, the cost is 414374.3965450525.\n",
      "At iteration 4, the cost is 413445.0770753622.\n",
      "At iteration 5, the cost is 412557.9209035635.\n",
      "At iteration 6, the cost is 411171.6701442003.\n",
      "At iteration 7, the cost is 410491.0217539072.\n",
      "At iteration 8, the cost is 408960.535209775.\n",
      "At iteration 9, the cost is 407911.74564802647.\n",
      "At iteration 10, the cost is 407341.54387128353.\n",
      "At iteration 11, the cost is 406677.8764721155.\n",
      "At iteration 12, the cost is 406383.77173793316.\n",
      "At iteration 13, the cost is 406226.81864106655.\n",
      "At iteration 14, the cost is 406145.80651319027.\n",
      "At iteration 15, the cost is 406059.7921952009.\n",
      "At iteration 16, the cost is 406014.32916772366.\n",
      "At iteration 17, the cost is 406002.6612328291.\n",
      "At iteration 18, the cost is 405988.66998898983.\n",
      "At iteration 19, the cost is 405973.0633867979.\n",
      "At iteration 20, the cost is 405908.5427106619.\n"
     ]
    }
   ],
   "source": [
    "random_init_k_medians_result = k_medians(data, init_C_random, 20)"
   ]
  },
  {
   "cell_type": "code",
   "execution_count": 11,
   "metadata": {},
   "outputs": [
    {
     "name": "stdout",
     "output_type": "stream",
     "text": [
      "Unexpected exception formatting exception. Falling back to standard exception\n"
     ]
    },
    {
     "name": "stderr",
     "output_type": "stream",
     "text": [
      "Traceback (most recent call last):\n",
      "  File \"c:\\Users\\Wenhao\\miniconda3\\lib\\site-packages\\IPython\\core\\interactiveshell.py\", line 3505, in run_code\n",
      "    exec(code_obj, self.user_global_ns, self.user_ns)\n",
      "  File \"C:\\Users\\Wenhao\\AppData\\Local\\Temp\\ipykernel_4492\\4201321219.py\", line 1, in <module>\n",
      "    far_init_k_medians_result = k_medians(data, init_C_far, 20)\n",
      "  File \"C:\\Users\\Wenhao\\AppData\\Local\\Temp\\ipykernel_4492\\926234775.py\", line 32, in k_medians\n",
      "    new_centroids = new_centroids.collect()\n",
      "  File \"c:\\Users\\Wenhao\\miniconda3\\lib\\site-packages\\pyspark\\sql\\dataframe.py\", line 1261, in collect\n",
      "    sock_info = self._jdf.collectToPython()\n",
      "  File \"c:\\Users\\Wenhao\\miniconda3\\lib\\site-packages\\py4j\\java_gateway.py\", line 1322, in __call__\n",
      "    return_value = get_return_value(\n",
      "  File \"c:\\Users\\Wenhao\\miniconda3\\lib\\site-packages\\pyspark\\errors\\exceptions\\captured.py\", line 185, in deco\n",
      "    raise converted from None\n",
      "pyspark.errors.exceptions.captured.PythonException: \n",
      "  An exception was thrown from the Python worker. Please see the stack trace below.\n",
      "Traceback (most recent call last):\n",
      "  File \"C:\\Users\\Wenhao\\AppData\\Local\\Temp\\ipykernel_4492\\926234775.py\", line 31, in <lambda>\n",
      "    (F.udf(lambda x: np.median(np.array(x), axis=1).tolist(), \"array<float>\"))(F.col(\"centroid\")))\n",
      "  File \"c:\\Users\\Wenhao\\miniconda3\\lib\\site-packages\\numpy\\lib\\function_base.py\", line 3927, in median\n",
      "    return _ureduce(a, func=_median, keepdims=keepdims, axis=axis, out=out,\n",
      "  File \"c:\\Users\\Wenhao\\miniconda3\\lib\\site-packages\\numpy\\lib\\function_base.py\", line 3798, in _ureduce\n",
      "    axis = _nx.normalize_axis_tuple(axis, nd)\n",
      "  File \"c:\\Users\\Wenhao\\miniconda3\\lib\\site-packages\\numpy\\core\\numeric.py\", line 1380, in normalize_axis_tuple\n",
      "    axis = tuple([normalize_axis_index(ax, ndim, argname) for ax in axis])\n",
      "  File \"c:\\Users\\Wenhao\\miniconda3\\lib\\site-packages\\numpy\\core\\numeric.py\", line 1380, in <listcomp>\n",
      "    axis = tuple([normalize_axis_index(ax, ndim, argname) for ax in axis])\n",
      "numpy.exceptions.AxisError: axis 1 is out of bounds for array of dimension 1\n",
      "\n",
      "\n",
      "During handling of the above exception, another exception occurred:\n",
      "\n",
      "Traceback (most recent call last):\n",
      "  File \"c:\\Users\\Wenhao\\miniconda3\\lib\\site-packages\\IPython\\core\\interactiveshell.py\", line 2102, in showtraceback\n",
      "    stb = self.InteractiveTB.structured_traceback(\n",
      "  File \"c:\\Users\\Wenhao\\miniconda3\\lib\\site-packages\\IPython\\core\\ultratb.py\", line 1310, in structured_traceback\n",
      "    return FormattedTB.structured_traceback(\n",
      "  File \"c:\\Users\\Wenhao\\miniconda3\\lib\\site-packages\\IPython\\core\\ultratb.py\", line 1199, in structured_traceback\n",
      "    return VerboseTB.structured_traceback(\n",
      "  File \"c:\\Users\\Wenhao\\miniconda3\\lib\\site-packages\\IPython\\core\\ultratb.py\", line 1052, in structured_traceback\n",
      "    formatted_exception = self.format_exception_as_a_whole(etype, evalue, etb, number_of_lines_of_context,\n",
      "  File \"c:\\Users\\Wenhao\\miniconda3\\lib\\site-packages\\IPython\\core\\ultratb.py\", line 978, in format_exception_as_a_whole\n",
      "    frames.append(self.format_record(record))\n",
      "  File \"c:\\Users\\Wenhao\\miniconda3\\lib\\site-packages\\IPython\\core\\ultratb.py\", line 878, in format_record\n",
      "    frame_info.lines, Colors, self.has_colors, lvals\n",
      "  File \"c:\\Users\\Wenhao\\miniconda3\\lib\\site-packages\\IPython\\core\\ultratb.py\", line 712, in lines\n",
      "    return self._sd.lines\n",
      "  File \"c:\\Users\\Wenhao\\miniconda3\\lib\\site-packages\\stack_data\\utils.py\", line 144, in cached_property_wrapper\n",
      "    value = obj.__dict__[self.func.__name__] = self.func(obj)\n",
      "  File \"c:\\Users\\Wenhao\\miniconda3\\lib\\site-packages\\stack_data\\core.py\", line 734, in lines\n",
      "    pieces = self.included_pieces\n",
      "  File \"c:\\Users\\Wenhao\\miniconda3\\lib\\site-packages\\stack_data\\utils.py\", line 144, in cached_property_wrapper\n",
      "    value = obj.__dict__[self.func.__name__] = self.func(obj)\n",
      "  File \"c:\\Users\\Wenhao\\miniconda3\\lib\\site-packages\\stack_data\\core.py\", line 677, in included_pieces\n",
      "    scope_pieces = self.scope_pieces\n",
      "  File \"c:\\Users\\Wenhao\\miniconda3\\lib\\site-packages\\stack_data\\utils.py\", line 144, in cached_property_wrapper\n",
      "    value = obj.__dict__[self.func.__name__] = self.func(obj)\n",
      "  File \"c:\\Users\\Wenhao\\miniconda3\\lib\\site-packages\\stack_data\\core.py\", line 614, in scope_pieces\n",
      "    scope_start, scope_end = self.source.line_range(self.scope)\n",
      "  File \"c:\\Users\\Wenhao\\miniconda3\\lib\\site-packages\\stack_data\\core.py\", line 178, in line_range\n",
      "    return line_range(self.asttext(), node)\n",
      "AttributeError: 'Source' object has no attribute 'asttext'\n"
     ]
    }
   ],
   "source": [
    "far_init_k_medians_result = k_medians(data, init_C_far, 20)"
   ]
  },
  {
   "cell_type": "code",
   "execution_count": 9,
   "metadata": {},
   "outputs": [
    {
     "data": {
      "image/png": "[encoded data removed]",
      "text/plain": [
       "<Figure size 640x480 with 1 Axes>"
      ]
     },
     "metadata": {},
     "output_type": "display_data"
    }
   ],
   "source": [
    "import matplotlib.pyplot as plt\n",
    "\n",
    "fig, ax = plt.subplots()\n",
    "ax.scatter(np.arange(0, 21), random_init_l2_distance_result[0])\n",
    "ax.set_xlabel(\"# of iterations\")\n",
    "plt.show()"
   ]
  },
  {
   "cell_type": "code",
   "execution_count": 6,
   "metadata": {},
   "outputs": [],
   "source": [
    "new_partitions = data.crossJoin(init_C_random)\n",
    "new_partitions = new_partitions.withColumn(\"obs_to_c_dist\", l2_distance_udf(F.col(\"observation\"), F.col(\"centroid\")))\n",
    "\n",
    "window = Window.partitionBy(\"obs_index\")\n",
    "new_partitions = new_partitions.withColumn(\"min_dist\", F.min(\"obs_to_c_dist\").over(window))\n",
    "new_partitions = new_partitions.filter(((F.col(\"min_dist\") - F.col(\"obs_to_c_dist\")) < 1e-6) &\n",
    "                                    ((F.col(\"obs_to_c_dist\") - F.col(\"min_dist\")) < 1e-6)).sort(\"obs_index\").drop(\"min_dist\")\n",
    "\n",
    "# new_centroids = new_partitions.rdd.map(lambda row: (row.c_index, row.observation))\n",
    "# new_centroids = new_centroids.reduceByKey(lambda x, y: (np.array(x) + np.array(y)).tolist())\n",
    "# new_centroids = new_centroids.toDF().withColumnsRenamed({\"_1\": \"c_index\", \"_2\": \"centroid\"})\n",
    "# new_centroids = new_centroids.join(new_partitions.groupBy(\"c_index\").count(), on=\"c_index\", how=\"inner\")\n",
    "# new_centroids = new_centroids.withColumn(\"centroid\", (F.udf(lambda x, y: (np.array(x) / y).tolist(), \"array<float>\"))(F.col(\"centroid\"), F.col(\"count\")))\n",
    "# new_centroids = new_centroids.drop(\"count\").sort(\"c_index\")\n"
   ]
  },
  {
   "cell_type": "code",
   "execution_count": 7,
   "metadata": {},
   "outputs": [
    {
     "name": "stdout",
     "output_type": "stream",
     "text": [
      "+--------------------+---------+--------------------+-------+-------------+\n",
      "|         observation|obs_index|            centroid|c_index|obs_to_c_dist|\n",
      "+--------------------+---------+--------------------+-------+-------------+\n",
      "|[0.0, 0.64, 0.64,...|        0|[0.0, 0.64, 0.64,...|      0|          0.0|\n",
      "|[0.21, 0.28, 0.5,...|        1|[0.21, 0.28, 0.5,...|      1|          0.0|\n",
      "|[0.06, 0.0, 0.71,...|        2|[0.06, 0.0, 0.71,...|      2|          0.0|\n",
      "|[0.0, 0.0, 0.0, 0...|        3|[0.0, 0.0, 0.0, 0...|      3|          0.0|\n",
      "|[0.0, 0.0, 0.0, 0...|        4|[0.0, 0.0, 0.0, 0...|      4|          0.0|\n",
      "+--------------------+---------+--------------------+-------+-------------+\n",
      "only showing top 5 rows\n",
      "\n"
     ]
    }
   ],
   "source": [
    "new_partitions.show(5)"
   ]
  },
  {
   "cell_type": "code",
   "execution_count": 65,
   "metadata": {},
   "outputs": [],
   "source": [
    "new_centroids = new_partitions.rdd.map(lambda row: (row.c_index, row.observation))"
   ]
  },
  {
   "cell_type": "code",
   "execution_count": 66,
   "metadata": {},
   "outputs": [],
   "source": [
    "def comb(x, y):\n",
    "    if isinstance(x, list) & isinstance(y, list):\n",
    "        return x + y\n",
    "    elif isinstance(x, list):\n",
    "        return x + [y]\n",
    "    elif isinstance(y, list):\n",
    "        return [x] + y\n",
    "    else:\n",
    "        return [x] + [y]"
   ]
  },
  {
   "cell_type": "code",
   "execution_count": 67,
   "metadata": {},
   "outputs": [],
   "source": [
    "new_centroids = new_centroids.reduceByKey(lambda x, y: [comb(x[i], y[i]) for i in range(len(x))])"
   ]
  },
  {
   "cell_type": "code",
   "execution_count": 68,
   "metadata": {},
   "outputs": [],
   "source": [
    "new_centroids = spark.createDataFrame(new_centroids).toDF(\"c_index\", \"centroid\")"
   ]
  },
  {
   "cell_type": "code",
   "execution_count": 69,
   "metadata": {},
   "outputs": [],
   "source": [
    "new_centroids = new_centroids.withColumn(\"centroid\", (F.udf(lambda x: np.array(x).mean(axis=1).tolist(), \"array<float>\"))(F.col(\"centroid\")))"
   ]
  },
  {
   "cell_type": "code",
   "execution_count": 70,
   "metadata": {},
   "outputs": [
    {
     "name": "stdout",
     "output_type": "stream",
     "text": [
      "+-------+--------------------+\n",
      "|c_index|            centroid|\n",
      "+-------+--------------------+\n",
      "|      0|[0.11368687, 0.13...|\n",
      "|      1|[0.10509677, 0.13...|\n",
      "|      2|[0.2707619, 0.182...|\n",
      "|      3|[0.11061728, 0.17...|\n",
      "|      4|[0.060365852, 0.1...|\n",
      "|      5|[0.119798996, 0.0...|\n",
      "|      6|[0.117189266, 0.1...|\n",
      "|      7|[0.06644317, 0.38...|\n",
      "|      8|[0.22782257, 0.25...|\n",
      "|      9|[0.14741258, 0.15...|\n",
      "+-------+--------------------+\n",
      "\n"
     ]
    }
   ],
   "source": [
    "new_centroids.show(12)"
   ]
  },
  {
   "cell_type": "code",
   "execution_count": 62,
   "metadata": {},
   "outputs": [
    {
     "data": {
      "text/plain": [
       "[0.11368686887075002,\n",
       " 0.13171717205934652,\n",
       " 0.3259595957669345,\n",
       " 0.21760942804492284,\n",
       " 0.4035858599475337,\n",
       " 0.1214814816447922,\n",
       " 0.19702020314481322,\n",
       " 0.1381313128001762,\n",
       " 0.1407912455825292,\n",
       " 0.28823232358816997,\n",
       " 0.09543771077235941,\n",
       " 0.5731649815923336,\n",
       " 0.1147474750550307,\n",
       " 0.029528619865777116,\n",
       " 0.04464646412517487,\n",
       " 0.2894949491327058,\n",
       " 0.2721212116361718,\n",
       " 0.23375420795082544,\n",
       " 1.718265993702492,\n",
       " 0.15373737274697333,\n",
       " 0.968838383076769,\n",
       " 0.4774579149153497,\n",
       " 0.17473064036255934,\n",
       " 0.11134680115965882,\n",
       " 0.49267676808504446,\n",
       " 0.18279461297974844,\n",
       " 0.08250841714115656,\n",
       " 0.05552188520278995,\n",
       " 0.039242424271524155,\n",
       " 0.04483164976090694,\n",
       " 0.03855218843679235,\n",
       " 0.020488215717000994,\n",
       " 0.05511784533458928,\n",
       " 0.021397306637129798,\n",
       " 0.05045454527693565,\n",
       " 0.06893939398831189,\n",
       " 0.14355218882111187,\n",
       " 0.012693602767355915,\n",
       " 0.03725589242346761,\n",
       " 0.07390572238550443,\n",
       " 0.02055555521839797,\n",
       " 0.03533670041860655,\n",
       " 0.03255892249595637,\n",
       " 0.025471380551154364,\n",
       " 0.12333333306641692,\n",
       " 0.12244107764565483,\n",
       " 0.006548821499652734,\n",
       " 0.026818181780050902,\n",
       " 0.11621885518433671,\n",
       " 0.14452693602446504,\n",
       " 0.01703198661287676,\n",
       " 0.2704191918011366,\n",
       " 0.12318518671743346,\n",
       " 0.08715488234384343,\n",
       " 6.887287874013085,\n",
       " 68.47138047138047,\n",
       " 350.7104377104377,\n",
       " 0.6043771043771043]"
      ]
     },
     "execution_count": 62,
     "metadata": {},
     "output_type": "execute_result"
    }
   ],
   "source": [
    "np.array(centroid_0[0][1]).mean(axis=1).tolist()"
   ]
  },
  {
   "cell_type": "code",
   "execution_count": null,
   "metadata": {},
   "outputs": [],
   "source": []
  }
 ],
 "metadata": {
  "kernelspec": {
   "display_name": "base",
   "language": "python",
   "name": "python3"
  },
  "language_info": {
   "codemirror_mode": {
    "name": "ipython",
    "version": 3
   },
   "file_extension": ".py",
   "mimetype": "text/x-python",
   "name": "python",
   "nbconvert_exporter": "python",
   "pygments_lexer": "ipython3",
   "version": "3.9.19"
  }
 },
 "nbformat": 4,
 "nbformat_minor": 2
}
