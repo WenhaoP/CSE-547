{
 "cells": [
  {
   "cell_type": "code",
   "execution_count": 89,
   "metadata": {},
   "outputs": [],
   "source": [
    "import numpy as np\n",
    "import pandas as pd\n",
    "from scipy.sparse.linalg import spsolve\n",
    "from scipy import sparse"
   ]
  },
  {
   "cell_type": "code",
   "execution_count": 90,
   "metadata": {},
   "outputs": [],
   "source": [
    "artists = pd.read_csv(\"hw2-bundle/hw2-bundle/implicit_feedback/data/artists.txt\", sep=\"\\t\")\n",
    "user_artists = pd.read_csv(\"hw2-bundle/hw2-bundle/implicit_feedback/data/user_artists.txt\", sep=\"\\t\")\n",
    "user_artists_small = pd.read_csv(\"hw2-bundle/hw2-bundle/implicit_feedback/data/user_artists_small.txt\", sep=\"\\t\")"
   ]
  },
  {
   "cell_type": "code",
   "execution_count": 91,
   "metadata": {},
   "outputs": [
    {
     "data": {
      "text/html": [
       "<div>\n",
       "<style scoped>\n",
       "    .dataframe tbody tr th:only-of-type {\n",
       "        vertical-align: middle;\n",
       "    }\n",
       "\n",
       "    .dataframe tbody tr th {\n",
       "        vertical-align: top;\n",
       "    }\n",
       "\n",
       "    .dataframe thead th {\n",
       "        text-align: right;\n",
       "    }\n",
       "</style>\n",
       "<table border=\"1\" class=\"dataframe\">\n",
       "  <thead>\n",
       "    <tr style=\"text-align: right;\">\n",
       "      <th></th>\n",
       "      <th>artistID</th>\n",
       "      <th>name</th>\n",
       "    </tr>\n",
       "  </thead>\n",
       "  <tbody>\n",
       "    <tr>\n",
       "      <th>0</th>\n",
       "      <td>0</td>\n",
       "      <td>MALICE MIZER</td>\n",
       "    </tr>\n",
       "    <tr>\n",
       "      <th>1</th>\n",
       "      <td>1</td>\n",
       "      <td>Diary of Dreams</td>\n",
       "    </tr>\n",
       "    <tr>\n",
       "      <th>2</th>\n",
       "      <td>2</td>\n",
       "      <td>Carpathian Forest</td>\n",
       "    </tr>\n",
       "  </tbody>\n",
       "</table>\n",
       "</div>"
      ],
      "text/plain": [
       "   artistID               name\n",
       "0         0       MALICE MIZER\n",
       "1         1    Diary of Dreams\n",
       "2         2  Carpathian Forest"
      ]
     },
     "execution_count": 91,
     "metadata": {},
     "output_type": "execute_result"
    }
   ],
   "source": [
    "artists.head(3)"
   ]
  },
  {
   "cell_type": "code",
   "execution_count": 92,
   "metadata": {},
   "outputs": [
    {
     "data": {
      "text/html": [
       "<div>\n",
       "<style scoped>\n",
       "    .dataframe tbody tr th:only-of-type {\n",
       "        vertical-align: middle;\n",
       "    }\n",
       "\n",
       "    .dataframe tbody tr th {\n",
       "        vertical-align: top;\n",
       "    }\n",
       "\n",
       "    .dataframe thead th {\n",
       "        text-align: right;\n",
       "    }\n",
       "</style>\n",
       "<table border=\"1\" class=\"dataframe\">\n",
       "  <thead>\n",
       "    <tr style=\"text-align: right;\">\n",
       "      <th></th>\n",
       "      <th>userID</th>\n",
       "      <th>artistID</th>\n",
       "      <th>interactions</th>\n",
       "    </tr>\n",
       "  </thead>\n",
       "  <tbody>\n",
       "    <tr>\n",
       "      <th>0</th>\n",
       "      <td>0</td>\n",
       "      <td>45</td>\n",
       "      <td>13883</td>\n",
       "    </tr>\n",
       "    <tr>\n",
       "      <th>1</th>\n",
       "      <td>0</td>\n",
       "      <td>46</td>\n",
       "      <td>11690</td>\n",
       "    </tr>\n",
       "    <tr>\n",
       "      <th>2</th>\n",
       "      <td>0</td>\n",
       "      <td>47</td>\n",
       "      <td>11351</td>\n",
       "    </tr>\n",
       "  </tbody>\n",
       "</table>\n",
       "</div>"
      ],
      "text/plain": [
       "   userID  artistID  interactions\n",
       "0       0        45         13883\n",
       "1       0        46         11690\n",
       "2       0        47         11351"
      ]
     },
     "execution_count": 92,
     "metadata": {},
     "output_type": "execute_result"
    }
   ],
   "source": [
    "user_artists.head(3)"
   ]
  },
  {
   "cell_type": "code",
   "execution_count": 93,
   "metadata": {},
   "outputs": [
    {
     "data": {
      "text/html": [
       "<div>\n",
       "<style scoped>\n",
       "    .dataframe tbody tr th:only-of-type {\n",
       "        vertical-align: middle;\n",
       "    }\n",
       "\n",
       "    .dataframe tbody tr th {\n",
       "        vertical-align: top;\n",
       "    }\n",
       "\n",
       "    .dataframe thead th {\n",
       "        text-align: right;\n",
       "    }\n",
       "</style>\n",
       "<table border=\"1\" class=\"dataframe\">\n",
       "  <thead>\n",
       "    <tr style=\"text-align: right;\">\n",
       "      <th></th>\n",
       "      <th>userID</th>\n",
       "      <th>artistID</th>\n",
       "      <th>interactions</th>\n",
       "    </tr>\n",
       "  </thead>\n",
       "  <tbody>\n",
       "    <tr>\n",
       "      <th>0</th>\n",
       "      <td>0</td>\n",
       "      <td>45</td>\n",
       "      <td>13883</td>\n",
       "    </tr>\n",
       "    <tr>\n",
       "      <th>1</th>\n",
       "      <td>0</td>\n",
       "      <td>46</td>\n",
       "      <td>11690</td>\n",
       "    </tr>\n",
       "    <tr>\n",
       "      <th>2</th>\n",
       "      <td>0</td>\n",
       "      <td>47</td>\n",
       "      <td>11351</td>\n",
       "    </tr>\n",
       "    <tr>\n",
       "      <th>3</th>\n",
       "      <td>0</td>\n",
       "      <td>48</td>\n",
       "      <td>10300</td>\n",
       "    </tr>\n",
       "    <tr>\n",
       "      <th>4</th>\n",
       "      <td>0</td>\n",
       "      <td>49</td>\n",
       "      <td>8983</td>\n",
       "    </tr>\n",
       "    <tr>\n",
       "      <th>...</th>\n",
       "      <td>...</td>\n",
       "      <td>...</td>\n",
       "      <td>...</td>\n",
       "    </tr>\n",
       "    <tr>\n",
       "      <th>260</th>\n",
       "      <td>94</td>\n",
       "      <td>75</td>\n",
       "      <td>73</td>\n",
       "    </tr>\n",
       "    <tr>\n",
       "      <th>261</th>\n",
       "      <td>94</td>\n",
       "      <td>83</td>\n",
       "      <td>45</td>\n",
       "    </tr>\n",
       "    <tr>\n",
       "      <th>262</th>\n",
       "      <td>95</td>\n",
       "      <td>59</td>\n",
       "      <td>194</td>\n",
       "    </tr>\n",
       "    <tr>\n",
       "      <th>263</th>\n",
       "      <td>96</td>\n",
       "      <td>7</td>\n",
       "      <td>1513</td>\n",
       "    </tr>\n",
       "    <tr>\n",
       "      <th>264</th>\n",
       "      <td>96</td>\n",
       "      <td>50</td>\n",
       "      <td>430</td>\n",
       "    </tr>\n",
       "  </tbody>\n",
       "</table>\n",
       "<p>265 rows × 3 columns</p>\n",
       "</div>"
      ],
      "text/plain": [
       "     userID  artistID  interactions\n",
       "0         0        45         13883\n",
       "1         0        46         11690\n",
       "2         0        47         11351\n",
       "3         0        48         10300\n",
       "4         0        49          8983\n",
       "..      ...       ...           ...\n",
       "260      94        75            73\n",
       "261      94        83            45\n",
       "262      95        59           194\n",
       "263      96         7          1513\n",
       "264      96        50           430\n",
       "\n",
       "[265 rows x 3 columns]"
      ]
     },
     "execution_count": 93,
     "metadata": {},
     "output_type": "execute_result"
    }
   ],
   "source": [
    "user_artists_small"
   ]
  },
  {
   "cell_type": "code",
   "execution_count": 104,
   "metadata": {},
   "outputs": [],
   "source": [
    "# m = 1882\n",
    "# n = 3000\n",
    "m = 100\n",
    "n = 100\n",
    "f = 3\n",
    "lamda = 0.01\n",
    "\n",
    "X = sparse.csr_matrix(np.zeros((m, f)) + 0.5)  \n",
    "Y = sparse.csr_matrix(np.zeros((n, f))) \n",
    "\n",
    "# construct the preference matrix and confidence matrix\n",
    "# YOUR CODE HERE\n",
    "data = user_artists_small\n",
    "# data = user_artists\n",
    "alpha = np.sum(data[\"interactions\"] > 0) / (m * n - np.sum(data[\"interactions\"] > 0))\n",
    "P = sparse.csr_matrix(((data[\"interactions\"] > 0).astype(int), (data[\"userID\"], data[\"artistID\"])), \n",
    "                      shape=(m, n))\n",
    "C = sparse.csr_matrix((1 + alpha * data[\"interactions\"], (data[\"userID\"], data[\"artistID\"])), \n",
    "                      shape=(m, n))    "
   ]
  },
  {
   "cell_type": "code",
   "execution_count": 103,
   "metadata": {},
   "outputs": [],
   "source": [
    "for i in range(len(user_artists_small)):\n",
    "    if (int(user_artists_small[\"interactions\"][i] > 0) != P[user_artists_small[\"userID\"][i], user_artists_small[\"artistID\"][i]]):\n",
    "        print(\"STOP\")"
   ]
  },
  {
   "cell_type": "code",
   "execution_count": 105,
   "metadata": {},
   "outputs": [],
   "source": [
    "def ALS(X, Y, P, C, m, n, f, lamda, MAX_ITER = 100):\n",
    "    \"\"\"\"\n",
    "    X: initial user matrix\n",
    "    Y: initial item matrix\n",
    "    P: preference matrix\n",
    "    C: confidence matrix\n",
    "    \"\"\"\n",
    "    # objective function\n",
    "    def objective(X, Y, C, P, lam):\n",
    "        return (C.multiply((P - X @ Y.T).power(2))).sum() + lam * ((X.power(2)).sum() + (Y.power(2)).sum())\n",
    "\n",
    "    # construct lambda * I\n",
    "    # YOUR CODE HERE\n",
    "    lamda_eye = lamda * sparse.eye(f, f)\n",
    "    objectives = np.zeros(MAX_ITER + 1)\n",
    "    objectives[0] = objective(X, Y, C, P, lamda)\n",
    "    print(f\"At iteration 0, the objective is {objectives[0]}.\")\n",
    "\n",
    "    for t in range(MAX_ITER):\n",
    "        # update item matrix\n",
    "        # YOUR CODE HERE\n",
    "        xTx = X.T.dot(X)\n",
    "        for item in range(n):\n",
    "            p_i = P[:, item]\n",
    "            # C_i_I = sparse.diags(C[:, item].toarray()) - sparse.eye(m, m)  \n",
    "            C_i_I = sparse.diags_array([C[j,item] for j in range(C.shape[0])]) - sparse.eye(m, m)       # the sparse matrix: C_i - I\n",
    "            left = xTx + X.T.dot(C_i_I).dot(X) + lamda_eye\t# please use the trick in spec \n",
    "            right = X.T.dot(C_i_I).dot(p_i) + X.T.dot(p_i)\t   # please use the trick in spec \n",
    "            y_i = spsolve(left, right)\n",
    "            Y[item] = y_i\n",
    "        \n",
    "        # update user matrix   \n",
    "        # YOUR CODE HERE     \t\n",
    "        yTy = Y.T.dot(Y)\n",
    "        for user in range(m):\n",
    "            p_u = P[user, :].T\n",
    "            C_u_I = sparse.diags_array([C[user,j] for j in range(C.shape[1])]) - sparse.eye(n, n)      # the sparse matrix: C_u - I\n",
    "            left = yTy + Y.T.dot(C_u_I).dot(Y) + lamda_eye\t   # please use the trick in spec \n",
    "            right =  Y.T.dot(C_u_I).dot(p_u) + Y.T.dot(p_u)      # please use the trick in spec \n",
    "            x_u = spsolve(left, right)\n",
    "            X[user] = x_u\n",
    "        \n",
    "        objectives[t + 1] = objective(X, Y, C, P, lamda)\n",
    "        print(f\"At iteration {t + 1}, the objective is {objectives[t + 1]}.\")\n",
    "    return X, Y, objectives"
   ]
  },
  {
   "cell_type": "code",
   "execution_count": 108,
   "metadata": {},
   "outputs": [
    {
     "name": "stdout",
     "output_type": "stream",
     "text": [
      "At iteration 0, the objective is 1.5081458831779613.\n"
     ]
    }
   ],
   "source": [
    "result = ALS(X, Y, P, C, m, n, f, lamda)"
   ]
  },
  {
   "cell_type": "code",
   "execution_count": 66,
   "metadata": {},
   "outputs": [
    {
     "data": {
      "text/plain": [
       "array([[36, 43, 24, 44, 22, 21, 20, 19, 18, 34, 16, 15, 14, 28, 40, 11,\n",
       "        10,  9,  8, 38, 32, 37,  4,  3,  2,  1, 26, 42, 99, 98, 96, 97,\n",
       "        95, 41, 12, 13,  0, 39, 33, 29, 30,  5, 23, 25, 31, 27, 17,  7,\n",
       "         6, 90, 89, 88, 87, 86, 84, 81, 80, 92, 77, 85, 73, 76, 78, 72,\n",
       "        66, 93, 68, 67, 59, 94, 69, 75, 56, 50, 62, 82, 70, 54, 64, 49,\n",
       "        91, 65, 79, 60, 45, 57, 61, 35, 55, 51, 71, 63, 74, 52, 46, 53,\n",
       "        47, 48, 83, 58]], dtype=int64)"
      ]
     },
     "execution_count": 66,
     "metadata": {},
     "output_type": "execute_result"
    }
   ],
   "source": [
    "np.argsort((result[0] @ result[1].T)[0,:].toarray())"
   ]
  }
 ],
 "metadata": {
  "kernelspec": {
   "display_name": "base",
   "language": "python",
   "name": "python3"
  },
  "language_info": {
   "codemirror_mode": {
    "name": "ipython",
    "version": 3
   },
   "file_extension": ".py",
   "mimetype": "text/x-python",
   "name": "python",
   "nbconvert_exporter": "python",
   "pygments_lexer": "ipython3",
   "version": "3.9.19"
  }
 },
 "nbformat": 4,
 "nbformat_minor": 2
}
