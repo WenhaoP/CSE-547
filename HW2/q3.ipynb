{
 "cells": [
  {
   "cell_type": "code",
   "execution_count": 1,
   "metadata": {},
   "outputs": [],
   "source": [
    "import numpy as np\n",
    "import pandas as pd\n",
    "from scipy.sparse.linalg import spsolve\n",
    "from scipy import sparse"
   ]
  },
  {
   "cell_type": "code",
   "execution_count": 2,
   "metadata": {},
   "outputs": [],
   "source": [
    "artists = pd.read_csv(\"hw2-bundle/hw2-bundle/implicit_feedback/data/artists.txt\", sep=\"\\t\")\n",
    "user_artists = pd.read_csv(\"hw2-bundle/hw2-bundle/implicit_feedback/data/user_artists.txt\", sep=\"\\t\")\n",
    "user_artists_small = pd.read_csv(\"hw2-bundle/hw2-bundle/implicit_feedback/data/user_artists_small.txt\", sep=\"\\t\")"
   ]
  },
  {
   "cell_type": "code",
   "execution_count": 3,
   "metadata": {},
   "outputs": [
    {
     "data": {
      "text/html": [
       "<div>\n",
       "<style scoped>\n",
       "    .dataframe tbody tr th:only-of-type {\n",
       "        vertical-align: middle;\n",
       "    }\n",
       "\n",
       "    .dataframe tbody tr th {\n",
       "        vertical-align: top;\n",
       "    }\n",
       "\n",
       "    .dataframe thead th {\n",
       "        text-align: right;\n",
       "    }\n",
       "</style>\n",
       "<table border=\"1\" class=\"dataframe\">\n",
       "  <thead>\n",
       "    <tr style=\"text-align: right;\">\n",
       "      <th></th>\n",
       "      <th>artistID</th>\n",
       "      <th>name</th>\n",
       "    </tr>\n",
       "  </thead>\n",
       "  <tbody>\n",
       "    <tr>\n",
       "      <th>0</th>\n",
       "      <td>0</td>\n",
       "      <td>MALICE MIZER</td>\n",
       "    </tr>\n",
       "    <tr>\n",
       "      <th>1</th>\n",
       "      <td>1</td>\n",
       "      <td>Diary of Dreams</td>\n",
       "    </tr>\n",
       "    <tr>\n",
       "      <th>2</th>\n",
       "      <td>2</td>\n",
       "      <td>Carpathian Forest</td>\n",
       "    </tr>\n",
       "  </tbody>\n",
       "</table>\n",
       "</div>"
      ],
      "text/plain": [
       "   artistID               name\n",
       "0         0       MALICE MIZER\n",
       "1         1    Diary of Dreams\n",
       "2         2  Carpathian Forest"
      ]
     },
     "execution_count": 3,
     "metadata": {},
     "output_type": "execute_result"
    }
   ],
   "source": [
    "artists.head(3)"
   ]
  },
  {
   "cell_type": "code",
   "execution_count": 4,
   "metadata": {},
   "outputs": [
    {
     "data": {
      "text/html": [
       "<div>\n",
       "<style scoped>\n",
       "    .dataframe tbody tr th:only-of-type {\n",
       "        vertical-align: middle;\n",
       "    }\n",
       "\n",
       "    .dataframe tbody tr th {\n",
       "        vertical-align: top;\n",
       "    }\n",
       "\n",
       "    .dataframe thead th {\n",
       "        text-align: right;\n",
       "    }\n",
       "</style>\n",
       "<table border=\"1\" class=\"dataframe\">\n",
       "  <thead>\n",
       "    <tr style=\"text-align: right;\">\n",
       "      <th></th>\n",
       "      <th>userID</th>\n",
       "      <th>artistID</th>\n",
       "      <th>interactions</th>\n",
       "    </tr>\n",
       "  </thead>\n",
       "  <tbody>\n",
       "    <tr>\n",
       "      <th>0</th>\n",
       "      <td>0</td>\n",
       "      <td>45</td>\n",
       "      <td>13883</td>\n",
       "    </tr>\n",
       "    <tr>\n",
       "      <th>1</th>\n",
       "      <td>0</td>\n",
       "      <td>46</td>\n",
       "      <td>11690</td>\n",
       "    </tr>\n",
       "    <tr>\n",
       "      <th>2</th>\n",
       "      <td>0</td>\n",
       "      <td>47</td>\n",
       "      <td>11351</td>\n",
       "    </tr>\n",
       "  </tbody>\n",
       "</table>\n",
       "</div>"
      ],
      "text/plain": [
       "   userID  artistID  interactions\n",
       "0       0        45         13883\n",
       "1       0        46         11690\n",
       "2       0        47         11351"
      ]
     },
     "execution_count": 4,
     "metadata": {},
     "output_type": "execute_result"
    }
   ],
   "source": [
    "user_artists.head(3)"
   ]
  },
  {
   "cell_type": "code",
   "execution_count": 5,
   "metadata": {},
   "outputs": [
    {
     "data": {
      "text/html": [
       "<div>\n",
       "<style scoped>\n",
       "    .dataframe tbody tr th:only-of-type {\n",
       "        vertical-align: middle;\n",
       "    }\n",
       "\n",
       "    .dataframe tbody tr th {\n",
       "        vertical-align: top;\n",
       "    }\n",
       "\n",
       "    .dataframe thead th {\n",
       "        text-align: right;\n",
       "    }\n",
       "</style>\n",
       "<table border=\"1\" class=\"dataframe\">\n",
       "  <thead>\n",
       "    <tr style=\"text-align: right;\">\n",
       "      <th></th>\n",
       "      <th>userID</th>\n",
       "      <th>artistID</th>\n",
       "      <th>interactions</th>\n",
       "    </tr>\n",
       "  </thead>\n",
       "  <tbody>\n",
       "    <tr>\n",
       "      <th>0</th>\n",
       "      <td>0</td>\n",
       "      <td>45</td>\n",
       "      <td>13883</td>\n",
       "    </tr>\n",
       "    <tr>\n",
       "      <th>1</th>\n",
       "      <td>0</td>\n",
       "      <td>46</td>\n",
       "      <td>11690</td>\n",
       "    </tr>\n",
       "    <tr>\n",
       "      <th>2</th>\n",
       "      <td>0</td>\n",
       "      <td>47</td>\n",
       "      <td>11351</td>\n",
       "    </tr>\n",
       "    <tr>\n",
       "      <th>3</th>\n",
       "      <td>0</td>\n",
       "      <td>48</td>\n",
       "      <td>10300</td>\n",
       "    </tr>\n",
       "    <tr>\n",
       "      <th>4</th>\n",
       "      <td>0</td>\n",
       "      <td>49</td>\n",
       "      <td>8983</td>\n",
       "    </tr>\n",
       "    <tr>\n",
       "      <th>...</th>\n",
       "      <td>...</td>\n",
       "      <td>...</td>\n",
       "      <td>...</td>\n",
       "    </tr>\n",
       "    <tr>\n",
       "      <th>260</th>\n",
       "      <td>94</td>\n",
       "      <td>75</td>\n",
       "      <td>73</td>\n",
       "    </tr>\n",
       "    <tr>\n",
       "      <th>261</th>\n",
       "      <td>94</td>\n",
       "      <td>83</td>\n",
       "      <td>45</td>\n",
       "    </tr>\n",
       "    <tr>\n",
       "      <th>262</th>\n",
       "      <td>95</td>\n",
       "      <td>59</td>\n",
       "      <td>194</td>\n",
       "    </tr>\n",
       "    <tr>\n",
       "      <th>263</th>\n",
       "      <td>96</td>\n",
       "      <td>7</td>\n",
       "      <td>1513</td>\n",
       "    </tr>\n",
       "    <tr>\n",
       "      <th>264</th>\n",
       "      <td>96</td>\n",
       "      <td>50</td>\n",
       "      <td>430</td>\n",
       "    </tr>\n",
       "  </tbody>\n",
       "</table>\n",
       "<p>265 rows × 3 columns</p>\n",
       "</div>"
      ],
      "text/plain": [
       "     userID  artistID  interactions\n",
       "0         0        45         13883\n",
       "1         0        46         11690\n",
       "2         0        47         11351\n",
       "3         0        48         10300\n",
       "4         0        49          8983\n",
       "..      ...       ...           ...\n",
       "260      94        75            73\n",
       "261      94        83            45\n",
       "262      95        59           194\n",
       "263      96         7          1513\n",
       "264      96        50           430\n",
       "\n",
       "[265 rows x 3 columns]"
      ]
     },
     "execution_count": 5,
     "metadata": {},
     "output_type": "execute_result"
    }
   ],
   "source": [
    "user_artists_small"
   ]
  },
  {
   "cell_type": "code",
   "execution_count": 49,
   "metadata": {},
   "outputs": [],
   "source": [
    "def ALS(X, Y, P, C, m, n, f, lamda, MAX_ITER = 100):\n",
    "    \"\"\"\"\n",
    "    X: initial user matrix\n",
    "    Y: initial item matrix\n",
    "    P: preference matrix\n",
    "    C: confidence matrix\n",
    "    \"\"\"\n",
    "    # objective function\n",
    "    def objective(X, Y, C, P, lam):\n",
    "        return (C.multiply((P - X @ Y.T).power(2))).sum() + lam * ((X.power(2)).sum() + (Y.power(2)).sum())\n",
    "    \n",
    "    # construct lambda * I\n",
    "    # YOUR CODE HERE\n",
    "    C_arr = C.toarray()\n",
    "\n",
    "    lamda_eye = lamda * sparse.eye(f)\n",
    "    objectives = np.zeros(MAX_ITER + 1)\n",
    "    objectives[0] = objective(X, Y, C, P, lamda)\n",
    "    print(f\"At iteration 0, the objective is {objectives[0]}.\")\n",
    "\n",
    "    for t in range(MAX_ITER):\n",
    "        # update item matrix\n",
    "        # YOUR CODE HERE\n",
    "        xTx = X.T.dot(X)\n",
    "        for item in range(n):\n",
    "            p_i = P[:, item]\n",
    "            C_i_I = sparse.diags(C_arr[:, item] - 1) # the sparse matrix: C_i - I\n",
    "            left = xTx + X.T.dot(C_i_I).dot(X) + lamda_eye\t# please use the trick in spec \n",
    "            right = X.T.dot(C_i_I).dot(p_i) + X.T.dot(p_i)  # please use the trick in spec \n",
    "            y_i = spsolve(left, right)\n",
    "            Y[item] = y_i\n",
    "        \n",
    "        # update user matrix   \n",
    "        # YOUR CODE HERE     \t\n",
    "        yTy = Y.T.dot(Y)\n",
    "        for user in range(m):\n",
    "            p_u = P[user, :]\n",
    "            C_u_I = sparse.diags(C_arr[user, :] - 1) # the sparse matrix: C_u - I\n",
    "            left = yTy + Y.T.dot(C_u_I).dot(Y) + lamda_eye\t   # please use the trick in spec \n",
    "            right = Y.T.dot(C_u_I).dot(p_u.T) + Y.T.dot(p_u.T) # please use the trick in spec  \n",
    "            x_u = spsolve(left, right)\n",
    "            X[user] = x_u\n",
    "        \n",
    "        objectives[t + 1] = objective(X, Y, C, P, lamda)\n",
    "        print(f\"At iteration {t + 1}, the objective is {objectives[t + 1]}.\")\n",
    "    return X, Y, objectives"
   ]
  },
  {
   "cell_type": "code",
   "execution_count": 50,
   "metadata": {},
   "outputs": [
    {
     "name": "stdout",
     "output_type": "stream",
     "text": [
      "At iteration 0, the objective is 10288.820364663583.\n",
      "At iteration 1, the objective is 1521.5837230367001.\n"
     ]
    },
    {
     "name": "stderr",
     "output_type": "stream",
     "text": [
      "c:\\Users\\Wenhao\\miniconda3\\lib\\site-packages\\scipy\\sparse\\_index.py:151: SparseEfficiencyWarning: Changing the sparsity structure of a csr_matrix is expensive. lil_matrix is more efficient.\n",
      "  self._set_arrayXarray(i, j, x)\n"
     ]
    },
    {
     "name": "stdout",
     "output_type": "stream",
     "text": [
      "At iteration 2, the objective is 1275.9841947818654.\n",
      "At iteration 3, the objective is 670.5872008351457.\n",
      "At iteration 4, the objective is 528.8580988675013.\n",
      "At iteration 5, the objective is 490.60347545111665.\n",
      "At iteration 6, the objective is 477.3417601383327.\n",
      "At iteration 7, the objective is 471.26943470162604.\n",
      "At iteration 8, the objective is 467.94516243848307.\n",
      "At iteration 9, the objective is 465.9653617748636.\n",
      "At iteration 10, the objective is 464.7322284072405.\n",
      "At iteration 11, the objective is 463.93495724937463.\n",
      "At iteration 12, the objective is 463.3902210969555.\n",
      "At iteration 13, the objective is 462.9892021559074.\n",
      "At iteration 14, the objective is 462.6654775596513.\n",
      "At iteration 15, the objective is 462.3735488516737.\n",
      "At iteration 16, the objective is 462.0769399727785.\n",
      "At iteration 17, the objective is 461.75205036062863.\n",
      "At iteration 18, the objective is 461.418042871524.\n",
      "At iteration 19, the objective is 461.14093436674773.\n",
      "At iteration 20, the objective is 460.95685271237153.\n",
      "At iteration 21, the objective is 460.84842368553745.\n",
      "At iteration 22, the objective is 460.7860610753398.\n",
      "At iteration 23, the objective is 460.7485422300183.\n",
      "At iteration 24, the objective is 460.7238643127934.\n",
      "At iteration 25, the objective is 460.7058469931667.\n",
      "At iteration 26, the objective is 460.69140234497814.\n",
      "At iteration 27, the objective is 460.678976208172.\n",
      "At iteration 28, the objective is 460.66776136184296.\n",
      "At iteration 29, the objective is 460.65731880206647.\n",
      "At iteration 30, the objective is 460.64739703175627.\n",
      "At iteration 31, the objective is 460.63784445558196.\n",
      "At iteration 32, the objective is 460.62856549537383.\n",
      "At iteration 33, the objective is 460.6194976169455.\n",
      "At iteration 34, the objective is 460.6105986887946.\n",
      "At iteration 35, the objective is 460.6018396662818.\n",
      "At iteration 36, the objective is 460.5932001559067.\n",
      "At iteration 37, the objective is 460.58466561614193.\n",
      "At iteration 38, the objective is 460.57622553283227.\n",
      "At iteration 39, the objective is 460.5678721994659.\n",
      "At iteration 40, the objective is 460.5595998860495.\n",
      "At iteration 41, the objective is 460.5514042646042.\n",
      "At iteration 42, the objective is 460.5432820077767.\n",
      "At iteration 43, the objective is 460.5352305061347.\n",
      "At iteration 44, the objective is 460.52724766782967.\n",
      "At iteration 45, the objective is 460.5193317759496.\n",
      "At iteration 46, the objective is 460.511481386563.\n",
      "At iteration 47, the objective is 460.5036952556189.\n",
      "At iteration 48, the objective is 460.4959722863938.\n",
      "At iteration 49, the objective is 460.48831149162413.\n",
      "At iteration 50, the objective is 460.4807119661568.\n",
      "At iteration 51, the objective is 460.4731728671558.\n",
      "At iteration 52, the objective is 460.4656933997462.\n",
      "At iteration 53, the objective is 460.45827280657664.\n",
      "At iteration 54, the objective is 460.45091036021034.\n",
      "At iteration 55, the objective is 460.44360535756283.\n",
      "At iteration 56, the objective is 460.4363571158194.\n",
      "At iteration 57, the objective is 460.4291649694273.\n",
      "At iteration 58, the objective is 460.42202826786524.\n",
      "At iteration 59, the objective is 460.41494637398085.\n",
      "At iteration 60, the objective is 460.4079186627383.\n",
      "At iteration 61, the objective is 460.40094452026716.\n",
      "At iteration 62, the objective is 460.3940233431304.\n",
      "At iteration 63, the objective is 460.3871545377507.\n",
      "At iteration 64, the objective is 460.38033751995664.\n",
      "At iteration 65, the objective is 460.3735717146119.\n",
      "At iteration 66, the objective is 460.3668565553101.\n",
      "At iteration 67, the objective is 460.36019148411475.\n",
      "At iteration 68, the objective is 460.35357595133536.\n",
      "At iteration 69, the objective is 460.3470094153274.\n",
      "At iteration 70, the objective is 460.34049134231424.\n",
      "At iteration 71, the objective is 460.3340212062211.\n",
      "At iteration 72, the objective is 460.3275984885224.\n",
      "At iteration 73, the objective is 460.3212226780974.\n",
      "At iteration 74, the objective is 460.3148932710919.\n",
      "At iteration 75, the objective is 460.3086097707864.\n",
      "At iteration 76, the objective is 460.30237168746964.\n",
      "At iteration 77, the objective is 460.29617853831394.\n",
      "At iteration 78, the objective is 460.2900298472561.\n",
      "At iteration 79, the objective is 460.28392514488.\n",
      "At iteration 80, the objective is 460.277863968303.\n",
      "At iteration 81, the objective is 460.2718458610636.\n",
      "At iteration 82, the objective is 460.2658703730119.\n",
      "At iteration 83, the objective is 460.2599370602039.\n",
      "At iteration 84, the objective is 460.25404548479446.\n",
      "At iteration 85, the objective is 460.2481952149359.\n",
      "At iteration 86, the objective is 460.2423858246766.\n",
      "At iteration 87, the objective is 460.236616893862.\n",
      "At iteration 88, the objective is 460.2308880080371.\n",
      "At iteration 89, the objective is 460.2251987583519.\n",
      "At iteration 90, the objective is 460.21954874146775.\n",
      "At iteration 91, the objective is 460.2139375594655.\n",
      "At iteration 92, the objective is 460.20836481975516.\n",
      "At iteration 93, the objective is 460.20283013498903.\n",
      "At iteration 94, the objective is 460.1973331229738.\n",
      "At iteration 95, the objective is 460.1918734065865.\n",
      "At iteration 96, the objective is 460.18645061369097.\n",
      "At iteration 97, the objective is 460.1810643770562.\n",
      "At iteration 98, the objective is 460.17571433427617.\n",
      "At iteration 99, the objective is 460.1704001276916.\n",
      "At iteration 100, the objective is 460.1651214043124.\n"
     ]
    }
   ],
   "source": [
    "# m = 1882\n",
    "# n = 3000\n",
    "m = 100\n",
    "n = 100\n",
    "f = 3\n",
    "lamda = 0.01\n",
    "\n",
    "X = sparse.csr_matrix(np.zeros((m, f)) + 0.5)  \n",
    "Y = sparse.csr_matrix(np.zeros((n, f))) \n",
    "\n",
    "# construct the preference matrix and confidence matrix\n",
    "# YOUR CODE HERE\n",
    "data = user_artists_small\n",
    "# data = user_artists   \n",
    "\n",
    "R = sparse.csr_matrix((data[\"interactions\"], (data[\"userID\"], data[\"artistID\"])), \n",
    "                        shape=(m,n))\n",
    "P = (R > 0)\n",
    "alpha = np.sum(P) / (m * n - np.sum(P))\n",
    "C = sparse.csr_matrix(1 + alpha * R.toarray())\n",
    "\n",
    "result = ALS(X.copy(), Y.copy(), P, C, m, n, f, lamda)"
   ]
  },
  {
   "cell_type": "code",
   "execution_count": 42,
   "metadata": {},
   "outputs": [
    {
     "data": {
      "text/plain": [
       "<100x100 sparse matrix of type '<class 'numpy.int32'>'\n",
       "\twith 265 stored elements in Compressed Sparse Row format>"
      ]
     },
     "execution_count": 42,
     "metadata": {},
     "output_type": "execute_result"
    }
   ],
   "source": [
    "P"
   ]
  },
  {
   "cell_type": "code",
   "execution_count": 48,
   "metadata": {},
   "outputs": [
    {
     "name": "stderr",
     "output_type": "stream",
     "text": [
      "c:\\Users\\Wenhao\\miniconda3\\lib\\site-packages\\IPython\\core\\interactiveshell.py:3505: SparseEfficiencyWarning: Comparing sparse matrices using == is inefficient, try using != instead.\n",
      "  exec(code_obj, self.user_global_ns, self.user_ns)\n"
     ]
    },
    {
     "data": {
      "text/plain": [
       "False"
      ]
     },
     "execution_count": 48,
     "metadata": {},
     "output_type": "execute_result"
    }
   ],
   "source": [
    "np.all((C == C_2).toarray())"
   ]
  },
  {
   "cell_type": "code",
   "execution_count": 66,
   "metadata": {},
   "outputs": [
    {
     "data": {
      "text/plain": [
       "array([[36, 43, 24, 44, 22, 21, 20, 19, 18, 34, 16, 15, 14, 28, 40, 11,\n",
       "        10,  9,  8, 38, 32, 37,  4,  3,  2,  1, 26, 42, 99, 98, 96, 97,\n",
       "        95, 41, 12, 13,  0, 39, 33, 29, 30,  5, 23, 25, 31, 27, 17,  7,\n",
       "         6, 90, 89, 88, 87, 86, 84, 81, 80, 92, 77, 85, 73, 76, 78, 72,\n",
       "        66, 93, 68, 67, 59, 94, 69, 75, 56, 50, 62, 82, 70, 54, 64, 49,\n",
       "        91, 65, 79, 60, 45, 57, 61, 35, 55, 51, 71, 63, 74, 52, 46, 53,\n",
       "        47, 48, 83, 58]], dtype=int64)"
      ]
     },
     "execution_count": 66,
     "metadata": {},
     "output_type": "execute_result"
    }
   ],
   "source": [
    "np.argsort((result[0] @ result[1].T)[0,:].toarray())"
   ]
  }
 ],
 "metadata": {
  "kernelspec": {
   "display_name": "base",
   "language": "python",
   "name": "python3"
  },
  "language_info": {
   "codemirror_mode": {
    "name": "ipython",
    "version": 3
   },
   "file_extension": ".py",
   "mimetype": "text/x-python",
   "name": "python",
   "nbconvert_exporter": "python",
   "pygments_lexer": "ipython3",
   "version": "3.9.12"
  }
 },
 "nbformat": 4,
 "nbformat_minor": 2
}
